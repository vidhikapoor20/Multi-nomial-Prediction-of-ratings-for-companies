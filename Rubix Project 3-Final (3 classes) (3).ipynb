{
 "cells": [
  {
   "cell_type": "markdown",
   "metadata": {},
   "source": [
    "## Importing the necessary libraries of python"
   ]
  },
  {
   "cell_type": "code",
   "execution_count": 1,
   "metadata": {},
   "outputs": [],
   "source": [
    "import numpy as np\n",
    "import pandas as pd\n",
    "import matplotlib.pyplot as plt\n",
    "import seaborn as sns "
   ]
  },
  {
   "cell_type": "markdown",
   "metadata": {},
   "source": [
    "## Importing dataset"
   ]
  },
  {
   "cell_type": "code",
   "execution_count": 2,
   "metadata": {},
   "outputs": [],
   "source": [
    "df = pd.read_csv(\"C:/Users/Dell laptop/Desktop/Rubix Project 2/Project 3 3classes.csv\",header=0)"
   ]
  },
  {
   "cell_type": "markdown",
   "metadata": {},
   "source": [
    "## Data Preprocessing "
   ]
  },
  {
   "cell_type": "code",
   "execution_count": null,
   "metadata": {},
   "outputs": [],
   "source": [
    "## Seeing the first 5 rows of the dataset to see the number of columns and other information\n",
    "df.head()"
   ]
  },
  {
   "cell_type": "code",
   "execution_count": null,
   "metadata": {},
   "outputs": [],
   "source": [
    "## To see the datatype of each feature \n",
    "df.info()"
   ]
  },
  {
   "cell_type": "code",
   "execution_count": null,
   "metadata": {},
   "outputs": [],
   "source": [
    "## To see the additional features of the dataset and detect possible columns that have outliers\n",
    "df.describe()"
   ]
  },
  {
   "cell_type": "code",
   "execution_count": 3,
   "metadata": {},
   "outputs": [],
   "source": [
    "## Retaining only those rows of Sales where there are no NA values\n",
    "df2 = df[df['Sales'].notna()]"
   ]
  },
  {
   "cell_type": "code",
   "execution_count": 4,
   "metadata": {},
   "outputs": [
    {
     "data": {
      "text/plain": [
       "Company Name                                 0.000000\n",
       "Year                                         0.000000\n",
       "Normalized Rating                            0.000000\n",
       "Ratings                                      0.000000\n",
       "Sales                                        0.000000\n",
       "GP Margin %                                  0.000000\n",
       "PBDIT Margin %                               0.000000\n",
       "PAT Margin %                                 0.000000\n",
       "PBT Percentage %                             0.000000\n",
       "Quick ratio (times)                          0.137725\n",
       "Current ratio (times)                        0.137725\n",
       "Debt to equity ratio (times)                 3.971078\n",
       "Interest cover (times)                      11.947664\n",
       "Raw material cycle (days)                   25.616894\n",
       "WIP cycle (days)                            39.837025\n",
       "Finished goods cycle (days)                 25.479169\n",
       "Inventory Days                              13.829909\n",
       "Debtor days (days)                           4.613795\n",
       "Gross working capital cycle (days)           4.338345\n",
       "Creditor days (days)                         5.336853\n",
       "Net working capital cycle (days)             3.948123\n",
       "Total Income/Total asset                     0.000000\n",
       "Total Income/ Compansation to employees      1.182142\n",
       "Sales / GFA                                  0.332836\n",
       "Sales / net fixed Assets                     0.275450\n",
       "Debt/EBIT                                    0.011477\n",
       "Total Outside liability/ Total Net Worth     0.000000\n",
       "Return on net worth                          7.115804\n",
       "Return on total assets                       3.672673\n",
       "dtype: float64"
      ]
     },
     "execution_count": 4,
     "metadata": {},
     "output_type": "execute_result"
    }
   ],
   "source": [
    "## Checking the percentage of all NA values present in the dataset\n",
    "(df2.isna().sum())/df2.shape[0]*100"
   ]
  },
  {
   "cell_type": "markdown",
   "metadata": {},
   "source": [
    "### Deleting those columns which have more than 20% of NA values"
   ]
  },
  {
   "cell_type": "code",
   "execution_count": 5,
   "metadata": {},
   "outputs": [],
   "source": [
    "del df2['WIP cycle (days)']"
   ]
  },
  {
   "cell_type": "code",
   "execution_count": 6,
   "metadata": {},
   "outputs": [],
   "source": [
    "del df2['Raw material cycle (days)']"
   ]
  },
  {
   "cell_type": "code",
   "execution_count": 7,
   "metadata": {},
   "outputs": [],
   "source": [
    "del df2['Finished goods cycle (days)']"
   ]
  },
  {
   "cell_type": "code",
   "execution_count": 8,
   "metadata": {},
   "outputs": [
    {
     "data": {
      "text/html": [
       "<div>\n",
       "<style scoped>\n",
       "    .dataframe tbody tr th:only-of-type {\n",
       "        vertical-align: middle;\n",
       "    }\n",
       "\n",
       "    .dataframe tbody tr th {\n",
       "        vertical-align: top;\n",
       "    }\n",
       "\n",
       "    .dataframe thead th {\n",
       "        text-align: right;\n",
       "    }\n",
       "</style>\n",
       "<table border=\"1\" class=\"dataframe\">\n",
       "  <thead>\n",
       "    <tr style=\"text-align: right;\">\n",
       "      <th></th>\n",
       "      <th>Company Name</th>\n",
       "      <th>Year</th>\n",
       "      <th>Normalized Rating</th>\n",
       "      <th>Ratings</th>\n",
       "      <th>Sales</th>\n",
       "      <th>GP Margin %</th>\n",
       "      <th>PBDIT Margin %</th>\n",
       "      <th>PAT Margin %</th>\n",
       "      <th>PBT Percentage %</th>\n",
       "      <th>Quick ratio (times)</th>\n",
       "      <th>...</th>\n",
       "      <th>Creditor days (days)</th>\n",
       "      <th>Net working capital cycle (days)</th>\n",
       "      <th>Total Income/Total asset</th>\n",
       "      <th>Total Income/ Compansation to employees</th>\n",
       "      <th>Sales / GFA</th>\n",
       "      <th>Sales / net fixed Assets</th>\n",
       "      <th>Debt/EBIT</th>\n",
       "      <th>Total Outside liability/ Total Net Worth</th>\n",
       "      <th>Return on net worth</th>\n",
       "      <th>Return on total assets</th>\n",
       "    </tr>\n",
       "  </thead>\n",
       "  <tbody>\n",
       "    <tr>\n",
       "      <th>0</th>\n",
       "      <td>A B I-Showatech (India) Ltd.</td>\n",
       "      <td>2009</td>\n",
       "      <td>1</td>\n",
       "      <td>A1</td>\n",
       "      <td>1481.6</td>\n",
       "      <td>41.85</td>\n",
       "      <td>22.79</td>\n",
       "      <td>10.93</td>\n",
       "      <td>12.90</td>\n",
       "      <td>0.85</td>\n",
       "      <td>...</td>\n",
       "      <td>98.0</td>\n",
       "      <td>36.0</td>\n",
       "      <td>1.15</td>\n",
       "      <td>12.79</td>\n",
       "      <td>1.05</td>\n",
       "      <td>2.20</td>\n",
       "      <td>0.47</td>\n",
       "      <td>1.38</td>\n",
       "      <td>17.63</td>\n",
       "      <td>12.13</td>\n",
       "    </tr>\n",
       "    <tr>\n",
       "      <th>2</th>\n",
       "      <td>A L P Nishikawa Co. Pvt. Ltd.</td>\n",
       "      <td>2009</td>\n",
       "      <td>2</td>\n",
       "      <td>A4</td>\n",
       "      <td>914.1</td>\n",
       "      <td>32.43</td>\n",
       "      <td>9.15</td>\n",
       "      <td>1.60</td>\n",
       "      <td>4.99</td>\n",
       "      <td>0.44</td>\n",
       "      <td>...</td>\n",
       "      <td>NaN</td>\n",
       "      <td>NaN</td>\n",
       "      <td>1.13</td>\n",
       "      <td>13.28</td>\n",
       "      <td>1.34</td>\n",
       "      <td>2.70</td>\n",
       "      <td>3.22</td>\n",
       "      <td>3.15</td>\n",
       "      <td>NaN</td>\n",
       "      <td>NaN</td>\n",
       "    </tr>\n",
       "    <tr>\n",
       "      <th>3</th>\n",
       "      <td>A M C L Machinery Ltd.</td>\n",
       "      <td>2009</td>\n",
       "      <td>1</td>\n",
       "      <td>A1</td>\n",
       "      <td>710.8</td>\n",
       "      <td>40.18</td>\n",
       "      <td>23.45</td>\n",
       "      <td>20.33</td>\n",
       "      <td>20.85</td>\n",
       "      <td>0.90</td>\n",
       "      <td>...</td>\n",
       "      <td>36.0</td>\n",
       "      <td>149.0</td>\n",
       "      <td>1.09</td>\n",
       "      <td>24.60</td>\n",
       "      <td>2.99</td>\n",
       "      <td>17.64</td>\n",
       "      <td>0.47</td>\n",
       "      <td>4.48</td>\n",
       "      <td>78.35</td>\n",
       "      <td>14.02</td>\n",
       "    </tr>\n",
       "    <tr>\n",
       "      <th>4</th>\n",
       "      <td>A T C Telecom Infrastructure Pvt. Ltd.</td>\n",
       "      <td>2009</td>\n",
       "      <td>1</td>\n",
       "      <td>A1</td>\n",
       "      <td>8195.2</td>\n",
       "      <td>58.66</td>\n",
       "      <td>24.18</td>\n",
       "      <td>-27.62</td>\n",
       "      <td>-7.02</td>\n",
       "      <td>0.40</td>\n",
       "      <td>...</td>\n",
       "      <td>292.0</td>\n",
       "      <td>-199.0</td>\n",
       "      <td>0.24</td>\n",
       "      <td>33.10</td>\n",
       "      <td>0.31</td>\n",
       "      <td>0.35</td>\n",
       "      <td>10.73</td>\n",
       "      <td>9.03</td>\n",
       "      <td>-128.95</td>\n",
       "      <td>-9.40</td>\n",
       "    </tr>\n",
       "    <tr>\n",
       "      <th>5</th>\n",
       "      <td>A V T Mccormick Ingredients Pvt. Ltd.</td>\n",
       "      <td>2009</td>\n",
       "      <td>1</td>\n",
       "      <td>A2</td>\n",
       "      <td>1660.5</td>\n",
       "      <td>32.32</td>\n",
       "      <td>19.72</td>\n",
       "      <td>6.19</td>\n",
       "      <td>19.09</td>\n",
       "      <td>0.45</td>\n",
       "      <td>...</td>\n",
       "      <td>28.0</td>\n",
       "      <td>254.0</td>\n",
       "      <td>1.41</td>\n",
       "      <td>19.53</td>\n",
       "      <td>4.07</td>\n",
       "      <td>18.13</td>\n",
       "      <td>1.87</td>\n",
       "      <td>3.03</td>\n",
       "      <td>17.72</td>\n",
       "      <td>5.92</td>\n",
       "    </tr>\n",
       "  </tbody>\n",
       "</table>\n",
       "<p>5 rows × 26 columns</p>\n",
       "</div>"
      ],
      "text/plain": [
       "                             Company Name  Year  Normalized Rating Ratings  \\\n",
       "0            A B I-Showatech (India) Ltd.  2009                  1      A1   \n",
       "2           A L P Nishikawa Co. Pvt. Ltd.  2009                  2      A4   \n",
       "3                  A M C L Machinery Ltd.  2009                  1      A1   \n",
       "4  A T C Telecom Infrastructure Pvt. Ltd.  2009                  1      A1   \n",
       "5   A V T Mccormick Ingredients Pvt. Ltd.  2009                  1      A2   \n",
       "\n",
       "    Sales  GP Margin %  PBDIT Margin %  PAT Margin %  PBT Percentage %  \\\n",
       "0  1481.6        41.85           22.79         10.93             12.90   \n",
       "2   914.1        32.43            9.15          1.60              4.99   \n",
       "3   710.8        40.18           23.45         20.33             20.85   \n",
       "4  8195.2        58.66           24.18        -27.62             -7.02   \n",
       "5  1660.5        32.32           19.72          6.19             19.09   \n",
       "\n",
       "   Quick ratio (times)  ...  Creditor days (days)  \\\n",
       "0                 0.85  ...                  98.0   \n",
       "2                 0.44  ...                   NaN   \n",
       "3                 0.90  ...                  36.0   \n",
       "4                 0.40  ...                 292.0   \n",
       "5                 0.45  ...                  28.0   \n",
       "\n",
       "   Net working capital cycle (days)  Total Income/Total asset  \\\n",
       "0                              36.0                      1.15   \n",
       "2                               NaN                      1.13   \n",
       "3                             149.0                      1.09   \n",
       "4                            -199.0                      0.24   \n",
       "5                             254.0                      1.41   \n",
       "\n",
       "   Total Income/ Compansation to employees  Sales / GFA  \\\n",
       "0                                    12.79         1.05   \n",
       "2                                    13.28         1.34   \n",
       "3                                    24.60         2.99   \n",
       "4                                    33.10         0.31   \n",
       "5                                    19.53         4.07   \n",
       "\n",
       "   Sales / net fixed Assets  Debt/EBIT  \\\n",
       "0                      2.20       0.47   \n",
       "2                      2.70       3.22   \n",
       "3                     17.64       0.47   \n",
       "4                      0.35      10.73   \n",
       "5                     18.13       1.87   \n",
       "\n",
       "   Total Outside liability/ Total Net Worth  Return on net worth  \\\n",
       "0                                      1.38                17.63   \n",
       "2                                      3.15                  NaN   \n",
       "3                                      4.48                78.35   \n",
       "4                                      9.03              -128.95   \n",
       "5                                      3.03                17.72   \n",
       "\n",
       "   Return on total assets  \n",
       "0                   12.13  \n",
       "2                     NaN  \n",
       "3                   14.02  \n",
       "4                   -9.40  \n",
       "5                    5.92  \n",
       "\n",
       "[5 rows x 26 columns]"
      ]
     },
     "execution_count": 8,
     "metadata": {},
     "output_type": "execute_result"
    }
   ],
   "source": [
    "## Checking the columns again after deleting the above columns.\n",
    "df2.head()"
   ]
  },
  {
   "cell_type": "code",
   "execution_count": 9,
   "metadata": {},
   "outputs": [
    {
     "data": {
      "text/plain": [
       "Company Name                                 0.000000\n",
       "Year                                         0.000000\n",
       "Normalized Rating                            0.000000\n",
       "Ratings                                      0.000000\n",
       "Sales                                        0.000000\n",
       "GP Margin %                                  0.000000\n",
       "PBDIT Margin %                               0.000000\n",
       "PAT Margin %                                 0.000000\n",
       "PBT Percentage %                             0.000000\n",
       "Quick ratio (times)                          0.137725\n",
       "Current ratio (times)                        0.137725\n",
       "Debt to equity ratio (times)                 3.971078\n",
       "Interest cover (times)                      11.947664\n",
       "Inventory Days                              13.829909\n",
       "Debtor days (days)                           4.613795\n",
       "Gross working capital cycle (days)           4.338345\n",
       "Creditor days (days)                         5.336853\n",
       "Net working capital cycle (days)             3.948123\n",
       "Total Income/Total asset                     0.000000\n",
       "Total Income/ Compansation to employees      1.182142\n",
       "Sales / GFA                                  0.332836\n",
       "Sales / net fixed Assets                     0.275450\n",
       "Debt/EBIT                                    0.011477\n",
       "Total Outside liability/ Total Net Worth     0.000000\n",
       "Return on net worth                          7.115804\n",
       "Return on total assets                       3.672673\n",
       "dtype: float64"
      ]
     },
     "execution_count": 9,
     "metadata": {},
     "output_type": "execute_result"
    }
   ],
   "source": [
    "## Checking the percentage of NA values again\n",
    "(df2.isna().sum())/df2.shape[0]*100"
   ]
  },
  {
   "cell_type": "code",
   "execution_count": 10,
   "metadata": {},
   "outputs": [
    {
     "name": "stderr",
     "output_type": "stream",
     "text": [
      "C:\\Users\\Dell laptop\\Anaconda3\\lib\\site-packages\\pandas\\core\\generic.py:5303: SettingWithCopyWarning: \n",
      "A value is trying to be set on a copy of a slice from a DataFrame.\n",
      "Try using .loc[row_indexer,col_indexer] = value instead\n",
      "\n",
      "See the caveats in the documentation: https://pandas.pydata.org/pandas-docs/stable/user_guide/indexing.html#returning-a-view-versus-a-copy\n",
      "  self[name] = value\n"
     ]
    }
   ],
   "source": [
    "## COnverting sales to log to avoid skewness.\n",
    "df2.Sales = np.log(1+df2.Sales)"
   ]
  },
  {
   "cell_type": "code",
   "execution_count": 11,
   "metadata": {},
   "outputs": [
    {
     "data": {
      "text/plain": [
       "<seaborn.axisgrid.JointGrid at 0x2274a69fe80>"
      ]
     },
     "execution_count": 11,
     "metadata": {},
     "output_type": "execute_result"
    },
    {
     "data": {
      "image/png": "[encoded data removed]",
      "text/plain": [
       "<Figure size 432x432 with 3 Axes>"
      ]
     },
     "metadata": {
      "needs_background": "light"
     },
     "output_type": "display_data"
    }
   ],
   "source": [
    "## Plotting scatter plot graph for all the columns to see the possible outliers.\n",
    "sns.jointplot(x='GP Margin %', y='Normalized Rating', data=df2)"
   ]
  },
  {
   "cell_type": "markdown",
   "metadata": {},
   "source": [
    "### Capping all the outlier values of each column to either the 5th percentile or the 95th percentile of the respective columns."
   ]
  },
  {
   "cell_type": "code",
   "execution_count": 12,
   "metadata": {},
   "outputs": [
    {
     "name": "stdout",
     "output_type": "stream",
     "text": [
      "5.467469227902784\n",
      "10.944037156954543\n"
     ]
    }
   ],
   "source": [
    "print(df2['Sales'].quantile(0.05))\n",
    "print(df2['Sales'].quantile(0.95))"
   ]
  },
  {
   "cell_type": "code",
   "execution_count": 13,
   "metadata": {},
   "outputs": [
    {
     "name": "stderr",
     "output_type": "stream",
     "text": [
      "C:\\Users\\Dell laptop\\Anaconda3\\lib\\site-packages\\ipykernel_launcher.py:1: SettingWithCopyWarning: \n",
      "A value is trying to be set on a copy of a slice from a DataFrame.\n",
      "Try using .loc[row_indexer,col_indexer] = value instead\n",
      "\n",
      "See the caveats in the documentation: https://pandas.pydata.org/pandas-docs/stable/user_guide/indexing.html#returning-a-view-versus-a-copy\n",
      "  \"\"\"Entry point for launching an IPython kernel.\n",
      "C:\\Users\\Dell laptop\\Anaconda3\\lib\\site-packages\\ipykernel_launcher.py:2: SettingWithCopyWarning: \n",
      "A value is trying to be set on a copy of a slice from a DataFrame.\n",
      "Try using .loc[row_indexer,col_indexer] = value instead\n",
      "\n",
      "See the caveats in the documentation: https://pandas.pydata.org/pandas-docs/stable/user_guide/indexing.html#returning-a-view-versus-a-copy\n",
      "  \n"
     ]
    }
   ],
   "source": [
    "df2['Sales'] = np.where(df2['Sales'] <5.467, 5.467,df2['Sales'])\n",
    "df2['Sales'] = np.where(df2['Sales'] >10.944, 10.944,df2['Sales'])"
   ]
  },
  {
   "cell_type": "code",
   "execution_count": 14,
   "metadata": {},
   "outputs": [
    {
     "name": "stdout",
     "output_type": "stream",
     "text": [
      "5.1240000000000006\n",
      "98.62\n"
     ]
    }
   ],
   "source": [
    "print(df2['GP Margin %'].quantile(0.05))\n",
    "print(df2['GP Margin %'].quantile(0.95))"
   ]
  },
  {
   "cell_type": "code",
   "execution_count": 15,
   "metadata": {},
   "outputs": [
    {
     "name": "stderr",
     "output_type": "stream",
     "text": [
      "C:\\Users\\Dell laptop\\Anaconda3\\lib\\site-packages\\ipykernel_launcher.py:1: SettingWithCopyWarning: \n",
      "A value is trying to be set on a copy of a slice from a DataFrame.\n",
      "Try using .loc[row_indexer,col_indexer] = value instead\n",
      "\n",
      "See the caveats in the documentation: https://pandas.pydata.org/pandas-docs/stable/user_guide/indexing.html#returning-a-view-versus-a-copy\n",
      "  \"\"\"Entry point for launching an IPython kernel.\n",
      "C:\\Users\\Dell laptop\\Anaconda3\\lib\\site-packages\\ipykernel_launcher.py:2: SettingWithCopyWarning: \n",
      "A value is trying to be set on a copy of a slice from a DataFrame.\n",
      "Try using .loc[row_indexer,col_indexer] = value instead\n",
      "\n",
      "See the caveats in the documentation: https://pandas.pydata.org/pandas-docs/stable/user_guide/indexing.html#returning-a-view-versus-a-copy\n",
      "  \n"
     ]
    }
   ],
   "source": [
    "df2['GP Margin %'] = np.where(df2['GP Margin %'] <5.12, 5.12,df2['GP Margin %'])\n",
    "df2['GP Margin %'] = np.where(df2['GP Margin %'] >98.62, 98.62,df2['GP Margin %'])"
   ]
  },
  {
   "cell_type": "code",
   "execution_count": 16,
   "metadata": {},
   "outputs": [
    {
     "name": "stdout",
     "output_type": "stream",
     "text": [
      "-0.8919999999999993\n",
      "54.835999999999956\n"
     ]
    }
   ],
   "source": [
    "print(df2['PBDIT Margin %'].quantile(0.05))\n",
    "print(df2['PBDIT Margin %'].quantile(0.95))"
   ]
  },
  {
   "cell_type": "code",
   "execution_count": 17,
   "metadata": {},
   "outputs": [
    {
     "name": "stderr",
     "output_type": "stream",
     "text": [
      "C:\\Users\\Dell laptop\\Anaconda3\\lib\\site-packages\\ipykernel_launcher.py:1: SettingWithCopyWarning: \n",
      "A value is trying to be set on a copy of a slice from a DataFrame.\n",
      "Try using .loc[row_indexer,col_indexer] = value instead\n",
      "\n",
      "See the caveats in the documentation: https://pandas.pydata.org/pandas-docs/stable/user_guide/indexing.html#returning-a-view-versus-a-copy\n",
      "  \"\"\"Entry point for launching an IPython kernel.\n",
      "C:\\Users\\Dell laptop\\Anaconda3\\lib\\site-packages\\ipykernel_launcher.py:2: SettingWithCopyWarning: \n",
      "A value is trying to be set on a copy of a slice from a DataFrame.\n",
      "Try using .loc[row_indexer,col_indexer] = value instead\n",
      "\n",
      "See the caveats in the documentation: https://pandas.pydata.org/pandas-docs/stable/user_guide/indexing.html#returning-a-view-versus-a-copy\n",
      "  \n"
     ]
    }
   ],
   "source": [
    "df2['PBDIT Margin %'] = np.where(df2['PBDIT Margin %'] <-0.892, -0.892,df2['PBDIT Margin %'])\n",
    "df2['PBDIT Margin %'] = np.where(df2['PBDIT Margin %'] >54.836, 54.836,df2['PBDIT Margin %'])"
   ]
  },
  {
   "cell_type": "code",
   "execution_count": 18,
   "metadata": {},
   "outputs": [
    {
     "name": "stdout",
     "output_type": "stream",
     "text": [
      "-23.971999999999998\n",
      "24.663999999999998\n"
     ]
    }
   ],
   "source": [
    "print(df2['PAT Margin %'].quantile(0.05))\n",
    "print(df2['PAT Margin %'].quantile(0.95))"
   ]
  },
  {
   "cell_type": "code",
   "execution_count": 19,
   "metadata": {},
   "outputs": [
    {
     "name": "stderr",
     "output_type": "stream",
     "text": [
      "C:\\Users\\Dell laptop\\Anaconda3\\lib\\site-packages\\ipykernel_launcher.py:1: SettingWithCopyWarning: \n",
      "A value is trying to be set on a copy of a slice from a DataFrame.\n",
      "Try using .loc[row_indexer,col_indexer] = value instead\n",
      "\n",
      "See the caveats in the documentation: https://pandas.pydata.org/pandas-docs/stable/user_guide/indexing.html#returning-a-view-versus-a-copy\n",
      "  \"\"\"Entry point for launching an IPython kernel.\n",
      "C:\\Users\\Dell laptop\\Anaconda3\\lib\\site-packages\\ipykernel_launcher.py:2: SettingWithCopyWarning: \n",
      "A value is trying to be set on a copy of a slice from a DataFrame.\n",
      "Try using .loc[row_indexer,col_indexer] = value instead\n",
      "\n",
      "See the caveats in the documentation: https://pandas.pydata.org/pandas-docs/stable/user_guide/indexing.html#returning-a-view-versus-a-copy\n",
      "  \n"
     ]
    }
   ],
   "source": [
    "df2['PAT Margin %'] = np.where(df2['PAT Margin %'] <-23.972, -23.972,df2['PAT Margin %'])\n",
    "df2['PAT Margin %'] = np.where(df2['PAT Margin %'] >24.664, 24.664,df2['PAT Margin %'])"
   ]
  },
  {
   "cell_type": "code",
   "execution_count": 20,
   "metadata": {},
   "outputs": [
    {
     "name": "stdout",
     "output_type": "stream",
     "text": [
      "-7.531999999999999\n",
      "39.53\n"
     ]
    }
   ],
   "source": [
    "print(df2['PBT Percentage %'].quantile(0.05))\n",
    "print(df2['PBT Percentage %'].quantile(0.95))"
   ]
  },
  {
   "cell_type": "code",
   "execution_count": 21,
   "metadata": {},
   "outputs": [
    {
     "name": "stderr",
     "output_type": "stream",
     "text": [
      "C:\\Users\\Dell laptop\\Anaconda3\\lib\\site-packages\\ipykernel_launcher.py:1: SettingWithCopyWarning: \n",
      "A value is trying to be set on a copy of a slice from a DataFrame.\n",
      "Try using .loc[row_indexer,col_indexer] = value instead\n",
      "\n",
      "See the caveats in the documentation: https://pandas.pydata.org/pandas-docs/stable/user_guide/indexing.html#returning-a-view-versus-a-copy\n",
      "  \"\"\"Entry point for launching an IPython kernel.\n",
      "C:\\Users\\Dell laptop\\Anaconda3\\lib\\site-packages\\ipykernel_launcher.py:2: SettingWithCopyWarning: \n",
      "A value is trying to be set on a copy of a slice from a DataFrame.\n",
      "Try using .loc[row_indexer,col_indexer] = value instead\n",
      "\n",
      "See the caveats in the documentation: https://pandas.pydata.org/pandas-docs/stable/user_guide/indexing.html#returning-a-view-versus-a-copy\n",
      "  \n"
     ]
    }
   ],
   "source": [
    "df2['PBT Percentage %'] = np.where(df2['PBT Percentage %'] <-7.532, -7.532,df2['PBT Percentage %'])\n",
    "df2['PBT Percentage %'] = np.where(df2['PBT Percentage %'] >39.53, 39.53,df2['PBT Percentage %'])"
   ]
  },
  {
   "cell_type": "code",
   "execution_count": 22,
   "metadata": {},
   "outputs": [
    {
     "name": "stdout",
     "output_type": "stream",
     "text": [
      "0.12\n",
      "2.04\n"
     ]
    }
   ],
   "source": [
    "print(df2['Quick ratio (times)'].quantile(0.05))\n",
    "print(df2['Quick ratio (times)'].quantile(0.95))"
   ]
  },
  {
   "cell_type": "code",
   "execution_count": 23,
   "metadata": {},
   "outputs": [
    {
     "name": "stderr",
     "output_type": "stream",
     "text": [
      "C:\\Users\\Dell laptop\\Anaconda3\\lib\\site-packages\\ipykernel_launcher.py:1: SettingWithCopyWarning: \n",
      "A value is trying to be set on a copy of a slice from a DataFrame.\n",
      "Try using .loc[row_indexer,col_indexer] = value instead\n",
      "\n",
      "See the caveats in the documentation: https://pandas.pydata.org/pandas-docs/stable/user_guide/indexing.html#returning-a-view-versus-a-copy\n",
      "  \"\"\"Entry point for launching an IPython kernel.\n",
      "C:\\Users\\Dell laptop\\Anaconda3\\lib\\site-packages\\ipykernel_launcher.py:2: SettingWithCopyWarning: \n",
      "A value is trying to be set on a copy of a slice from a DataFrame.\n",
      "Try using .loc[row_indexer,col_indexer] = value instead\n",
      "\n",
      "See the caveats in the documentation: https://pandas.pydata.org/pandas-docs/stable/user_guide/indexing.html#returning-a-view-versus-a-copy\n",
      "  \n"
     ]
    }
   ],
   "source": [
    "df2['Quick ratio (times)'] = np.where(df2['Quick ratio (times)'] <0.12, 0.12,df2['Quick ratio (times)'])\n",
    "df2['Quick ratio (times)'] = np.where(df2['Quick ratio (times)'] >2.04, 2.04,df2['Quick ratio (times)'])"
   ]
  },
  {
   "cell_type": "code",
   "execution_count": 24,
   "metadata": {},
   "outputs": [
    {
     "name": "stdout",
     "output_type": "stream",
     "text": [
      "0.41\n",
      "2.83\n"
     ]
    }
   ],
   "source": [
    "print(df2['Current ratio (times)'].quantile(0.05))\n",
    "print(df2['Current ratio (times)'].quantile(0.95))"
   ]
  },
  {
   "cell_type": "code",
   "execution_count": 25,
   "metadata": {},
   "outputs": [
    {
     "name": "stderr",
     "output_type": "stream",
     "text": [
      "C:\\Users\\Dell laptop\\Anaconda3\\lib\\site-packages\\ipykernel_launcher.py:1: SettingWithCopyWarning: \n",
      "A value is trying to be set on a copy of a slice from a DataFrame.\n",
      "Try using .loc[row_indexer,col_indexer] = value instead\n",
      "\n",
      "See the caveats in the documentation: https://pandas.pydata.org/pandas-docs/stable/user_guide/indexing.html#returning-a-view-versus-a-copy\n",
      "  \"\"\"Entry point for launching an IPython kernel.\n",
      "C:\\Users\\Dell laptop\\Anaconda3\\lib\\site-packages\\ipykernel_launcher.py:2: SettingWithCopyWarning: \n",
      "A value is trying to be set on a copy of a slice from a DataFrame.\n",
      "Try using .loc[row_indexer,col_indexer] = value instead\n",
      "\n",
      "See the caveats in the documentation: https://pandas.pydata.org/pandas-docs/stable/user_guide/indexing.html#returning-a-view-versus-a-copy\n",
      "  \n"
     ]
    }
   ],
   "source": [
    "df2['Current ratio (times)'] = np.where(df2['Current ratio (times)'] <0.41, 0.41,df2['Current ratio (times)'])\n",
    "df2['Current ratio (times)'] = np.where(df2['Current ratio (times)'] >2.83, 2.83,df2['Current ratio (times)'])"
   ]
  },
  {
   "cell_type": "code",
   "execution_count": 26,
   "metadata": {},
   "outputs": [
    {
     "name": "stdout",
     "output_type": "stream",
     "text": [
      "0.01\n",
      "6.236999999999998\n"
     ]
    }
   ],
   "source": [
    "print(df2['Debt to equity ratio (times)'].quantile(0.05))\n",
    "print(df2['Debt to equity ratio (times)'].quantile(0.95))"
   ]
  },
  {
   "cell_type": "code",
   "execution_count": 27,
   "metadata": {},
   "outputs": [
    {
     "name": "stderr",
     "output_type": "stream",
     "text": [
      "C:\\Users\\Dell laptop\\Anaconda3\\lib\\site-packages\\ipykernel_launcher.py:1: SettingWithCopyWarning: \n",
      "A value is trying to be set on a copy of a slice from a DataFrame.\n",
      "Try using .loc[row_indexer,col_indexer] = value instead\n",
      "\n",
      "See the caveats in the documentation: https://pandas.pydata.org/pandas-docs/stable/user_guide/indexing.html#returning-a-view-versus-a-copy\n",
      "  \"\"\"Entry point for launching an IPython kernel.\n",
      "C:\\Users\\Dell laptop\\Anaconda3\\lib\\site-packages\\ipykernel_launcher.py:2: SettingWithCopyWarning: \n",
      "A value is trying to be set on a copy of a slice from a DataFrame.\n",
      "Try using .loc[row_indexer,col_indexer] = value instead\n",
      "\n",
      "See the caveats in the documentation: https://pandas.pydata.org/pandas-docs/stable/user_guide/indexing.html#returning-a-view-versus-a-copy\n",
      "  \n"
     ]
    }
   ],
   "source": [
    "df2['Debt to equity ratio (times)'] = np.where(df2['Debt to equity ratio (times)'] <0.01, 0.01,df2['Debt to equity ratio (times)'])\n",
    "df2['Debt to equity ratio (times)'] = np.where(df2['Debt to equity ratio (times)'] >6.237, 6.237,df2['Debt to equity ratio (times)'])"
   ]
  },
  {
   "cell_type": "code",
   "execution_count": 28,
   "metadata": {},
   "outputs": [
    {
     "name": "stdout",
     "output_type": "stream",
     "text": [
      "0.5755000000000001\n",
      "57.811499999999995\n"
     ]
    }
   ],
   "source": [
    "print(df2['Interest cover (times)'].quantile(0.05))\n",
    "print(df2['Interest cover (times)'].quantile(0.95))"
   ]
  },
  {
   "cell_type": "code",
   "execution_count": 29,
   "metadata": {},
   "outputs": [
    {
     "name": "stderr",
     "output_type": "stream",
     "text": [
      "C:\\Users\\Dell laptop\\Anaconda3\\lib\\site-packages\\ipykernel_launcher.py:1: SettingWithCopyWarning: \n",
      "A value is trying to be set on a copy of a slice from a DataFrame.\n",
      "Try using .loc[row_indexer,col_indexer] = value instead\n",
      "\n",
      "See the caveats in the documentation: https://pandas.pydata.org/pandas-docs/stable/user_guide/indexing.html#returning-a-view-versus-a-copy\n",
      "  \"\"\"Entry point for launching an IPython kernel.\n",
      "C:\\Users\\Dell laptop\\Anaconda3\\lib\\site-packages\\ipykernel_launcher.py:2: SettingWithCopyWarning: \n",
      "A value is trying to be set on a copy of a slice from a DataFrame.\n",
      "Try using .loc[row_indexer,col_indexer] = value instead\n",
      "\n",
      "See the caveats in the documentation: https://pandas.pydata.org/pandas-docs/stable/user_guide/indexing.html#returning-a-view-versus-a-copy\n",
      "  \n"
     ]
    }
   ],
   "source": [
    "df2['Interest cover (times)'] = np.where(df2['Interest cover (times)'] <0.575, 0.575,df2['Interest cover (times)'])\n",
    "df2['Interest cover (times)'] = np.where(df2['Interest cover (times)'] >57.812, 57.812,df2['Interest cover (times)'])"
   ]
  },
  {
   "cell_type": "code",
   "execution_count": 30,
   "metadata": {},
   "outputs": [
    {
     "name": "stdout",
     "output_type": "stream",
     "text": [
      "15.0\n",
      "503.64999999999964\n"
     ]
    }
   ],
   "source": [
    "print(df2['Inventory Days'].quantile(0.05))\n",
    "print(df2['Inventory Days'].quantile(0.95))"
   ]
  },
  {
   "cell_type": "code",
   "execution_count": 31,
   "metadata": {},
   "outputs": [
    {
     "name": "stderr",
     "output_type": "stream",
     "text": [
      "C:\\Users\\Dell laptop\\Anaconda3\\lib\\site-packages\\ipykernel_launcher.py:1: SettingWithCopyWarning: \n",
      "A value is trying to be set on a copy of a slice from a DataFrame.\n",
      "Try using .loc[row_indexer,col_indexer] = value instead\n",
      "\n",
      "See the caveats in the documentation: https://pandas.pydata.org/pandas-docs/stable/user_guide/indexing.html#returning-a-view-versus-a-copy\n",
      "  \"\"\"Entry point for launching an IPython kernel.\n",
      "C:\\Users\\Dell laptop\\Anaconda3\\lib\\site-packages\\ipykernel_launcher.py:2: SettingWithCopyWarning: \n",
      "A value is trying to be set on a copy of a slice from a DataFrame.\n",
      "Try using .loc[row_indexer,col_indexer] = value instead\n",
      "\n",
      "See the caveats in the documentation: https://pandas.pydata.org/pandas-docs/stable/user_guide/indexing.html#returning-a-view-versus-a-copy\n",
      "  \n"
     ]
    }
   ],
   "source": [
    "df2['Inventory Days'] = np.where(df2['Inventory Days'] <15.0, 15.0,df2['Inventory Days'])\n",
    "df2['Inventory Days'] = np.where(df2['Inventory Days'] >503.649, 503.649,df2['Inventory Days'])"
   ]
  },
  {
   "cell_type": "code",
   "execution_count": 32,
   "metadata": {},
   "outputs": [
    {
     "name": "stdout",
     "output_type": "stream",
     "text": [
      "8.0\n",
      "223.0\n"
     ]
    }
   ],
   "source": [
    "print(df2['Debtor days (days)'].quantile(0.05))\n",
    "print(df2['Debtor days (days)'].quantile(0.95))"
   ]
  },
  {
   "cell_type": "code",
   "execution_count": 33,
   "metadata": {},
   "outputs": [
    {
     "name": "stderr",
     "output_type": "stream",
     "text": [
      "C:\\Users\\Dell laptop\\Anaconda3\\lib\\site-packages\\ipykernel_launcher.py:1: SettingWithCopyWarning: \n",
      "A value is trying to be set on a copy of a slice from a DataFrame.\n",
      "Try using .loc[row_indexer,col_indexer] = value instead\n",
      "\n",
      "See the caveats in the documentation: https://pandas.pydata.org/pandas-docs/stable/user_guide/indexing.html#returning-a-view-versus-a-copy\n",
      "  \"\"\"Entry point for launching an IPython kernel.\n",
      "C:\\Users\\Dell laptop\\Anaconda3\\lib\\site-packages\\ipykernel_launcher.py:2: SettingWithCopyWarning: \n",
      "A value is trying to be set on a copy of a slice from a DataFrame.\n",
      "Try using .loc[row_indexer,col_indexer] = value instead\n",
      "\n",
      "See the caveats in the documentation: https://pandas.pydata.org/pandas-docs/stable/user_guide/indexing.html#returning-a-view-versus-a-copy\n",
      "  \n"
     ]
    }
   ],
   "source": [
    "df2['Debtor days (days)'] = np.where(df2['Debtor days (days)'] <8.0, 8.0,df2['Debtor days (days)'])\n",
    "df2['Debtor days (days)'] = np.where(df2['Debtor days (days)'] >223.0, 223.0,df2['Debtor days (days)'])"
   ]
  },
  {
   "cell_type": "code",
   "execution_count": 34,
   "metadata": {},
   "outputs": [
    {
     "name": "stdout",
     "output_type": "stream",
     "text": [
      "37.0\n",
      "748.0\n"
     ]
    }
   ],
   "source": [
    "print(df2['Gross working capital cycle (days)'].quantile(0.05))\n",
    "print(df2['Gross working capital cycle (days)'].quantile(0.95))"
   ]
  },
  {
   "cell_type": "code",
   "execution_count": 35,
   "metadata": {},
   "outputs": [
    {
     "name": "stderr",
     "output_type": "stream",
     "text": [
      "C:\\Users\\Dell laptop\\Anaconda3\\lib\\site-packages\\ipykernel_launcher.py:1: SettingWithCopyWarning: \n",
      "A value is trying to be set on a copy of a slice from a DataFrame.\n",
      "Try using .loc[row_indexer,col_indexer] = value instead\n",
      "\n",
      "See the caveats in the documentation: https://pandas.pydata.org/pandas-docs/stable/user_guide/indexing.html#returning-a-view-versus-a-copy\n",
      "  \"\"\"Entry point for launching an IPython kernel.\n",
      "C:\\Users\\Dell laptop\\Anaconda3\\lib\\site-packages\\ipykernel_launcher.py:2: SettingWithCopyWarning: \n",
      "A value is trying to be set on a copy of a slice from a DataFrame.\n",
      "Try using .loc[row_indexer,col_indexer] = value instead\n",
      "\n",
      "See the caveats in the documentation: https://pandas.pydata.org/pandas-docs/stable/user_guide/indexing.html#returning-a-view-versus-a-copy\n",
      "  \n"
     ]
    }
   ],
   "source": [
    "df2['Gross working capital cycle (days)'] = np.where(df2['Gross working capital cycle (days)'] <37.0, 37.0,df2['Gross working capital cycle (days)'])\n",
    "df2['Gross working capital cycle (days)'] = np.where(df2['Gross working capital cycle (days)'] >748.0, 748.0,df2['Gross working capital cycle (days)'])"
   ]
  },
  {
   "cell_type": "code",
   "execution_count": 36,
   "metadata": {},
   "outputs": [
    {
     "name": "stdout",
     "output_type": "stream",
     "text": [
      "8.0\n",
      "534.5999999999985\n"
     ]
    }
   ],
   "source": [
    "print(df2['Creditor days (days)'].quantile(0.05))\n",
    "print(df2['Creditor days (days)'].quantile(0.95))"
   ]
  },
  {
   "cell_type": "code",
   "execution_count": 37,
   "metadata": {},
   "outputs": [
    {
     "name": "stderr",
     "output_type": "stream",
     "text": [
      "C:\\Users\\Dell laptop\\Anaconda3\\lib\\site-packages\\ipykernel_launcher.py:1: SettingWithCopyWarning: \n",
      "A value is trying to be set on a copy of a slice from a DataFrame.\n",
      "Try using .loc[row_indexer,col_indexer] = value instead\n",
      "\n",
      "See the caveats in the documentation: https://pandas.pydata.org/pandas-docs/stable/user_guide/indexing.html#returning-a-view-versus-a-copy\n",
      "  \"\"\"Entry point for launching an IPython kernel.\n",
      "C:\\Users\\Dell laptop\\Anaconda3\\lib\\site-packages\\ipykernel_launcher.py:2: SettingWithCopyWarning: \n",
      "A value is trying to be set on a copy of a slice from a DataFrame.\n",
      "Try using .loc[row_indexer,col_indexer] = value instead\n",
      "\n",
      "See the caveats in the documentation: https://pandas.pydata.org/pandas-docs/stable/user_guide/indexing.html#returning-a-view-versus-a-copy\n",
      "  \n"
     ]
    }
   ],
   "source": [
    "df2['Creditor days (days)'] = np.where(df2['Creditor days (days)'] <8.0, 8.0,df2['Creditor days (days)'])\n",
    "df2['Creditor days (days)'] = np.where(df2['Creditor days (days)'] >534.56, 534.56,df2['Creditor days (days)'])"
   ]
  },
  {
   "cell_type": "code",
   "execution_count": 38,
   "metadata": {},
   "outputs": [
    {
     "name": "stdout",
     "output_type": "stream",
     "text": [
      "-185.0\n",
      "493.1999999999989\n"
     ]
    }
   ],
   "source": [
    "print(df2['Net working capital cycle (days)'].quantile(0.05))\n",
    "print(df2['Net working capital cycle (days)'].quantile(0.95))"
   ]
  },
  {
   "cell_type": "code",
   "execution_count": 39,
   "metadata": {},
   "outputs": [
    {
     "name": "stderr",
     "output_type": "stream",
     "text": [
      "C:\\Users\\Dell laptop\\Anaconda3\\lib\\site-packages\\ipykernel_launcher.py:1: SettingWithCopyWarning: \n",
      "A value is trying to be set on a copy of a slice from a DataFrame.\n",
      "Try using .loc[row_indexer,col_indexer] = value instead\n",
      "\n",
      "See the caveats in the documentation: https://pandas.pydata.org/pandas-docs/stable/user_guide/indexing.html#returning-a-view-versus-a-copy\n",
      "  \"\"\"Entry point for launching an IPython kernel.\n",
      "C:\\Users\\Dell laptop\\Anaconda3\\lib\\site-packages\\ipykernel_launcher.py:2: SettingWithCopyWarning: \n",
      "A value is trying to be set on a copy of a slice from a DataFrame.\n",
      "Try using .loc[row_indexer,col_indexer] = value instead\n",
      "\n",
      "See the caveats in the documentation: https://pandas.pydata.org/pandas-docs/stable/user_guide/indexing.html#returning-a-view-versus-a-copy\n",
      "  \n"
     ]
    }
   ],
   "source": [
    "df2['Net working capital cycle (days)'] = np.where(df2['Net working capital cycle (days)'] <-185.0, -185.0,df2['Net working capital cycle (days)'])\n",
    "df2['Net working capital cycle (days)'] = np.where(df2['Net working capital cycle (days)'] >439.12, 439.12,df2['Net working capital cycle (days)'])"
   ]
  },
  {
   "cell_type": "code",
   "execution_count": 40,
   "metadata": {},
   "outputs": [
    {
     "name": "stdout",
     "output_type": "stream",
     "text": [
      "0.12\n",
      "3.35\n"
     ]
    }
   ],
   "source": [
    "print(df2['Total Income/Total asset'].quantile(0.05))\n",
    "print(df2['Total Income/Total asset'].quantile(0.95))"
   ]
  },
  {
   "cell_type": "code",
   "execution_count": 41,
   "metadata": {},
   "outputs": [
    {
     "name": "stderr",
     "output_type": "stream",
     "text": [
      "C:\\Users\\Dell laptop\\Anaconda3\\lib\\site-packages\\ipykernel_launcher.py:1: SettingWithCopyWarning: \n",
      "A value is trying to be set on a copy of a slice from a DataFrame.\n",
      "Try using .loc[row_indexer,col_indexer] = value instead\n",
      "\n",
      "See the caveats in the documentation: https://pandas.pydata.org/pandas-docs/stable/user_guide/indexing.html#returning-a-view-versus-a-copy\n",
      "  \"\"\"Entry point for launching an IPython kernel.\n",
      "C:\\Users\\Dell laptop\\Anaconda3\\lib\\site-packages\\ipykernel_launcher.py:2: SettingWithCopyWarning: \n",
      "A value is trying to be set on a copy of a slice from a DataFrame.\n",
      "Try using .loc[row_indexer,col_indexer] = value instead\n",
      "\n",
      "See the caveats in the documentation: https://pandas.pydata.org/pandas-docs/stable/user_guide/indexing.html#returning-a-view-versus-a-copy\n",
      "  \n"
     ]
    }
   ],
   "source": [
    "df2['Total Income/Total asset'] = np.where(df2['Total Income/Total asset'] <0.12, 0.12,df2['Total Income/Total asset'])\n",
    "df2['Total Income/Total asset'] = np.where(df2['Total Income/Total asset'] >3.35, 3.35,df2['Total Income/Total asset'])"
   ]
  },
  {
   "cell_type": "code",
   "execution_count": 42,
   "metadata": {},
   "outputs": [
    {
     "name": "stdout",
     "output_type": "stream",
     "text": [
      "2.7545\n",
      "212.09349999999986\n"
     ]
    }
   ],
   "source": [
    "print(df2['Total Income/ Compansation to employees'].quantile(0.05))\n",
    "print(df2['Total Income/ Compansation to employees'].quantile(0.95))"
   ]
  },
  {
   "cell_type": "code",
   "execution_count": 43,
   "metadata": {},
   "outputs": [
    {
     "name": "stderr",
     "output_type": "stream",
     "text": [
      "C:\\Users\\Dell laptop\\Anaconda3\\lib\\site-packages\\ipykernel_launcher.py:1: SettingWithCopyWarning: \n",
      "A value is trying to be set on a copy of a slice from a DataFrame.\n",
      "Try using .loc[row_indexer,col_indexer] = value instead\n",
      "\n",
      "See the caveats in the documentation: https://pandas.pydata.org/pandas-docs/stable/user_guide/indexing.html#returning-a-view-versus-a-copy\n",
      "  \"\"\"Entry point for launching an IPython kernel.\n",
      "C:\\Users\\Dell laptop\\Anaconda3\\lib\\site-packages\\ipykernel_launcher.py:2: SettingWithCopyWarning: \n",
      "A value is trying to be set on a copy of a slice from a DataFrame.\n",
      "Try using .loc[row_indexer,col_indexer] = value instead\n",
      "\n",
      "See the caveats in the documentation: https://pandas.pydata.org/pandas-docs/stable/user_guide/indexing.html#returning-a-view-versus-a-copy\n",
      "  \n"
     ]
    }
   ],
   "source": [
    "df2['Total Income/ Compansation to employees'] = np.where(df2['Total Income/ Compansation to employees'] <2.7545, 2.7545,df2['Total Income/ Compansation to employees'])\n",
    "df2['Total Income/ Compansation to employees'] = np.where(df2['Total Income/ Compansation to employees'] >212.094, 212.094,df2['Total Income/ Compansation to employees'])"
   ]
  },
  {
   "cell_type": "code",
   "execution_count": 44,
   "metadata": {},
   "outputs": [
    {
     "name": "stdout",
     "output_type": "stream",
     "text": [
      "0.27\n",
      "42.55700000000001\n"
     ]
    }
   ],
   "source": [
    "print(df2['Sales / GFA'].quantile(0.05))\n",
    "print(df2['Sales / GFA'].quantile(0.95))"
   ]
  },
  {
   "cell_type": "code",
   "execution_count": 45,
   "metadata": {},
   "outputs": [
    {
     "name": "stderr",
     "output_type": "stream",
     "text": [
      "C:\\Users\\Dell laptop\\Anaconda3\\lib\\site-packages\\ipykernel_launcher.py:1: SettingWithCopyWarning: \n",
      "A value is trying to be set on a copy of a slice from a DataFrame.\n",
      "Try using .loc[row_indexer,col_indexer] = value instead\n",
      "\n",
      "See the caveats in the documentation: https://pandas.pydata.org/pandas-docs/stable/user_guide/indexing.html#returning-a-view-versus-a-copy\n",
      "  \"\"\"Entry point for launching an IPython kernel.\n",
      "C:\\Users\\Dell laptop\\Anaconda3\\lib\\site-packages\\ipykernel_launcher.py:2: SettingWithCopyWarning: \n",
      "A value is trying to be set on a copy of a slice from a DataFrame.\n",
      "Try using .loc[row_indexer,col_indexer] = value instead\n",
      "\n",
      "See the caveats in the documentation: https://pandas.pydata.org/pandas-docs/stable/user_guide/indexing.html#returning-a-view-versus-a-copy\n",
      "  \n"
     ]
    }
   ],
   "source": [
    "df2['Sales / GFA'] = np.where(df2['Sales / GFA'] <0.27, 0.27,df2['Sales / GFA'])\n",
    "df2['Sales / GFA'] = np.where(df2['Sales / GFA'] >42.557, 42.557,df2['Sales / GFA'])"
   ]
  },
  {
   "cell_type": "code",
   "execution_count": 46,
   "metadata": {},
   "outputs": [
    {
     "name": "stdout",
     "output_type": "stream",
     "text": [
      "0.34\n",
      "76.53600000000004\n"
     ]
    }
   ],
   "source": [
    "print(df2['Sales / net fixed Assets'].quantile(0.05))\n",
    "print(df2['Sales / net fixed Assets'].quantile(0.95))"
   ]
  },
  {
   "cell_type": "code",
   "execution_count": 47,
   "metadata": {},
   "outputs": [
    {
     "name": "stderr",
     "output_type": "stream",
     "text": [
      "C:\\Users\\Dell laptop\\Anaconda3\\lib\\site-packages\\ipykernel_launcher.py:1: SettingWithCopyWarning: \n",
      "A value is trying to be set on a copy of a slice from a DataFrame.\n",
      "Try using .loc[row_indexer,col_indexer] = value instead\n",
      "\n",
      "See the caveats in the documentation: https://pandas.pydata.org/pandas-docs/stable/user_guide/indexing.html#returning-a-view-versus-a-copy\n",
      "  \"\"\"Entry point for launching an IPython kernel.\n",
      "C:\\Users\\Dell laptop\\Anaconda3\\lib\\site-packages\\ipykernel_launcher.py:2: SettingWithCopyWarning: \n",
      "A value is trying to be set on a copy of a slice from a DataFrame.\n",
      "Try using .loc[row_indexer,col_indexer] = value instead\n",
      "\n",
      "See the caveats in the documentation: https://pandas.pydata.org/pandas-docs/stable/user_guide/indexing.html#returning-a-view-versus-a-copy\n",
      "  \n"
     ]
    }
   ],
   "source": [
    "df2['Sales / net fixed Assets'] = np.where(df2['Sales / net fixed Assets'] <0.34, 0.34,df2['Sales / net fixed Assets'])\n",
    "df2['Sales / net fixed Assets'] = np.where(df2['Sales / net fixed Assets'] >76.536, 76.536,df2['Sales / net fixed Assets'])"
   ]
  },
  {
   "cell_type": "code",
   "execution_count": 48,
   "metadata": {},
   "outputs": [
    {
     "name": "stdout",
     "output_type": "stream",
     "text": [
      "0.0\n",
      "13.73\n"
     ]
    }
   ],
   "source": [
    "print(df2['Debt/EBIT'].quantile(0.05))\n",
    "print(df2['Debt/EBIT'].quantile(0.95))"
   ]
  },
  {
   "cell_type": "code",
   "execution_count": 49,
   "metadata": {},
   "outputs": [
    {
     "name": "stderr",
     "output_type": "stream",
     "text": [
      "C:\\Users\\Dell laptop\\Anaconda3\\lib\\site-packages\\ipykernel_launcher.py:1: SettingWithCopyWarning: \n",
      "A value is trying to be set on a copy of a slice from a DataFrame.\n",
      "Try using .loc[row_indexer,col_indexer] = value instead\n",
      "\n",
      "See the caveats in the documentation: https://pandas.pydata.org/pandas-docs/stable/user_guide/indexing.html#returning-a-view-versus-a-copy\n",
      "  \"\"\"Entry point for launching an IPython kernel.\n",
      "C:\\Users\\Dell laptop\\Anaconda3\\lib\\site-packages\\ipykernel_launcher.py:2: SettingWithCopyWarning: \n",
      "A value is trying to be set on a copy of a slice from a DataFrame.\n",
      "Try using .loc[row_indexer,col_indexer] = value instead\n",
      "\n",
      "See the caveats in the documentation: https://pandas.pydata.org/pandas-docs/stable/user_guide/indexing.html#returning-a-view-versus-a-copy\n",
      "  \n"
     ]
    }
   ],
   "source": [
    "df2['Debt/EBIT'] = np.where(df2['Debt/EBIT'] <0.0, 0.0,df2['Debt/EBIT'])\n",
    "df2['Debt/EBIT'] = np.where(df2['Debt/EBIT'] >13.73, 13.73,df2['Debt/EBIT'])"
   ]
  },
  {
   "cell_type": "code",
   "execution_count": 50,
   "metadata": {},
   "outputs": [
    {
     "name": "stdout",
     "output_type": "stream",
     "text": [
      "1.16\n",
      "10.97\n"
     ]
    }
   ],
   "source": [
    "print(df2['Total Outside liability/ Total Net Worth'].quantile(0.05))\n",
    "print(df2['Total Outside liability/ Total Net Worth'].quantile(0.95))"
   ]
  },
  {
   "cell_type": "code",
   "execution_count": 51,
   "metadata": {},
   "outputs": [
    {
     "name": "stderr",
     "output_type": "stream",
     "text": [
      "C:\\Users\\Dell laptop\\Anaconda3\\lib\\site-packages\\ipykernel_launcher.py:1: SettingWithCopyWarning: \n",
      "A value is trying to be set on a copy of a slice from a DataFrame.\n",
      "Try using .loc[row_indexer,col_indexer] = value instead\n",
      "\n",
      "See the caveats in the documentation: https://pandas.pydata.org/pandas-docs/stable/user_guide/indexing.html#returning-a-view-versus-a-copy\n",
      "  \"\"\"Entry point for launching an IPython kernel.\n",
      "C:\\Users\\Dell laptop\\Anaconda3\\lib\\site-packages\\ipykernel_launcher.py:2: SettingWithCopyWarning: \n",
      "A value is trying to be set on a copy of a slice from a DataFrame.\n",
      "Try using .loc[row_indexer,col_indexer] = value instead\n",
      "\n",
      "See the caveats in the documentation: https://pandas.pydata.org/pandas-docs/stable/user_guide/indexing.html#returning-a-view-versus-a-copy\n",
      "  \n"
     ]
    }
   ],
   "source": [
    "df2['Total Outside liability/ Total Net Worth'] = np.where(df2['Total Outside liability/ Total Net Worth'] <1.16, 1.16,df2['Total Outside liability/ Total Net Worth'])\n",
    "df2['Total Outside liability/ Total Net Worth'] = np.where(df2['Total Outside liability/ Total Net Worth'] >10.97, 10.97,df2['Total Outside liability/ Total Net Worth'])"
   ]
  },
  {
   "cell_type": "code",
   "execution_count": 52,
   "metadata": {},
   "outputs": [
    {
     "name": "stdout",
     "output_type": "stream",
     "text": [
      "-37.534\n",
      "36.45399999999998\n"
     ]
    }
   ],
   "source": [
    "print(df2['Return on net worth'].quantile(0.05))\n",
    "print(df2['Return on net worth'].quantile(0.95))"
   ]
  },
  {
   "cell_type": "code",
   "execution_count": 53,
   "metadata": {},
   "outputs": [
    {
     "name": "stderr",
     "output_type": "stream",
     "text": [
      "C:\\Users\\Dell laptop\\Anaconda3\\lib\\site-packages\\ipykernel_launcher.py:1: SettingWithCopyWarning: \n",
      "A value is trying to be set on a copy of a slice from a DataFrame.\n",
      "Try using .loc[row_indexer,col_indexer] = value instead\n",
      "\n",
      "See the caveats in the documentation: https://pandas.pydata.org/pandas-docs/stable/user_guide/indexing.html#returning-a-view-versus-a-copy\n",
      "  \"\"\"Entry point for launching an IPython kernel.\n",
      "C:\\Users\\Dell laptop\\Anaconda3\\lib\\site-packages\\ipykernel_launcher.py:2: SettingWithCopyWarning: \n",
      "A value is trying to be set on a copy of a slice from a DataFrame.\n",
      "Try using .loc[row_indexer,col_indexer] = value instead\n",
      "\n",
      "See the caveats in the documentation: https://pandas.pydata.org/pandas-docs/stable/user_guide/indexing.html#returning-a-view-versus-a-copy\n",
      "  \n"
     ]
    }
   ],
   "source": [
    "df2['Return on net worth'] = np.where(df2['Return on net worth'] <-37.534, -37.534,df2['Return on net worth'])\n",
    "df2['Return on net worth'] = np.where(df2['Return on net worth'] >36.454, 36.454,df2['Return on net worth'])"
   ]
  },
  {
   "cell_type": "code",
   "execution_count": 54,
   "metadata": {},
   "outputs": [
    {
     "name": "stdout",
     "output_type": "stream",
     "text": [
      "-9.62\n",
      "14.013999999999996\n"
     ]
    }
   ],
   "source": [
    "print(df2['Return on total assets'].quantile(0.05))\n",
    "print(df2['Return on total assets'].quantile(0.95))"
   ]
  },
  {
   "cell_type": "code",
   "execution_count": 55,
   "metadata": {},
   "outputs": [
    {
     "name": "stderr",
     "output_type": "stream",
     "text": [
      "C:\\Users\\Dell laptop\\Anaconda3\\lib\\site-packages\\ipykernel_launcher.py:1: SettingWithCopyWarning: \n",
      "A value is trying to be set on a copy of a slice from a DataFrame.\n",
      "Try using .loc[row_indexer,col_indexer] = value instead\n",
      "\n",
      "See the caveats in the documentation: https://pandas.pydata.org/pandas-docs/stable/user_guide/indexing.html#returning-a-view-versus-a-copy\n",
      "  \"\"\"Entry point for launching an IPython kernel.\n",
      "C:\\Users\\Dell laptop\\Anaconda3\\lib\\site-packages\\ipykernel_launcher.py:2: SettingWithCopyWarning: \n",
      "A value is trying to be set on a copy of a slice from a DataFrame.\n",
      "Try using .loc[row_indexer,col_indexer] = value instead\n",
      "\n",
      "See the caveats in the documentation: https://pandas.pydata.org/pandas-docs/stable/user_guide/indexing.html#returning-a-view-versus-a-copy\n",
      "  \n"
     ]
    }
   ],
   "source": [
    "df2['Return on total assets'] = np.where(df2['Return on total assets'] <-9.62, -9.62,df2['Return on total assets'])\n",
    "df2['Return on total assets'] = np.where(df2['Return on total assets'] >14.014, 14.014,df2['Return on total assets'])"
   ]
  },
  {
   "cell_type": "markdown",
   "metadata": {},
   "source": [
    "### Imputing the missing values with KNN algorithm for all the columns that has missing values"
   ]
  },
  {
   "cell_type": "code",
   "execution_count": 56,
   "metadata": {},
   "outputs": [
    {
     "name": "stderr",
     "output_type": "stream",
     "text": [
      "C:\\Users\\Dell laptop\\Anaconda3\\lib\\site-packages\\ipykernel_launcher.py:4: SettingWithCopyWarning: \n",
      "A value is trying to be set on a copy of a slice from a DataFrame.\n",
      "Try using .loc[row_indexer,col_indexer] = value instead\n",
      "\n",
      "See the caveats in the documentation: https://pandas.pydata.org/pandas-docs/stable/user_guide/indexing.html#returning-a-view-versus-a-copy\n",
      "  after removing the cwd from sys.path.\n"
     ]
    }
   ],
   "source": [
    "from sklearn.impute import KNNImputer\n",
    "imputer = KNNImputer(n_neighbors=2)\n",
    "df2_filled = imputer.fit_transform(df2[['Quick ratio (times)']])\n",
    "df2['Quick ratio (times)']=df2_filled"
   ]
  },
  {
   "cell_type": "code",
   "execution_count": 57,
   "metadata": {},
   "outputs": [
    {
     "name": "stderr",
     "output_type": "stream",
     "text": [
      "C:\\Users\\Dell laptop\\Anaconda3\\lib\\site-packages\\ipykernel_launcher.py:3: SettingWithCopyWarning: \n",
      "A value is trying to be set on a copy of a slice from a DataFrame.\n",
      "Try using .loc[row_indexer,col_indexer] = value instead\n",
      "\n",
      "See the caveats in the documentation: https://pandas.pydata.org/pandas-docs/stable/user_guide/indexing.html#returning-a-view-versus-a-copy\n",
      "  This is separate from the ipykernel package so we can avoid doing imports until\n"
     ]
    }
   ],
   "source": [
    "imputer2 = KNNImputer(n_neighbors=2)\n",
    "df2_filled2 = imputer2.fit_transform(df2[['Current ratio (times)']])\n",
    "df2['Current ratio (times)']=df2_filled2"
   ]
  },
  {
   "cell_type": "code",
   "execution_count": 58,
   "metadata": {},
   "outputs": [
    {
     "name": "stderr",
     "output_type": "stream",
     "text": [
      "C:\\Users\\Dell laptop\\Anaconda3\\lib\\site-packages\\ipykernel_launcher.py:3: SettingWithCopyWarning: \n",
      "A value is trying to be set on a copy of a slice from a DataFrame.\n",
      "Try using .loc[row_indexer,col_indexer] = value instead\n",
      "\n",
      "See the caveats in the documentation: https://pandas.pydata.org/pandas-docs/stable/user_guide/indexing.html#returning-a-view-versus-a-copy\n",
      "  This is separate from the ipykernel package so we can avoid doing imports until\n"
     ]
    }
   ],
   "source": [
    "imputer3 = KNNImputer(n_neighbors=2)\n",
    "df2_filled3 = imputer3.fit_transform(df2[['Debt to equity ratio (times)']])\n",
    "df2['Debt to equity ratio (times)']=df2_filled3"
   ]
  },
  {
   "cell_type": "code",
   "execution_count": 59,
   "metadata": {},
   "outputs": [
    {
     "name": "stderr",
     "output_type": "stream",
     "text": [
      "C:\\Users\\Dell laptop\\Anaconda3\\lib\\site-packages\\ipykernel_launcher.py:3: SettingWithCopyWarning: \n",
      "A value is trying to be set on a copy of a slice from a DataFrame.\n",
      "Try using .loc[row_indexer,col_indexer] = value instead\n",
      "\n",
      "See the caveats in the documentation: https://pandas.pydata.org/pandas-docs/stable/user_guide/indexing.html#returning-a-view-versus-a-copy\n",
      "  This is separate from the ipykernel package so we can avoid doing imports until\n"
     ]
    }
   ],
   "source": [
    "imputer4 = KNNImputer(n_neighbors=2)\n",
    "df2_filled4 = imputer4.fit_transform(df2[['Interest cover (times)']])\n",
    "df2['Interest cover (times)']=df2_filled4"
   ]
  },
  {
   "cell_type": "code",
   "execution_count": 60,
   "metadata": {},
   "outputs": [
    {
     "name": "stderr",
     "output_type": "stream",
     "text": [
      "C:\\Users\\Dell laptop\\Anaconda3\\lib\\site-packages\\ipykernel_launcher.py:3: SettingWithCopyWarning: \n",
      "A value is trying to be set on a copy of a slice from a DataFrame.\n",
      "Try using .loc[row_indexer,col_indexer] = value instead\n",
      "\n",
      "See the caveats in the documentation: https://pandas.pydata.org/pandas-docs/stable/user_guide/indexing.html#returning-a-view-versus-a-copy\n",
      "  This is separate from the ipykernel package so we can avoid doing imports until\n"
     ]
    }
   ],
   "source": [
    "imputer5 = KNNImputer(n_neighbors=2)\n",
    "df2_filled5 = imputer5.fit_transform(df2[['Inventory Days']])\n",
    "df2['Inventory Days']=df2_filled5"
   ]
  },
  {
   "cell_type": "code",
   "execution_count": 61,
   "metadata": {},
   "outputs": [
    {
     "name": "stderr",
     "output_type": "stream",
     "text": [
      "C:\\Users\\Dell laptop\\Anaconda3\\lib\\site-packages\\ipykernel_launcher.py:3: SettingWithCopyWarning: \n",
      "A value is trying to be set on a copy of a slice from a DataFrame.\n",
      "Try using .loc[row_indexer,col_indexer] = value instead\n",
      "\n",
      "See the caveats in the documentation: https://pandas.pydata.org/pandas-docs/stable/user_guide/indexing.html#returning-a-view-versus-a-copy\n",
      "  This is separate from the ipykernel package so we can avoid doing imports until\n"
     ]
    }
   ],
   "source": [
    "imputer6 = KNNImputer(n_neighbors=2)\n",
    "df2_filled6 = imputer6.fit_transform(df2[['Debtor days (days)']])\n",
    "df2['Debtor days (days)']=df2_filled6"
   ]
  },
  {
   "cell_type": "code",
   "execution_count": 62,
   "metadata": {},
   "outputs": [
    {
     "name": "stderr",
     "output_type": "stream",
     "text": [
      "C:\\Users\\Dell laptop\\Anaconda3\\lib\\site-packages\\ipykernel_launcher.py:3: SettingWithCopyWarning: \n",
      "A value is trying to be set on a copy of a slice from a DataFrame.\n",
      "Try using .loc[row_indexer,col_indexer] = value instead\n",
      "\n",
      "See the caveats in the documentation: https://pandas.pydata.org/pandas-docs/stable/user_guide/indexing.html#returning-a-view-versus-a-copy\n",
      "  This is separate from the ipykernel package so we can avoid doing imports until\n"
     ]
    }
   ],
   "source": [
    "imputer7 = KNNImputer(n_neighbors=2)\n",
    "df2_filled7 = imputer7.fit_transform(df2[['Gross working capital cycle (days)']])\n",
    "df2['Gross working capital cycle (days)']=df2_filled7"
   ]
  },
  {
   "cell_type": "code",
   "execution_count": 63,
   "metadata": {},
   "outputs": [
    {
     "name": "stderr",
     "output_type": "stream",
     "text": [
      "C:\\Users\\Dell laptop\\Anaconda3\\lib\\site-packages\\ipykernel_launcher.py:3: SettingWithCopyWarning: \n",
      "A value is trying to be set on a copy of a slice from a DataFrame.\n",
      "Try using .loc[row_indexer,col_indexer] = value instead\n",
      "\n",
      "See the caveats in the documentation: https://pandas.pydata.org/pandas-docs/stable/user_guide/indexing.html#returning-a-view-versus-a-copy\n",
      "  This is separate from the ipykernel package so we can avoid doing imports until\n"
     ]
    }
   ],
   "source": [
    "imputer8 = KNNImputer(n_neighbors=2)\n",
    "df2_filled8 = imputer8.fit_transform(df2[['Creditor days (days)']])\n",
    "df2['Creditor days (days)']=df2_filled8"
   ]
  },
  {
   "cell_type": "code",
   "execution_count": 64,
   "metadata": {},
   "outputs": [
    {
     "name": "stderr",
     "output_type": "stream",
     "text": [
      "C:\\Users\\Dell laptop\\Anaconda3\\lib\\site-packages\\ipykernel_launcher.py:3: SettingWithCopyWarning: \n",
      "A value is trying to be set on a copy of a slice from a DataFrame.\n",
      "Try using .loc[row_indexer,col_indexer] = value instead\n",
      "\n",
      "See the caveats in the documentation: https://pandas.pydata.org/pandas-docs/stable/user_guide/indexing.html#returning-a-view-versus-a-copy\n",
      "  This is separate from the ipykernel package so we can avoid doing imports until\n"
     ]
    }
   ],
   "source": [
    "imputer9 = KNNImputer(n_neighbors=2)\n",
    "df2_filled9 = imputer9.fit_transform(df2[['Net working capital cycle (days)']])\n",
    "df2['Net working capital cycle (days)']=df2_filled9"
   ]
  },
  {
   "cell_type": "code",
   "execution_count": 65,
   "metadata": {},
   "outputs": [
    {
     "name": "stderr",
     "output_type": "stream",
     "text": [
      "C:\\Users\\Dell laptop\\Anaconda3\\lib\\site-packages\\ipykernel_launcher.py:3: SettingWithCopyWarning: \n",
      "A value is trying to be set on a copy of a slice from a DataFrame.\n",
      "Try using .loc[row_indexer,col_indexer] = value instead\n",
      "\n",
      "See the caveats in the documentation: https://pandas.pydata.org/pandas-docs/stable/user_guide/indexing.html#returning-a-view-versus-a-copy\n",
      "  This is separate from the ipykernel package so we can avoid doing imports until\n"
     ]
    }
   ],
   "source": [
    "imputer10 = KNNImputer(n_neighbors=2)\n",
    "df2_filled10 = imputer10.fit_transform(df2[['Total Income/ Compansation to employees']])\n",
    "df2['Total Income/ Compansation to employees']=df2_filled10"
   ]
  },
  {
   "cell_type": "code",
   "execution_count": 66,
   "metadata": {},
   "outputs": [
    {
     "name": "stderr",
     "output_type": "stream",
     "text": [
      "C:\\Users\\Dell laptop\\Anaconda3\\lib\\site-packages\\ipykernel_launcher.py:3: SettingWithCopyWarning: \n",
      "A value is trying to be set on a copy of a slice from a DataFrame.\n",
      "Try using .loc[row_indexer,col_indexer] = value instead\n",
      "\n",
      "See the caveats in the documentation: https://pandas.pydata.org/pandas-docs/stable/user_guide/indexing.html#returning-a-view-versus-a-copy\n",
      "  This is separate from the ipykernel package so we can avoid doing imports until\n"
     ]
    }
   ],
   "source": [
    "imputer11 = KNNImputer(n_neighbors=2)\n",
    "df2_filled11 = imputer11.fit_transform(df2[['Sales / GFA']])\n",
    "df2['Sales / GFA']=df2_filled11"
   ]
  },
  {
   "cell_type": "code",
   "execution_count": 67,
   "metadata": {},
   "outputs": [
    {
     "name": "stderr",
     "output_type": "stream",
     "text": [
      "C:\\Users\\Dell laptop\\Anaconda3\\lib\\site-packages\\ipykernel_launcher.py:3: SettingWithCopyWarning: \n",
      "A value is trying to be set on a copy of a slice from a DataFrame.\n",
      "Try using .loc[row_indexer,col_indexer] = value instead\n",
      "\n",
      "See the caveats in the documentation: https://pandas.pydata.org/pandas-docs/stable/user_guide/indexing.html#returning-a-view-versus-a-copy\n",
      "  This is separate from the ipykernel package so we can avoid doing imports until\n"
     ]
    }
   ],
   "source": [
    "imputer12 = KNNImputer(n_neighbors=2)\n",
    "df2_filled12 = imputer12.fit_transform(df2[['Sales / net fixed Assets']])\n",
    "df2['Sales / net fixed Assets']=df2_filled12"
   ]
  },
  {
   "cell_type": "code",
   "execution_count": 68,
   "metadata": {},
   "outputs": [
    {
     "name": "stderr",
     "output_type": "stream",
     "text": [
      "C:\\Users\\Dell laptop\\Anaconda3\\lib\\site-packages\\ipykernel_launcher.py:3: SettingWithCopyWarning: \n",
      "A value is trying to be set on a copy of a slice from a DataFrame.\n",
      "Try using .loc[row_indexer,col_indexer] = value instead\n",
      "\n",
      "See the caveats in the documentation: https://pandas.pydata.org/pandas-docs/stable/user_guide/indexing.html#returning-a-view-versus-a-copy\n",
      "  This is separate from the ipykernel package so we can avoid doing imports until\n"
     ]
    }
   ],
   "source": [
    "imputer13 = KNNImputer(n_neighbors=2)\n",
    "df2_filled13 = imputer13.fit_transform(df2[['Debt/EBIT']])\n",
    "df2['Debt/EBIT']=df2_filled13"
   ]
  },
  {
   "cell_type": "code",
   "execution_count": 69,
   "metadata": {},
   "outputs": [
    {
     "name": "stderr",
     "output_type": "stream",
     "text": [
      "C:\\Users\\Dell laptop\\Anaconda3\\lib\\site-packages\\ipykernel_launcher.py:3: SettingWithCopyWarning: \n",
      "A value is trying to be set on a copy of a slice from a DataFrame.\n",
      "Try using .loc[row_indexer,col_indexer] = value instead\n",
      "\n",
      "See the caveats in the documentation: https://pandas.pydata.org/pandas-docs/stable/user_guide/indexing.html#returning-a-view-versus-a-copy\n",
      "  This is separate from the ipykernel package so we can avoid doing imports until\n"
     ]
    }
   ],
   "source": [
    "imputer14 = KNNImputer(n_neighbors=2)\n",
    "df2_filled14 = imputer14.fit_transform(df2[['Return on net worth']])\n",
    "df2['Return on net worth']=df2_filled14"
   ]
  },
  {
   "cell_type": "code",
   "execution_count": 70,
   "metadata": {},
   "outputs": [
    {
     "name": "stderr",
     "output_type": "stream",
     "text": [
      "C:\\Users\\Dell laptop\\Anaconda3\\lib\\site-packages\\ipykernel_launcher.py:3: SettingWithCopyWarning: \n",
      "A value is trying to be set on a copy of a slice from a DataFrame.\n",
      "Try using .loc[row_indexer,col_indexer] = value instead\n",
      "\n",
      "See the caveats in the documentation: https://pandas.pydata.org/pandas-docs/stable/user_guide/indexing.html#returning-a-view-versus-a-copy\n",
      "  This is separate from the ipykernel package so we can avoid doing imports until\n"
     ]
    }
   ],
   "source": [
    "imputer15 = KNNImputer(n_neighbors=2)\n",
    "df2_filled15 = imputer15.fit_transform(df2[['Return on total assets']])\n",
    "df2['Return on total assets']=df2_filled15"
   ]
  },
  {
   "cell_type": "code",
   "execution_count": 71,
   "metadata": {},
   "outputs": [
    {
     "data": {
      "text/plain": [
       "Company Name                                0.0\n",
       "Year                                        0.0\n",
       "Normalized Rating                           0.0\n",
       "Ratings                                     0.0\n",
       "Sales                                       0.0\n",
       "GP Margin %                                 0.0\n",
       "PBDIT Margin %                              0.0\n",
       "PAT Margin %                                0.0\n",
       "PBT Percentage %                            0.0\n",
       "Quick ratio (times)                         0.0\n",
       "Current ratio (times)                       0.0\n",
       "Debt to equity ratio (times)                0.0\n",
       "Interest cover (times)                      0.0\n",
       "Inventory Days                              0.0\n",
       "Debtor days (days)                          0.0\n",
       "Gross working capital cycle (days)          0.0\n",
       "Creditor days (days)                        0.0\n",
       "Net working capital cycle (days)            0.0\n",
       "Total Income/Total asset                    0.0\n",
       "Total Income/ Compansation to employees     0.0\n",
       "Sales / GFA                                 0.0\n",
       "Sales / net fixed Assets                    0.0\n",
       "Debt/EBIT                                   0.0\n",
       "Total Outside liability/ Total Net Worth    0.0\n",
       "Return on net worth                         0.0\n",
       "Return on total assets                      0.0\n",
       "dtype: float64"
      ]
     },
     "execution_count": 71,
     "metadata": {},
     "output_type": "execute_result"
    }
   ],
   "source": [
    "## Now checking the percentage to see if NA values were replaced successfully.\n",
    "(df2.isna().sum())/df2.shape[0]*100"
   ]
  },
  {
   "cell_type": "code",
   "execution_count": 72,
   "metadata": {},
   "outputs": [
    {
     "data": {
      "text/plain": [
       "(8713, 26)"
      ]
     },
     "execution_count": 72,
     "metadata": {},
     "output_type": "execute_result"
    }
   ],
   "source": [
    "## Checking the number of rows and columns\n",
    "df2.shape"
   ]
  },
  {
   "cell_type": "markdown",
   "metadata": {},
   "source": [
    "### Checking the correlation matrix"
   ]
  },
  {
   "cell_type": "code",
   "execution_count": 73,
   "metadata": {},
   "outputs": [
    {
     "data": {
      "text/html": [
       "<div>\n",
       "<style scoped>\n",
       "    .dataframe tbody tr th:only-of-type {\n",
       "        vertical-align: middle;\n",
       "    }\n",
       "\n",
       "    .dataframe tbody tr th {\n",
       "        vertical-align: top;\n",
       "    }\n",
       "\n",
       "    .dataframe thead th {\n",
       "        text-align: right;\n",
       "    }\n",
       "</style>\n",
       "<table border=\"1\" class=\"dataframe\">\n",
       "  <thead>\n",
       "    <tr style=\"text-align: right;\">\n",
       "      <th></th>\n",
       "      <th>Year</th>\n",
       "      <th>Normalized Rating</th>\n",
       "      <th>Sales</th>\n",
       "      <th>GP Margin %</th>\n",
       "      <th>PBDIT Margin %</th>\n",
       "      <th>PAT Margin %</th>\n",
       "      <th>PBT Percentage %</th>\n",
       "      <th>Quick ratio (times)</th>\n",
       "      <th>Current ratio (times)</th>\n",
       "      <th>Debt to equity ratio (times)</th>\n",
       "      <th>Interest cover (times)</th>\n",
       "      <th>Inventory Days</th>\n",
       "      <th>Debtor days (days)</th>\n",
       "      <th>Gross working capital cycle (days)</th>\n",
       "      <th>Creditor days (days)</th>\n",
       "      <th>Net working capital cycle (days)</th>\n",
       "      <th>Total Income/Total asset</th>\n",
       "      <th>Total Income/ Compansation to employees</th>\n",
       "      <th>Sales / GFA</th>\n",
       "      <th>Sales / net fixed Assets</th>\n",
       "      <th>Debt/EBIT</th>\n",
       "      <th>Total Outside liability/ Total Net Worth</th>\n",
       "      <th>Return on net worth</th>\n",
       "      <th>Return on total assets</th>\n",
       "    </tr>\n",
       "  </thead>\n",
       "  <tbody>\n",
       "    <tr>\n",
       "      <th>Year</th>\n",
       "      <td>1.000000</td>\n",
       "      <td>-0.043782</td>\n",
       "      <td>0.103758</td>\n",
       "      <td>0.005742</td>\n",
       "      <td>-0.018117</td>\n",
       "      <td>-0.031665</td>\n",
       "      <td>-0.034088</td>\n",
       "      <td>0.043023</td>\n",
       "      <td>0.059818</td>\n",
       "      <td>-0.050102</td>\n",
       "      <td>0.049563</td>\n",
       "      <td>-0.013585</td>\n",
       "      <td>0.037590</td>\n",
       "      <td>-0.000990</td>\n",
       "      <td>0.059569</td>\n",
       "      <td>-0.045062</td>\n",
       "      <td>0.011207</td>\n",
       "      <td>-0.064165</td>\n",
       "      <td>0.029754</td>\n",
       "      <td>0.035449</td>\n",
       "      <td>-0.061552</td>\n",
       "      <td>-0.041371</td>\n",
       "      <td>-0.030018</td>\n",
       "      <td>-0.014183</td>\n",
       "    </tr>\n",
       "    <tr>\n",
       "      <th>Normalized Rating</th>\n",
       "      <td>-0.043782</td>\n",
       "      <td>1.000000</td>\n",
       "      <td>-0.395980</td>\n",
       "      <td>-0.082965</td>\n",
       "      <td>-0.196546</td>\n",
       "      <td>-0.368856</td>\n",
       "      <td>-0.243530</td>\n",
       "      <td>-0.209287</td>\n",
       "      <td>-0.150658</td>\n",
       "      <td>0.291091</td>\n",
       "      <td>-0.300234</td>\n",
       "      <td>0.080953</td>\n",
       "      <td>0.111270</td>\n",
       "      <td>0.125466</td>\n",
       "      <td>0.014358</td>\n",
       "      <td>0.123903</td>\n",
       "      <td>0.019701</td>\n",
       "      <td>0.127262</td>\n",
       "      <td>0.052896</td>\n",
       "      <td>0.057988</td>\n",
       "      <td>0.231393</td>\n",
       "      <td>0.219961</td>\n",
       "      <td>-0.250464</td>\n",
       "      <td>-0.363595</td>\n",
       "    </tr>\n",
       "    <tr>\n",
       "      <th>Sales</th>\n",
       "      <td>0.103758</td>\n",
       "      <td>-0.395980</td>\n",
       "      <td>1.000000</td>\n",
       "      <td>0.087705</td>\n",
       "      <td>-0.078194</td>\n",
       "      <td>0.141623</td>\n",
       "      <td>-0.006552</td>\n",
       "      <td>-0.005267</td>\n",
       "      <td>-0.045629</td>\n",
       "      <td>-0.112528</td>\n",
       "      <td>0.146072</td>\n",
       "      <td>-0.117804</td>\n",
       "      <td>-0.192550</td>\n",
       "      <td>-0.180909</td>\n",
       "      <td>-0.167109</td>\n",
       "      <td>-0.063997</td>\n",
       "      <td>0.167796</td>\n",
       "      <td>0.129031</td>\n",
       "      <td>0.094202</td>\n",
       "      <td>0.066564</td>\n",
       "      <td>-0.105101</td>\n",
       "      <td>-0.027327</td>\n",
       "      <td>0.159277</td>\n",
       "      <td>0.192525</td>\n",
       "    </tr>\n",
       "    <tr>\n",
       "      <th>GP Margin %</th>\n",
       "      <td>0.005742</td>\n",
       "      <td>-0.082965</td>\n",
       "      <td>0.087705</td>\n",
       "      <td>1.000000</td>\n",
       "      <td>0.212426</td>\n",
       "      <td>0.100307</td>\n",
       "      <td>0.193527</td>\n",
       "      <td>0.161870</td>\n",
       "      <td>0.047829</td>\n",
       "      <td>-0.029299</td>\n",
       "      <td>0.038979</td>\n",
       "      <td>0.143903</td>\n",
       "      <td>0.042809</td>\n",
       "      <td>0.063269</td>\n",
       "      <td>0.077925</td>\n",
       "      <td>-0.006695</td>\n",
       "      <td>0.023456</td>\n",
       "      <td>0.131383</td>\n",
       "      <td>0.315193</td>\n",
       "      <td>0.314919</td>\n",
       "      <td>0.005008</td>\n",
       "      <td>0.012989</td>\n",
       "      <td>0.060381</td>\n",
       "      <td>0.074164</td>\n",
       "    </tr>\n",
       "    <tr>\n",
       "      <th>PBDIT Margin %</th>\n",
       "      <td>-0.018117</td>\n",
       "      <td>-0.196546</td>\n",
       "      <td>-0.078194</td>\n",
       "      <td>0.212426</td>\n",
       "      <td>1.000000</td>\n",
       "      <td>0.519429</td>\n",
       "      <td>0.916186</td>\n",
       "      <td>0.144180</td>\n",
       "      <td>0.073092</td>\n",
       "      <td>-0.015989</td>\n",
       "      <td>0.144599</td>\n",
       "      <td>0.250586</td>\n",
       "      <td>0.160380</td>\n",
       "      <td>0.263666</td>\n",
       "      <td>0.302712</td>\n",
       "      <td>0.033967</td>\n",
       "      <td>-0.536533</td>\n",
       "      <td>-0.233054</td>\n",
       "      <td>-0.267279</td>\n",
       "      <td>-0.255886</td>\n",
       "      <td>0.018922</td>\n",
       "      <td>-0.080788</td>\n",
       "      <td>0.157640</td>\n",
       "      <td>0.246608</td>\n",
       "    </tr>\n",
       "    <tr>\n",
       "      <th>PAT Margin %</th>\n",
       "      <td>-0.031665</td>\n",
       "      <td>-0.368856</td>\n",
       "      <td>0.141623</td>\n",
       "      <td>0.100307</td>\n",
       "      <td>0.519429</td>\n",
       "      <td>1.000000</td>\n",
       "      <td>0.720987</td>\n",
       "      <td>0.322461</td>\n",
       "      <td>0.323103</td>\n",
       "      <td>-0.341643</td>\n",
       "      <td>0.335894</td>\n",
       "      <td>-0.038660</td>\n",
       "      <td>-0.053817</td>\n",
       "      <td>-0.048385</td>\n",
       "      <td>-0.043659</td>\n",
       "      <td>-0.019665</td>\n",
       "      <td>-0.026529</td>\n",
       "      <td>-0.090661</td>\n",
       "      <td>-0.026410</td>\n",
       "      <td>-0.025661</td>\n",
       "      <td>-0.253476</td>\n",
       "      <td>-0.257246</td>\n",
       "      <td>0.611742</td>\n",
       "      <td>0.747581</td>\n",
       "    </tr>\n",
       "    <tr>\n",
       "      <th>PBT Percentage %</th>\n",
       "      <td>-0.034088</td>\n",
       "      <td>-0.243530</td>\n",
       "      <td>-0.006552</td>\n",
       "      <td>0.193527</td>\n",
       "      <td>0.916186</td>\n",
       "      <td>0.720987</td>\n",
       "      <td>1.000000</td>\n",
       "      <td>0.194368</td>\n",
       "      <td>0.160508</td>\n",
       "      <td>-0.092648</td>\n",
       "      <td>0.197503</td>\n",
       "      <td>0.198898</td>\n",
       "      <td>0.110798</td>\n",
       "      <td>0.208459</td>\n",
       "      <td>0.202503</td>\n",
       "      <td>0.052944</td>\n",
       "      <td>-0.403236</td>\n",
       "      <td>-0.176616</td>\n",
       "      <td>-0.170840</td>\n",
       "      <td>-0.164046</td>\n",
       "      <td>-0.044427</td>\n",
       "      <td>-0.114089</td>\n",
       "      <td>0.335764</td>\n",
       "      <td>0.445352</td>\n",
       "    </tr>\n",
       "    <tr>\n",
       "      <th>Quick ratio (times)</th>\n",
       "      <td>0.043023</td>\n",
       "      <td>-0.209287</td>\n",
       "      <td>-0.005267</td>\n",
       "      <td>0.161870</td>\n",
       "      <td>0.144180</td>\n",
       "      <td>0.322461</td>\n",
       "      <td>0.194368</td>\n",
       "      <td>1.000000</td>\n",
       "      <td>0.797940</td>\n",
       "      <td>-0.346133</td>\n",
       "      <td>0.403157</td>\n",
       "      <td>-0.157928</td>\n",
       "      <td>0.285848</td>\n",
       "      <td>-0.043828</td>\n",
       "      <td>0.057128</td>\n",
       "      <td>-0.066690</td>\n",
       "      <td>0.014123</td>\n",
       "      <td>-0.009944</td>\n",
       "      <td>0.084314</td>\n",
       "      <td>0.099990</td>\n",
       "      <td>-0.254765</td>\n",
       "      <td>-0.297624</td>\n",
       "      <td>0.186021</td>\n",
       "      <td>0.336424</td>\n",
       "    </tr>\n",
       "    <tr>\n",
       "      <th>Current ratio (times)</th>\n",
       "      <td>0.059818</td>\n",
       "      <td>-0.150658</td>\n",
       "      <td>-0.045629</td>\n",
       "      <td>0.047829</td>\n",
       "      <td>0.073092</td>\n",
       "      <td>0.323103</td>\n",
       "      <td>0.160508</td>\n",
       "      <td>0.797940</td>\n",
       "      <td>1.000000</td>\n",
       "      <td>-0.326251</td>\n",
       "      <td>0.369629</td>\n",
       "      <td>0.022288</td>\n",
       "      <td>0.111503</td>\n",
       "      <td>0.047939</td>\n",
       "      <td>-0.075191</td>\n",
       "      <td>0.129586</td>\n",
       "      <td>0.068151</td>\n",
       "      <td>0.020179</td>\n",
       "      <td>0.082774</td>\n",
       "      <td>0.097034</td>\n",
       "      <td>-0.212629</td>\n",
       "      <td>-0.304387</td>\n",
       "      <td>0.194480</td>\n",
       "      <td>0.354330</td>\n",
       "    </tr>\n",
       "    <tr>\n",
       "      <th>Debt to equity ratio (times)</th>\n",
       "      <td>-0.050102</td>\n",
       "      <td>0.291091</td>\n",
       "      <td>-0.112528</td>\n",
       "      <td>-0.029299</td>\n",
       "      <td>-0.015989</td>\n",
       "      <td>-0.341643</td>\n",
       "      <td>-0.092648</td>\n",
       "      <td>-0.346133</td>\n",
       "      <td>-0.326251</td>\n",
       "      <td>1.000000</td>\n",
       "      <td>-0.316244</td>\n",
       "      <td>0.089021</td>\n",
       "      <td>-0.034287</td>\n",
       "      <td>0.072003</td>\n",
       "      <td>0.005532</td>\n",
       "      <td>0.064205</td>\n",
       "      <td>-0.058871</td>\n",
       "      <td>0.129587</td>\n",
       "      <td>0.009703</td>\n",
       "      <td>-0.006945</td>\n",
       "      <td>0.579434</td>\n",
       "      <td>0.862367</td>\n",
       "      <td>-0.305783</td>\n",
       "      <td>-0.393746</td>\n",
       "    </tr>\n",
       "    <tr>\n",
       "      <th>Interest cover (times)</th>\n",
       "      <td>0.049563</td>\n",
       "      <td>-0.300234</td>\n",
       "      <td>0.146072</td>\n",
       "      <td>0.038979</td>\n",
       "      <td>0.144599</td>\n",
       "      <td>0.335894</td>\n",
       "      <td>0.197503</td>\n",
       "      <td>0.403157</td>\n",
       "      <td>0.369629</td>\n",
       "      <td>-0.316244</td>\n",
       "      <td>1.000000</td>\n",
       "      <td>-0.029465</td>\n",
       "      <td>-0.012136</td>\n",
       "      <td>-0.041068</td>\n",
       "      <td>0.040855</td>\n",
       "      <td>-0.067142</td>\n",
       "      <td>-0.026450</td>\n",
       "      <td>-0.124234</td>\n",
       "      <td>-0.021860</td>\n",
       "      <td>-0.011397</td>\n",
       "      <td>-0.337332</td>\n",
       "      <td>-0.235198</td>\n",
       "      <td>0.233127</td>\n",
       "      <td>0.403550</td>\n",
       "    </tr>\n",
       "    <tr>\n",
       "      <th>Inventory Days</th>\n",
       "      <td>-0.013585</td>\n",
       "      <td>0.080953</td>\n",
       "      <td>-0.117804</td>\n",
       "      <td>0.143903</td>\n",
       "      <td>0.250586</td>\n",
       "      <td>-0.038660</td>\n",
       "      <td>0.198898</td>\n",
       "      <td>-0.157928</td>\n",
       "      <td>0.022288</td>\n",
       "      <td>0.089021</td>\n",
       "      <td>-0.029465</td>\n",
       "      <td>1.000000</td>\n",
       "      <td>0.149520</td>\n",
       "      <td>0.826382</td>\n",
       "      <td>0.246430</td>\n",
       "      <td>0.657431</td>\n",
       "      <td>-0.409389</td>\n",
       "      <td>-0.158121</td>\n",
       "      <td>-0.111337</td>\n",
       "      <td>-0.090570</td>\n",
       "      <td>0.110160</td>\n",
       "      <td>0.075719</td>\n",
       "      <td>-0.159956</td>\n",
       "      <td>-0.168276</td>\n",
       "    </tr>\n",
       "    <tr>\n",
       "      <th>Debtor days (days)</th>\n",
       "      <td>0.037590</td>\n",
       "      <td>0.111270</td>\n",
       "      <td>-0.192550</td>\n",
       "      <td>0.042809</td>\n",
       "      <td>0.160380</td>\n",
       "      <td>-0.053817</td>\n",
       "      <td>0.110798</td>\n",
       "      <td>0.285848</td>\n",
       "      <td>0.111503</td>\n",
       "      <td>-0.034287</td>\n",
       "      <td>-0.012136</td>\n",
       "      <td>0.149520</td>\n",
       "      <td>1.000000</td>\n",
       "      <td>0.538132</td>\n",
       "      <td>0.419026</td>\n",
       "      <td>0.254845</td>\n",
       "      <td>-0.375699</td>\n",
       "      <td>-0.130440</td>\n",
       "      <td>-0.026882</td>\n",
       "      <td>-0.000478</td>\n",
       "      <td>0.008300</td>\n",
       "      <td>-0.009862</td>\n",
       "      <td>-0.135866</td>\n",
       "      <td>-0.160290</td>\n",
       "    </tr>\n",
       "    <tr>\n",
       "      <th>Gross working capital cycle (days)</th>\n",
       "      <td>-0.000990</td>\n",
       "      <td>0.125466</td>\n",
       "      <td>-0.180909</td>\n",
       "      <td>0.063269</td>\n",
       "      <td>0.263666</td>\n",
       "      <td>-0.048385</td>\n",
       "      <td>0.208459</td>\n",
       "      <td>-0.043828</td>\n",
       "      <td>0.047939</td>\n",
       "      <td>0.072003</td>\n",
       "      <td>-0.041068</td>\n",
       "      <td>0.826382</td>\n",
       "      <td>0.538132</td>\n",
       "      <td>1.000000</td>\n",
       "      <td>0.374073</td>\n",
       "      <td>0.706245</td>\n",
       "      <td>-0.446003</td>\n",
       "      <td>-0.156794</td>\n",
       "      <td>-0.089672</td>\n",
       "      <td>-0.067943</td>\n",
       "      <td>0.094136</td>\n",
       "      <td>0.069715</td>\n",
       "      <td>-0.170217</td>\n",
       "      <td>-0.203393</td>\n",
       "    </tr>\n",
       "    <tr>\n",
       "      <th>Creditor days (days)</th>\n",
       "      <td>0.059569</td>\n",
       "      <td>0.014358</td>\n",
       "      <td>-0.167109</td>\n",
       "      <td>0.077925</td>\n",
       "      <td>0.302712</td>\n",
       "      <td>-0.043659</td>\n",
       "      <td>0.202503</td>\n",
       "      <td>0.057128</td>\n",
       "      <td>-0.075191</td>\n",
       "      <td>0.005532</td>\n",
       "      <td>0.040855</td>\n",
       "      <td>0.246430</td>\n",
       "      <td>0.419026</td>\n",
       "      <td>0.374073</td>\n",
       "      <td>1.000000</td>\n",
       "      <td>-0.278259</td>\n",
       "      <td>-0.367031</td>\n",
       "      <td>-0.181853</td>\n",
       "      <td>-0.094415</td>\n",
       "      <td>-0.058854</td>\n",
       "      <td>-0.008691</td>\n",
       "      <td>0.053104</td>\n",
       "      <td>-0.138402</td>\n",
       "      <td>-0.170989</td>\n",
       "    </tr>\n",
       "    <tr>\n",
       "      <th>Net working capital cycle (days)</th>\n",
       "      <td>-0.045062</td>\n",
       "      <td>0.123903</td>\n",
       "      <td>-0.063997</td>\n",
       "      <td>-0.006695</td>\n",
       "      <td>0.033967</td>\n",
       "      <td>-0.019665</td>\n",
       "      <td>0.052944</td>\n",
       "      <td>-0.066690</td>\n",
       "      <td>0.129586</td>\n",
       "      <td>0.064205</td>\n",
       "      <td>-0.067142</td>\n",
       "      <td>0.657431</td>\n",
       "      <td>0.254845</td>\n",
       "      <td>0.706245</td>\n",
       "      <td>-0.278259</td>\n",
       "      <td>1.000000</td>\n",
       "      <td>-0.197742</td>\n",
       "      <td>-0.035208</td>\n",
       "      <td>-0.037694</td>\n",
       "      <td>-0.038050</td>\n",
       "      <td>0.098456</td>\n",
       "      <td>0.017603</td>\n",
       "      <td>-0.073798</td>\n",
       "      <td>-0.082005</td>\n",
       "    </tr>\n",
       "    <tr>\n",
       "      <th>Total Income/Total asset</th>\n",
       "      <td>0.011207</td>\n",
       "      <td>0.019701</td>\n",
       "      <td>0.167796</td>\n",
       "      <td>0.023456</td>\n",
       "      <td>-0.536533</td>\n",
       "      <td>-0.026529</td>\n",
       "      <td>-0.403236</td>\n",
       "      <td>0.014123</td>\n",
       "      <td>0.068151</td>\n",
       "      <td>-0.058871</td>\n",
       "      <td>-0.026450</td>\n",
       "      <td>-0.409389</td>\n",
       "      <td>-0.375699</td>\n",
       "      <td>-0.446003</td>\n",
       "      <td>-0.367031</td>\n",
       "      <td>-0.197742</td>\n",
       "      <td>1.000000</td>\n",
       "      <td>0.440652</td>\n",
       "      <td>0.499285</td>\n",
       "      <td>0.472922</td>\n",
       "      <td>-0.135925</td>\n",
       "      <td>0.005434</td>\n",
       "      <td>0.257417</td>\n",
       "      <td>0.216284</td>\n",
       "    </tr>\n",
       "    <tr>\n",
       "      <th>Total Income/ Compansation to employees</th>\n",
       "      <td>-0.064165</td>\n",
       "      <td>0.127262</td>\n",
       "      <td>0.129031</td>\n",
       "      <td>0.131383</td>\n",
       "      <td>-0.233054</td>\n",
       "      <td>-0.090661</td>\n",
       "      <td>-0.176616</td>\n",
       "      <td>-0.009944</td>\n",
       "      <td>0.020179</td>\n",
       "      <td>0.129587</td>\n",
       "      <td>-0.124234</td>\n",
       "      <td>-0.158121</td>\n",
       "      <td>-0.130440</td>\n",
       "      <td>-0.156794</td>\n",
       "      <td>-0.181853</td>\n",
       "      <td>-0.035208</td>\n",
       "      <td>0.440652</td>\n",
       "      <td>1.000000</td>\n",
       "      <td>0.530224</td>\n",
       "      <td>0.494607</td>\n",
       "      <td>0.138116</td>\n",
       "      <td>0.156681</td>\n",
       "      <td>0.028942</td>\n",
       "      <td>-0.027248</td>\n",
       "    </tr>\n",
       "    <tr>\n",
       "      <th>Sales / GFA</th>\n",
       "      <td>0.029754</td>\n",
       "      <td>0.052896</td>\n",
       "      <td>0.094202</td>\n",
       "      <td>0.315193</td>\n",
       "      <td>-0.267279</td>\n",
       "      <td>-0.026410</td>\n",
       "      <td>-0.170840</td>\n",
       "      <td>0.084314</td>\n",
       "      <td>0.082774</td>\n",
       "      <td>0.009703</td>\n",
       "      <td>-0.021860</td>\n",
       "      <td>-0.111337</td>\n",
       "      <td>-0.026882</td>\n",
       "      <td>-0.089672</td>\n",
       "      <td>-0.094415</td>\n",
       "      <td>-0.037694</td>\n",
       "      <td>0.499285</td>\n",
       "      <td>0.530224</td>\n",
       "      <td>1.000000</td>\n",
       "      <td>0.947607</td>\n",
       "      <td>0.015845</td>\n",
       "      <td>0.127827</td>\n",
       "      <td>0.111148</td>\n",
       "      <td>0.051748</td>\n",
       "    </tr>\n",
       "    <tr>\n",
       "      <th>Sales / net fixed Assets</th>\n",
       "      <td>0.035449</td>\n",
       "      <td>0.057988</td>\n",
       "      <td>0.066564</td>\n",
       "      <td>0.314919</td>\n",
       "      <td>-0.255886</td>\n",
       "      <td>-0.025661</td>\n",
       "      <td>-0.164046</td>\n",
       "      <td>0.099990</td>\n",
       "      <td>0.097034</td>\n",
       "      <td>-0.006945</td>\n",
       "      <td>-0.011397</td>\n",
       "      <td>-0.090570</td>\n",
       "      <td>-0.000478</td>\n",
       "      <td>-0.067943</td>\n",
       "      <td>-0.058854</td>\n",
       "      <td>-0.038050</td>\n",
       "      <td>0.472922</td>\n",
       "      <td>0.494607</td>\n",
       "      <td>0.947607</td>\n",
       "      <td>1.000000</td>\n",
       "      <td>0.001539</td>\n",
       "      <td>0.115434</td>\n",
       "      <td>0.094680</td>\n",
       "      <td>0.037229</td>\n",
       "    </tr>\n",
       "    <tr>\n",
       "      <th>Debt/EBIT</th>\n",
       "      <td>-0.061552</td>\n",
       "      <td>0.231393</td>\n",
       "      <td>-0.105101</td>\n",
       "      <td>0.005008</td>\n",
       "      <td>0.018922</td>\n",
       "      <td>-0.253476</td>\n",
       "      <td>-0.044427</td>\n",
       "      <td>-0.254765</td>\n",
       "      <td>-0.212629</td>\n",
       "      <td>0.579434</td>\n",
       "      <td>-0.337332</td>\n",
       "      <td>0.110160</td>\n",
       "      <td>0.008300</td>\n",
       "      <td>0.094136</td>\n",
       "      <td>-0.008691</td>\n",
       "      <td>0.098456</td>\n",
       "      <td>-0.135925</td>\n",
       "      <td>0.138116</td>\n",
       "      <td>0.015845</td>\n",
       "      <td>0.001539</td>\n",
       "      <td>1.000000</td>\n",
       "      <td>0.489081</td>\n",
       "      <td>-0.350908</td>\n",
       "      <td>-0.359532</td>\n",
       "    </tr>\n",
       "    <tr>\n",
       "      <th>Total Outside liability/ Total Net Worth</th>\n",
       "      <td>-0.041371</td>\n",
       "      <td>0.219961</td>\n",
       "      <td>-0.027327</td>\n",
       "      <td>0.012989</td>\n",
       "      <td>-0.080788</td>\n",
       "      <td>-0.257246</td>\n",
       "      <td>-0.114089</td>\n",
       "      <td>-0.297624</td>\n",
       "      <td>-0.304387</td>\n",
       "      <td>0.862367</td>\n",
       "      <td>-0.235198</td>\n",
       "      <td>0.075719</td>\n",
       "      <td>-0.009862</td>\n",
       "      <td>0.069715</td>\n",
       "      <td>0.053104</td>\n",
       "      <td>0.017603</td>\n",
       "      <td>0.005434</td>\n",
       "      <td>0.156681</td>\n",
       "      <td>0.127827</td>\n",
       "      <td>0.115434</td>\n",
       "      <td>0.489081</td>\n",
       "      <td>1.000000</td>\n",
       "      <td>-0.243285</td>\n",
       "      <td>-0.307373</td>\n",
       "    </tr>\n",
       "    <tr>\n",
       "      <th>Return on net worth</th>\n",
       "      <td>-0.030018</td>\n",
       "      <td>-0.250464</td>\n",
       "      <td>0.159277</td>\n",
       "      <td>0.060381</td>\n",
       "      <td>0.157640</td>\n",
       "      <td>0.611742</td>\n",
       "      <td>0.335764</td>\n",
       "      <td>0.186021</td>\n",
       "      <td>0.194480</td>\n",
       "      <td>-0.305783</td>\n",
       "      <td>0.233127</td>\n",
       "      <td>-0.159956</td>\n",
       "      <td>-0.135866</td>\n",
       "      <td>-0.170217</td>\n",
       "      <td>-0.138402</td>\n",
       "      <td>-0.073798</td>\n",
       "      <td>0.257417</td>\n",
       "      <td>0.028942</td>\n",
       "      <td>0.111148</td>\n",
       "      <td>0.094680</td>\n",
       "      <td>-0.350908</td>\n",
       "      <td>-0.243285</td>\n",
       "      <td>1.000000</td>\n",
       "      <td>0.823475</td>\n",
       "    </tr>\n",
       "    <tr>\n",
       "      <th>Return on total assets</th>\n",
       "      <td>-0.014183</td>\n",
       "      <td>-0.363595</td>\n",
       "      <td>0.192525</td>\n",
       "      <td>0.074164</td>\n",
       "      <td>0.246608</td>\n",
       "      <td>0.747581</td>\n",
       "      <td>0.445352</td>\n",
       "      <td>0.336424</td>\n",
       "      <td>0.354330</td>\n",
       "      <td>-0.393746</td>\n",
       "      <td>0.403550</td>\n",
       "      <td>-0.168276</td>\n",
       "      <td>-0.160290</td>\n",
       "      <td>-0.203393</td>\n",
       "      <td>-0.170989</td>\n",
       "      <td>-0.082005</td>\n",
       "      <td>0.216284</td>\n",
       "      <td>-0.027248</td>\n",
       "      <td>0.051748</td>\n",
       "      <td>0.037229</td>\n",
       "      <td>-0.359532</td>\n",
       "      <td>-0.307373</td>\n",
       "      <td>0.823475</td>\n",
       "      <td>1.000000</td>\n",
       "    </tr>\n",
       "  </tbody>\n",
       "</table>\n",
       "</div>"
      ],
      "text/plain": [
       "                                              Year  Normalized Rating  \\\n",
       "Year                                      1.000000          -0.043782   \n",
       "Normalized Rating                        -0.043782           1.000000   \n",
       "Sales                                     0.103758          -0.395980   \n",
       "GP Margin %                               0.005742          -0.082965   \n",
       "PBDIT Margin %                           -0.018117          -0.196546   \n",
       "PAT Margin %                             -0.031665          -0.368856   \n",
       "PBT Percentage %                         -0.034088          -0.243530   \n",
       "Quick ratio (times)                       0.043023          -0.209287   \n",
       "Current ratio (times)                     0.059818          -0.150658   \n",
       "Debt to equity ratio (times)             -0.050102           0.291091   \n",
       "Interest cover (times)                    0.049563          -0.300234   \n",
       "Inventory Days                           -0.013585           0.080953   \n",
       "Debtor days (days)                        0.037590           0.111270   \n",
       "Gross working capital cycle (days)       -0.000990           0.125466   \n",
       "Creditor days (days)                      0.059569           0.014358   \n",
       "Net working capital cycle (days)         -0.045062           0.123903   \n",
       "Total Income/Total asset                  0.011207           0.019701   \n",
       "Total Income/ Compansation to employees  -0.064165           0.127262   \n",
       "Sales / GFA                               0.029754           0.052896   \n",
       "Sales / net fixed Assets                  0.035449           0.057988   \n",
       "Debt/EBIT                                -0.061552           0.231393   \n",
       "Total Outside liability/ Total Net Worth -0.041371           0.219961   \n",
       "Return on net worth                      -0.030018          -0.250464   \n",
       "Return on total assets                   -0.014183          -0.363595   \n",
       "\n",
       "                                             Sales  GP Margin %  \\\n",
       "Year                                      0.103758     0.005742   \n",
       "Normalized Rating                        -0.395980    -0.082965   \n",
       "Sales                                     1.000000     0.087705   \n",
       "GP Margin %                               0.087705     1.000000   \n",
       "PBDIT Margin %                           -0.078194     0.212426   \n",
       "PAT Margin %                              0.141623     0.100307   \n",
       "PBT Percentage %                         -0.006552     0.193527   \n",
       "Quick ratio (times)                      -0.005267     0.161870   \n",
       "Current ratio (times)                    -0.045629     0.047829   \n",
       "Debt to equity ratio (times)             -0.112528    -0.029299   \n",
       "Interest cover (times)                    0.146072     0.038979   \n",
       "Inventory Days                           -0.117804     0.143903   \n",
       "Debtor days (days)                       -0.192550     0.042809   \n",
       "Gross working capital cycle (days)       -0.180909     0.063269   \n",
       "Creditor days (days)                     -0.167109     0.077925   \n",
       "Net working capital cycle (days)         -0.063997    -0.006695   \n",
       "Total Income/Total asset                  0.167796     0.023456   \n",
       "Total Income/ Compansation to employees   0.129031     0.131383   \n",
       "Sales / GFA                               0.094202     0.315193   \n",
       "Sales / net fixed Assets                  0.066564     0.314919   \n",
       "Debt/EBIT                                -0.105101     0.005008   \n",
       "Total Outside liability/ Total Net Worth -0.027327     0.012989   \n",
       "Return on net worth                       0.159277     0.060381   \n",
       "Return on total assets                    0.192525     0.074164   \n",
       "\n",
       "                                          PBDIT Margin %  PAT Margin %  \\\n",
       "Year                                           -0.018117     -0.031665   \n",
       "Normalized Rating                              -0.196546     -0.368856   \n",
       "Sales                                          -0.078194      0.141623   \n",
       "GP Margin %                                     0.212426      0.100307   \n",
       "PBDIT Margin %                                  1.000000      0.519429   \n",
       "PAT Margin %                                    0.519429      1.000000   \n",
       "PBT Percentage %                                0.916186      0.720987   \n",
       "Quick ratio (times)                             0.144180      0.322461   \n",
       "Current ratio (times)                           0.073092      0.323103   \n",
       "Debt to equity ratio (times)                   -0.015989     -0.341643   \n",
       "Interest cover (times)                          0.144599      0.335894   \n",
       "Inventory Days                                  0.250586     -0.038660   \n",
       "Debtor days (days)                              0.160380     -0.053817   \n",
       "Gross working capital cycle (days)              0.263666     -0.048385   \n",
       "Creditor days (days)                            0.302712     -0.043659   \n",
       "Net working capital cycle (days)                0.033967     -0.019665   \n",
       "Total Income/Total asset                       -0.536533     -0.026529   \n",
       "Total Income/ Compansation to employees        -0.233054     -0.090661   \n",
       "Sales / GFA                                    -0.267279     -0.026410   \n",
       "Sales / net fixed Assets                       -0.255886     -0.025661   \n",
       "Debt/EBIT                                       0.018922     -0.253476   \n",
       "Total Outside liability/ Total Net Worth       -0.080788     -0.257246   \n",
       "Return on net worth                             0.157640      0.611742   \n",
       "Return on total assets                          0.246608      0.747581   \n",
       "\n",
       "                                          PBT Percentage %  \\\n",
       "Year                                             -0.034088   \n",
       "Normalized Rating                                -0.243530   \n",
       "Sales                                            -0.006552   \n",
       "GP Margin %                                       0.193527   \n",
       "PBDIT Margin %                                    0.916186   \n",
       "PAT Margin %                                      0.720987   \n",
       "PBT Percentage %                                  1.000000   \n",
       "Quick ratio (times)                               0.194368   \n",
       "Current ratio (times)                             0.160508   \n",
       "Debt to equity ratio (times)                     -0.092648   \n",
       "Interest cover (times)                            0.197503   \n",
       "Inventory Days                                    0.198898   \n",
       "Debtor days (days)                                0.110798   \n",
       "Gross working capital cycle (days)                0.208459   \n",
       "Creditor days (days)                              0.202503   \n",
       "Net working capital cycle (days)                  0.052944   \n",
       "Total Income/Total asset                         -0.403236   \n",
       "Total Income/ Compansation to employees          -0.176616   \n",
       "Sales / GFA                                      -0.170840   \n",
       "Sales / net fixed Assets                         -0.164046   \n",
       "Debt/EBIT                                        -0.044427   \n",
       "Total Outside liability/ Total Net Worth         -0.114089   \n",
       "Return on net worth                               0.335764   \n",
       "Return on total assets                            0.445352   \n",
       "\n",
       "                                          Quick ratio (times)  \\\n",
       "Year                                                 0.043023   \n",
       "Normalized Rating                                   -0.209287   \n",
       "Sales                                               -0.005267   \n",
       "GP Margin %                                          0.161870   \n",
       "PBDIT Margin %                                       0.144180   \n",
       "PAT Margin %                                         0.322461   \n",
       "PBT Percentage %                                     0.194368   \n",
       "Quick ratio (times)                                  1.000000   \n",
       "Current ratio (times)                                0.797940   \n",
       "Debt to equity ratio (times)                        -0.346133   \n",
       "Interest cover (times)                               0.403157   \n",
       "Inventory Days                                      -0.157928   \n",
       "Debtor days (days)                                   0.285848   \n",
       "Gross working capital cycle (days)                  -0.043828   \n",
       "Creditor days (days)                                 0.057128   \n",
       "Net working capital cycle (days)                    -0.066690   \n",
       "Total Income/Total asset                             0.014123   \n",
       "Total Income/ Compansation to employees             -0.009944   \n",
       "Sales / GFA                                          0.084314   \n",
       "Sales / net fixed Assets                             0.099990   \n",
       "Debt/EBIT                                           -0.254765   \n",
       "Total Outside liability/ Total Net Worth            -0.297624   \n",
       "Return on net worth                                  0.186021   \n",
       "Return on total assets                               0.336424   \n",
       "\n",
       "                                          Current ratio (times)  \\\n",
       "Year                                                   0.059818   \n",
       "Normalized Rating                                     -0.150658   \n",
       "Sales                                                 -0.045629   \n",
       "GP Margin %                                            0.047829   \n",
       "PBDIT Margin %                                         0.073092   \n",
       "PAT Margin %                                           0.323103   \n",
       "PBT Percentage %                                       0.160508   \n",
       "Quick ratio (times)                                    0.797940   \n",
       "Current ratio (times)                                  1.000000   \n",
       "Debt to equity ratio (times)                          -0.326251   \n",
       "Interest cover (times)                                 0.369629   \n",
       "Inventory Days                                         0.022288   \n",
       "Debtor days (days)                                     0.111503   \n",
       "Gross working capital cycle (days)                     0.047939   \n",
       "Creditor days (days)                                  -0.075191   \n",
       "Net working capital cycle (days)                       0.129586   \n",
       "Total Income/Total asset                               0.068151   \n",
       "Total Income/ Compansation to employees                0.020179   \n",
       "Sales / GFA                                            0.082774   \n",
       "Sales / net fixed Assets                               0.097034   \n",
       "Debt/EBIT                                             -0.212629   \n",
       "Total Outside liability/ Total Net Worth              -0.304387   \n",
       "Return on net worth                                    0.194480   \n",
       "Return on total assets                                 0.354330   \n",
       "\n",
       "                                          Debt to equity ratio (times)  \\\n",
       "Year                                                         -0.050102   \n",
       "Normalized Rating                                             0.291091   \n",
       "Sales                                                        -0.112528   \n",
       "GP Margin %                                                  -0.029299   \n",
       "PBDIT Margin %                                               -0.015989   \n",
       "PAT Margin %                                                 -0.341643   \n",
       "PBT Percentage %                                             -0.092648   \n",
       "Quick ratio (times)                                          -0.346133   \n",
       "Current ratio (times)                                        -0.326251   \n",
       "Debt to equity ratio (times)                                  1.000000   \n",
       "Interest cover (times)                                       -0.316244   \n",
       "Inventory Days                                                0.089021   \n",
       "Debtor days (days)                                           -0.034287   \n",
       "Gross working capital cycle (days)                            0.072003   \n",
       "Creditor days (days)                                          0.005532   \n",
       "Net working capital cycle (days)                              0.064205   \n",
       "Total Income/Total asset                                     -0.058871   \n",
       "Total Income/ Compansation to employees                       0.129587   \n",
       "Sales / GFA                                                   0.009703   \n",
       "Sales / net fixed Assets                                     -0.006945   \n",
       "Debt/EBIT                                                     0.579434   \n",
       "Total Outside liability/ Total Net Worth                      0.862367   \n",
       "Return on net worth                                          -0.305783   \n",
       "Return on total assets                                       -0.393746   \n",
       "\n",
       "                                          Interest cover (times)  \\\n",
       "Year                                                    0.049563   \n",
       "Normalized Rating                                      -0.300234   \n",
       "Sales                                                   0.146072   \n",
       "GP Margin %                                             0.038979   \n",
       "PBDIT Margin %                                          0.144599   \n",
       "PAT Margin %                                            0.335894   \n",
       "PBT Percentage %                                        0.197503   \n",
       "Quick ratio (times)                                     0.403157   \n",
       "Current ratio (times)                                   0.369629   \n",
       "Debt to equity ratio (times)                           -0.316244   \n",
       "Interest cover (times)                                  1.000000   \n",
       "Inventory Days                                         -0.029465   \n",
       "Debtor days (days)                                     -0.012136   \n",
       "Gross working capital cycle (days)                     -0.041068   \n",
       "Creditor days (days)                                    0.040855   \n",
       "Net working capital cycle (days)                       -0.067142   \n",
       "Total Income/Total asset                               -0.026450   \n",
       "Total Income/ Compansation to employees                -0.124234   \n",
       "Sales / GFA                                            -0.021860   \n",
       "Sales / net fixed Assets                               -0.011397   \n",
       "Debt/EBIT                                              -0.337332   \n",
       "Total Outside liability/ Total Net Worth               -0.235198   \n",
       "Return on net worth                                     0.233127   \n",
       "Return on total assets                                  0.403550   \n",
       "\n",
       "                                          Inventory Days  Debtor days (days)  \\\n",
       "Year                                           -0.013585            0.037590   \n",
       "Normalized Rating                               0.080953            0.111270   \n",
       "Sales                                          -0.117804           -0.192550   \n",
       "GP Margin %                                     0.143903            0.042809   \n",
       "PBDIT Margin %                                  0.250586            0.160380   \n",
       "PAT Margin %                                   -0.038660           -0.053817   \n",
       "PBT Percentage %                                0.198898            0.110798   \n",
       "Quick ratio (times)                            -0.157928            0.285848   \n",
       "Current ratio (times)                           0.022288            0.111503   \n",
       "Debt to equity ratio (times)                    0.089021           -0.034287   \n",
       "Interest cover (times)                         -0.029465           -0.012136   \n",
       "Inventory Days                                  1.000000            0.149520   \n",
       "Debtor days (days)                              0.149520            1.000000   \n",
       "Gross working capital cycle (days)              0.826382            0.538132   \n",
       "Creditor days (days)                            0.246430            0.419026   \n",
       "Net working capital cycle (days)                0.657431            0.254845   \n",
       "Total Income/Total asset                       -0.409389           -0.375699   \n",
       "Total Income/ Compansation to employees        -0.158121           -0.130440   \n",
       "Sales / GFA                                    -0.111337           -0.026882   \n",
       "Sales / net fixed Assets                       -0.090570           -0.000478   \n",
       "Debt/EBIT                                       0.110160            0.008300   \n",
       "Total Outside liability/ Total Net Worth        0.075719           -0.009862   \n",
       "Return on net worth                            -0.159956           -0.135866   \n",
       "Return on total assets                         -0.168276           -0.160290   \n",
       "\n",
       "                                          Gross working capital cycle (days)  \\\n",
       "Year                                                               -0.000990   \n",
       "Normalized Rating                                                   0.125466   \n",
       "Sales                                                              -0.180909   \n",
       "GP Margin %                                                         0.063269   \n",
       "PBDIT Margin %                                                      0.263666   \n",
       "PAT Margin %                                                       -0.048385   \n",
       "PBT Percentage %                                                    0.208459   \n",
       "Quick ratio (times)                                                -0.043828   \n",
       "Current ratio (times)                                               0.047939   \n",
       "Debt to equity ratio (times)                                        0.072003   \n",
       "Interest cover (times)                                             -0.041068   \n",
       "Inventory Days                                                      0.826382   \n",
       "Debtor days (days)                                                  0.538132   \n",
       "Gross working capital cycle (days)                                  1.000000   \n",
       "Creditor days (days)                                                0.374073   \n",
       "Net working capital cycle (days)                                    0.706245   \n",
       "Total Income/Total asset                                           -0.446003   \n",
       "Total Income/ Compansation to employees                            -0.156794   \n",
       "Sales / GFA                                                        -0.089672   \n",
       "Sales / net fixed Assets                                           -0.067943   \n",
       "Debt/EBIT                                                           0.094136   \n",
       "Total Outside liability/ Total Net Worth                            0.069715   \n",
       "Return on net worth                                                -0.170217   \n",
       "Return on total assets                                             -0.203393   \n",
       "\n",
       "                                          Creditor days (days)  \\\n",
       "Year                                                  0.059569   \n",
       "Normalized Rating                                     0.014358   \n",
       "Sales                                                -0.167109   \n",
       "GP Margin %                                           0.077925   \n",
       "PBDIT Margin %                                        0.302712   \n",
       "PAT Margin %                                         -0.043659   \n",
       "PBT Percentage %                                      0.202503   \n",
       "Quick ratio (times)                                   0.057128   \n",
       "Current ratio (times)                                -0.075191   \n",
       "Debt to equity ratio (times)                          0.005532   \n",
       "Interest cover (times)                                0.040855   \n",
       "Inventory Days                                        0.246430   \n",
       "Debtor days (days)                                    0.419026   \n",
       "Gross working capital cycle (days)                    0.374073   \n",
       "Creditor days (days)                                  1.000000   \n",
       "Net working capital cycle (days)                     -0.278259   \n",
       "Total Income/Total asset                             -0.367031   \n",
       "Total Income/ Compansation to employees              -0.181853   \n",
       "Sales / GFA                                          -0.094415   \n",
       "Sales / net fixed Assets                             -0.058854   \n",
       "Debt/EBIT                                            -0.008691   \n",
       "Total Outside liability/ Total Net Worth              0.053104   \n",
       "Return on net worth                                  -0.138402   \n",
       "Return on total assets                               -0.170989   \n",
       "\n",
       "                                          Net working capital cycle (days)  \\\n",
       "Year                                                             -0.045062   \n",
       "Normalized Rating                                                 0.123903   \n",
       "Sales                                                            -0.063997   \n",
       "GP Margin %                                                      -0.006695   \n",
       "PBDIT Margin %                                                    0.033967   \n",
       "PAT Margin %                                                     -0.019665   \n",
       "PBT Percentage %                                                  0.052944   \n",
       "Quick ratio (times)                                              -0.066690   \n",
       "Current ratio (times)                                             0.129586   \n",
       "Debt to equity ratio (times)                                      0.064205   \n",
       "Interest cover (times)                                           -0.067142   \n",
       "Inventory Days                                                    0.657431   \n",
       "Debtor days (days)                                                0.254845   \n",
       "Gross working capital cycle (days)                                0.706245   \n",
       "Creditor days (days)                                             -0.278259   \n",
       "Net working capital cycle (days)                                  1.000000   \n",
       "Total Income/Total asset                                         -0.197742   \n",
       "Total Income/ Compansation to employees                          -0.035208   \n",
       "Sales / GFA                                                      -0.037694   \n",
       "Sales / net fixed Assets                                         -0.038050   \n",
       "Debt/EBIT                                                         0.098456   \n",
       "Total Outside liability/ Total Net Worth                          0.017603   \n",
       "Return on net worth                                              -0.073798   \n",
       "Return on total assets                                           -0.082005   \n",
       "\n",
       "                                          Total Income/Total asset  \\\n",
       "Year                                                      0.011207   \n",
       "Normalized Rating                                         0.019701   \n",
       "Sales                                                     0.167796   \n",
       "GP Margin %                                               0.023456   \n",
       "PBDIT Margin %                                           -0.536533   \n",
       "PAT Margin %                                             -0.026529   \n",
       "PBT Percentage %                                         -0.403236   \n",
       "Quick ratio (times)                                       0.014123   \n",
       "Current ratio (times)                                     0.068151   \n",
       "Debt to equity ratio (times)                             -0.058871   \n",
       "Interest cover (times)                                   -0.026450   \n",
       "Inventory Days                                           -0.409389   \n",
       "Debtor days (days)                                       -0.375699   \n",
       "Gross working capital cycle (days)                       -0.446003   \n",
       "Creditor days (days)                                     -0.367031   \n",
       "Net working capital cycle (days)                         -0.197742   \n",
       "Total Income/Total asset                                  1.000000   \n",
       "Total Income/ Compansation to employees                   0.440652   \n",
       "Sales / GFA                                               0.499285   \n",
       "Sales / net fixed Assets                                  0.472922   \n",
       "Debt/EBIT                                                -0.135925   \n",
       "Total Outside liability/ Total Net Worth                  0.005434   \n",
       "Return on net worth                                       0.257417   \n",
       "Return on total assets                                    0.216284   \n",
       "\n",
       "                                          Total Income/ Compansation to employees  \\\n",
       "Year                                                                    -0.064165   \n",
       "Normalized Rating                                                        0.127262   \n",
       "Sales                                                                    0.129031   \n",
       "GP Margin %                                                              0.131383   \n",
       "PBDIT Margin %                                                          -0.233054   \n",
       "PAT Margin %                                                            -0.090661   \n",
       "PBT Percentage %                                                        -0.176616   \n",
       "Quick ratio (times)                                                     -0.009944   \n",
       "Current ratio (times)                                                    0.020179   \n",
       "Debt to equity ratio (times)                                             0.129587   \n",
       "Interest cover (times)                                                  -0.124234   \n",
       "Inventory Days                                                          -0.158121   \n",
       "Debtor days (days)                                                      -0.130440   \n",
       "Gross working capital cycle (days)                                      -0.156794   \n",
       "Creditor days (days)                                                    -0.181853   \n",
       "Net working capital cycle (days)                                        -0.035208   \n",
       "Total Income/Total asset                                                 0.440652   \n",
       "Total Income/ Compansation to employees                                  1.000000   \n",
       "Sales / GFA                                                              0.530224   \n",
       "Sales / net fixed Assets                                                 0.494607   \n",
       "Debt/EBIT                                                                0.138116   \n",
       "Total Outside liability/ Total Net Worth                                 0.156681   \n",
       "Return on net worth                                                      0.028942   \n",
       "Return on total assets                                                  -0.027248   \n",
       "\n",
       "                                          Sales / GFA  \\\n",
       "Year                                         0.029754   \n",
       "Normalized Rating                            0.052896   \n",
       "Sales                                        0.094202   \n",
       "GP Margin %                                  0.315193   \n",
       "PBDIT Margin %                              -0.267279   \n",
       "PAT Margin %                                -0.026410   \n",
       "PBT Percentage %                            -0.170840   \n",
       "Quick ratio (times)                          0.084314   \n",
       "Current ratio (times)                        0.082774   \n",
       "Debt to equity ratio (times)                 0.009703   \n",
       "Interest cover (times)                      -0.021860   \n",
       "Inventory Days                              -0.111337   \n",
       "Debtor days (days)                          -0.026882   \n",
       "Gross working capital cycle (days)          -0.089672   \n",
       "Creditor days (days)                        -0.094415   \n",
       "Net working capital cycle (days)            -0.037694   \n",
       "Total Income/Total asset                     0.499285   \n",
       "Total Income/ Compansation to employees      0.530224   \n",
       "Sales / GFA                                  1.000000   \n",
       "Sales / net fixed Assets                     0.947607   \n",
       "Debt/EBIT                                    0.015845   \n",
       "Total Outside liability/ Total Net Worth     0.127827   \n",
       "Return on net worth                          0.111148   \n",
       "Return on total assets                       0.051748   \n",
       "\n",
       "                                          Sales / net fixed Assets  Debt/EBIT  \\\n",
       "Year                                                      0.035449  -0.061552   \n",
       "Normalized Rating                                         0.057988   0.231393   \n",
       "Sales                                                     0.066564  -0.105101   \n",
       "GP Margin %                                               0.314919   0.005008   \n",
       "PBDIT Margin %                                           -0.255886   0.018922   \n",
       "PAT Margin %                                             -0.025661  -0.253476   \n",
       "PBT Percentage %                                         -0.164046  -0.044427   \n",
       "Quick ratio (times)                                       0.099990  -0.254765   \n",
       "Current ratio (times)                                     0.097034  -0.212629   \n",
       "Debt to equity ratio (times)                             -0.006945   0.579434   \n",
       "Interest cover (times)                                   -0.011397  -0.337332   \n",
       "Inventory Days                                           -0.090570   0.110160   \n",
       "Debtor days (days)                                       -0.000478   0.008300   \n",
       "Gross working capital cycle (days)                       -0.067943   0.094136   \n",
       "Creditor days (days)                                     -0.058854  -0.008691   \n",
       "Net working capital cycle (days)                         -0.038050   0.098456   \n",
       "Total Income/Total asset                                  0.472922  -0.135925   \n",
       "Total Income/ Compansation to employees                   0.494607   0.138116   \n",
       "Sales / GFA                                               0.947607   0.015845   \n",
       "Sales / net fixed Assets                                  1.000000   0.001539   \n",
       "Debt/EBIT                                                 0.001539   1.000000   \n",
       "Total Outside liability/ Total Net Worth                  0.115434   0.489081   \n",
       "Return on net worth                                       0.094680  -0.350908   \n",
       "Return on total assets                                    0.037229  -0.359532   \n",
       "\n",
       "                                          Total Outside liability/ Total Net Worth  \\\n",
       "Year                                                                     -0.041371   \n",
       "Normalized Rating                                                         0.219961   \n",
       "Sales                                                                    -0.027327   \n",
       "GP Margin %                                                               0.012989   \n",
       "PBDIT Margin %                                                           -0.080788   \n",
       "PAT Margin %                                                             -0.257246   \n",
       "PBT Percentage %                                                         -0.114089   \n",
       "Quick ratio (times)                                                      -0.297624   \n",
       "Current ratio (times)                                                    -0.304387   \n",
       "Debt to equity ratio (times)                                              0.862367   \n",
       "Interest cover (times)                                                   -0.235198   \n",
       "Inventory Days                                                            0.075719   \n",
       "Debtor days (days)                                                       -0.009862   \n",
       "Gross working capital cycle (days)                                        0.069715   \n",
       "Creditor days (days)                                                      0.053104   \n",
       "Net working capital cycle (days)                                          0.017603   \n",
       "Total Income/Total asset                                                  0.005434   \n",
       "Total Income/ Compansation to employees                                   0.156681   \n",
       "Sales / GFA                                                               0.127827   \n",
       "Sales / net fixed Assets                                                  0.115434   \n",
       "Debt/EBIT                                                                 0.489081   \n",
       "Total Outside liability/ Total Net Worth                                  1.000000   \n",
       "Return on net worth                                                      -0.243285   \n",
       "Return on total assets                                                   -0.307373   \n",
       "\n",
       "                                          Return on net worth  \\\n",
       "Year                                                -0.030018   \n",
       "Normalized Rating                                   -0.250464   \n",
       "Sales                                                0.159277   \n",
       "GP Margin %                                          0.060381   \n",
       "PBDIT Margin %                                       0.157640   \n",
       "PAT Margin %                                         0.611742   \n",
       "PBT Percentage %                                     0.335764   \n",
       "Quick ratio (times)                                  0.186021   \n",
       "Current ratio (times)                                0.194480   \n",
       "Debt to equity ratio (times)                        -0.305783   \n",
       "Interest cover (times)                               0.233127   \n",
       "Inventory Days                                      -0.159956   \n",
       "Debtor days (days)                                  -0.135866   \n",
       "Gross working capital cycle (days)                  -0.170217   \n",
       "Creditor days (days)                                -0.138402   \n",
       "Net working capital cycle (days)                    -0.073798   \n",
       "Total Income/Total asset                             0.257417   \n",
       "Total Income/ Compansation to employees              0.028942   \n",
       "Sales / GFA                                          0.111148   \n",
       "Sales / net fixed Assets                             0.094680   \n",
       "Debt/EBIT                                           -0.350908   \n",
       "Total Outside liability/ Total Net Worth            -0.243285   \n",
       "Return on net worth                                  1.000000   \n",
       "Return on total assets                               0.823475   \n",
       "\n",
       "                                          Return on total assets  \n",
       "Year                                                   -0.014183  \n",
       "Normalized Rating                                      -0.363595  \n",
       "Sales                                                   0.192525  \n",
       "GP Margin %                                             0.074164  \n",
       "PBDIT Margin %                                          0.246608  \n",
       "PAT Margin %                                            0.747581  \n",
       "PBT Percentage %                                        0.445352  \n",
       "Quick ratio (times)                                     0.336424  \n",
       "Current ratio (times)                                   0.354330  \n",
       "Debt to equity ratio (times)                           -0.393746  \n",
       "Interest cover (times)                                  0.403550  \n",
       "Inventory Days                                         -0.168276  \n",
       "Debtor days (days)                                     -0.160290  \n",
       "Gross working capital cycle (days)                     -0.203393  \n",
       "Creditor days (days)                                   -0.170989  \n",
       "Net working capital cycle (days)                       -0.082005  \n",
       "Total Income/Total asset                                0.216284  \n",
       "Total Income/ Compansation to employees                -0.027248  \n",
       "Sales / GFA                                             0.051748  \n",
       "Sales / net fixed Assets                                0.037229  \n",
       "Debt/EBIT                                              -0.359532  \n",
       "Total Outside liability/ Total Net Worth               -0.307373  \n",
       "Return on net worth                                     0.823475  \n",
       "Return on total assets                                  1.000000  "
      ]
     },
     "execution_count": 73,
     "metadata": {},
     "output_type": "execute_result"
    }
   ],
   "source": [
    "pd.set_option('display.max_columns', None)\n",
    "df2.corr()"
   ]
  },
  {
   "cell_type": "code",
   "execution_count": 74,
   "metadata": {},
   "outputs": [],
   "source": [
    "## Deleting PBT Percentage % because the correlation coefficient with PAT was around 0.8\n",
    "del df2['PBT Percentage %']"
   ]
  },
  {
   "cell_type": "code",
   "execution_count": 75,
   "metadata": {},
   "outputs": [],
   "source": [
    "## Deleting PAT Margin % because the correlation coefficient with PBDIT was around 0.8.  \n",
    "del df2['PAT Margin %']"
   ]
  },
  {
   "cell_type": "code",
   "execution_count": 76,
   "metadata": {},
   "outputs": [],
   "source": [
    "## Deleting Gross working capital column because the correlation coefficient with Inventory Days was around 0.8\n",
    "del df2['Gross working capital cycle (days)']"
   ]
  },
  {
   "cell_type": "code",
   "execution_count": 77,
   "metadata": {},
   "outputs": [],
   "source": [
    "## Deleting Inventory, creditor, debtor days because the variable Net working capital gives all the required information of these 3 variables.\n",
    "del df2['Inventory Days']"
   ]
  },
  {
   "cell_type": "code",
   "execution_count": 78,
   "metadata": {},
   "outputs": [],
   "source": [
    "del df2['Debtor days (days)']"
   ]
  },
  {
   "cell_type": "code",
   "execution_count": 79,
   "metadata": {},
   "outputs": [],
   "source": [
    "del df2['Creditor days (days)']"
   ]
  },
  {
   "cell_type": "code",
   "execution_count": 80,
   "metadata": {},
   "outputs": [],
   "source": [
    "## Total outside liability/Total Net worth had correlation of more than 0.8 with Debt to equity ratio so removed this vairable due to business knowledge.\n",
    "del df2['Total Outside liability/ Total Net Worth']"
   ]
  },
  {
   "cell_type": "code",
   "execution_count": 81,
   "metadata": {},
   "outputs": [],
   "source": [
    "## Quick ratio and current ratio had correlation of around 0.8 so removed quick ratio as its coefficinet with Deafult variable is less than current ratio.\n",
    "del df2['Quick ratio (times)']"
   ]
  },
  {
   "cell_type": "code",
   "execution_count": 82,
   "metadata": {},
   "outputs": [],
   "source": [
    "## Deleting Sales/GFA because it was correlated with Sales net fixed assets. \n",
    "del df2['Sales / GFA']"
   ]
  },
  {
   "cell_type": "code",
   "execution_count": 83,
   "metadata": {},
   "outputs": [],
   "source": [
    "## Deleting Return on net worth because it was correlated with return on total assets\n",
    "del df2['Return on net worth']"
   ]
  },
  {
   "cell_type": "code",
   "execution_count": 84,
   "metadata": {},
   "outputs": [
    {
     "data": {
      "text/html": [
       "<div>\n",
       "<style scoped>\n",
       "    .dataframe tbody tr th:only-of-type {\n",
       "        vertical-align: middle;\n",
       "    }\n",
       "\n",
       "    .dataframe tbody tr th {\n",
       "        vertical-align: top;\n",
       "    }\n",
       "\n",
       "    .dataframe thead th {\n",
       "        text-align: right;\n",
       "    }\n",
       "</style>\n",
       "<table border=\"1\" class=\"dataframe\">\n",
       "  <thead>\n",
       "    <tr style=\"text-align: right;\">\n",
       "      <th></th>\n",
       "      <th>Year</th>\n",
       "      <th>Normalized Rating</th>\n",
       "      <th>Sales</th>\n",
       "      <th>GP Margin %</th>\n",
       "      <th>PBDIT Margin %</th>\n",
       "      <th>Current ratio (times)</th>\n",
       "      <th>Debt to equity ratio (times)</th>\n",
       "      <th>Interest cover (times)</th>\n",
       "      <th>Net working capital cycle (days)</th>\n",
       "      <th>Total Income/Total asset</th>\n",
       "      <th>Total Income/ Compansation to employees</th>\n",
       "      <th>Sales / net fixed Assets</th>\n",
       "      <th>Debt/EBIT</th>\n",
       "      <th>Return on total assets</th>\n",
       "    </tr>\n",
       "  </thead>\n",
       "  <tbody>\n",
       "    <tr>\n",
       "      <th>Year</th>\n",
       "      <td>1.000000</td>\n",
       "      <td>-0.043782</td>\n",
       "      <td>0.103758</td>\n",
       "      <td>0.005742</td>\n",
       "      <td>-0.018117</td>\n",
       "      <td>0.059818</td>\n",
       "      <td>-0.050102</td>\n",
       "      <td>0.049563</td>\n",
       "      <td>-0.045062</td>\n",
       "      <td>0.011207</td>\n",
       "      <td>-0.064165</td>\n",
       "      <td>0.035449</td>\n",
       "      <td>-0.061552</td>\n",
       "      <td>-0.014183</td>\n",
       "    </tr>\n",
       "    <tr>\n",
       "      <th>Normalized Rating</th>\n",
       "      <td>-0.043782</td>\n",
       "      <td>1.000000</td>\n",
       "      <td>-0.395980</td>\n",
       "      <td>-0.082965</td>\n",
       "      <td>-0.196546</td>\n",
       "      <td>-0.150658</td>\n",
       "      <td>0.291091</td>\n",
       "      <td>-0.300234</td>\n",
       "      <td>0.123903</td>\n",
       "      <td>0.019701</td>\n",
       "      <td>0.127262</td>\n",
       "      <td>0.057988</td>\n",
       "      <td>0.231393</td>\n",
       "      <td>-0.363595</td>\n",
       "    </tr>\n",
       "    <tr>\n",
       "      <th>Sales</th>\n",
       "      <td>0.103758</td>\n",
       "      <td>-0.395980</td>\n",
       "      <td>1.000000</td>\n",
       "      <td>0.087705</td>\n",
       "      <td>-0.078194</td>\n",
       "      <td>-0.045629</td>\n",
       "      <td>-0.112528</td>\n",
       "      <td>0.146072</td>\n",
       "      <td>-0.063997</td>\n",
       "      <td>0.167796</td>\n",
       "      <td>0.129031</td>\n",
       "      <td>0.066564</td>\n",
       "      <td>-0.105101</td>\n",
       "      <td>0.192525</td>\n",
       "    </tr>\n",
       "    <tr>\n",
       "      <th>GP Margin %</th>\n",
       "      <td>0.005742</td>\n",
       "      <td>-0.082965</td>\n",
       "      <td>0.087705</td>\n",
       "      <td>1.000000</td>\n",
       "      <td>0.212426</td>\n",
       "      <td>0.047829</td>\n",
       "      <td>-0.029299</td>\n",
       "      <td>0.038979</td>\n",
       "      <td>-0.006695</td>\n",
       "      <td>0.023456</td>\n",
       "      <td>0.131383</td>\n",
       "      <td>0.314919</td>\n",
       "      <td>0.005008</td>\n",
       "      <td>0.074164</td>\n",
       "    </tr>\n",
       "    <tr>\n",
       "      <th>PBDIT Margin %</th>\n",
       "      <td>-0.018117</td>\n",
       "      <td>-0.196546</td>\n",
       "      <td>-0.078194</td>\n",
       "      <td>0.212426</td>\n",
       "      <td>1.000000</td>\n",
       "      <td>0.073092</td>\n",
       "      <td>-0.015989</td>\n",
       "      <td>0.144599</td>\n",
       "      <td>0.033967</td>\n",
       "      <td>-0.536533</td>\n",
       "      <td>-0.233054</td>\n",
       "      <td>-0.255886</td>\n",
       "      <td>0.018922</td>\n",
       "      <td>0.246608</td>\n",
       "    </tr>\n",
       "    <tr>\n",
       "      <th>Current ratio (times)</th>\n",
       "      <td>0.059818</td>\n",
       "      <td>-0.150658</td>\n",
       "      <td>-0.045629</td>\n",
       "      <td>0.047829</td>\n",
       "      <td>0.073092</td>\n",
       "      <td>1.000000</td>\n",
       "      <td>-0.326251</td>\n",
       "      <td>0.369629</td>\n",
       "      <td>0.129586</td>\n",
       "      <td>0.068151</td>\n",
       "      <td>0.020179</td>\n",
       "      <td>0.097034</td>\n",
       "      <td>-0.212629</td>\n",
       "      <td>0.354330</td>\n",
       "    </tr>\n",
       "    <tr>\n",
       "      <th>Debt to equity ratio (times)</th>\n",
       "      <td>-0.050102</td>\n",
       "      <td>0.291091</td>\n",
       "      <td>-0.112528</td>\n",
       "      <td>-0.029299</td>\n",
       "      <td>-0.015989</td>\n",
       "      <td>-0.326251</td>\n",
       "      <td>1.000000</td>\n",
       "      <td>-0.316244</td>\n",
       "      <td>0.064205</td>\n",
       "      <td>-0.058871</td>\n",
       "      <td>0.129587</td>\n",
       "      <td>-0.006945</td>\n",
       "      <td>0.579434</td>\n",
       "      <td>-0.393746</td>\n",
       "    </tr>\n",
       "    <tr>\n",
       "      <th>Interest cover (times)</th>\n",
       "      <td>0.049563</td>\n",
       "      <td>-0.300234</td>\n",
       "      <td>0.146072</td>\n",
       "      <td>0.038979</td>\n",
       "      <td>0.144599</td>\n",
       "      <td>0.369629</td>\n",
       "      <td>-0.316244</td>\n",
       "      <td>1.000000</td>\n",
       "      <td>-0.067142</td>\n",
       "      <td>-0.026450</td>\n",
       "      <td>-0.124234</td>\n",
       "      <td>-0.011397</td>\n",
       "      <td>-0.337332</td>\n",
       "      <td>0.403550</td>\n",
       "    </tr>\n",
       "    <tr>\n",
       "      <th>Net working capital cycle (days)</th>\n",
       "      <td>-0.045062</td>\n",
       "      <td>0.123903</td>\n",
       "      <td>-0.063997</td>\n",
       "      <td>-0.006695</td>\n",
       "      <td>0.033967</td>\n",
       "      <td>0.129586</td>\n",
       "      <td>0.064205</td>\n",
       "      <td>-0.067142</td>\n",
       "      <td>1.000000</td>\n",
       "      <td>-0.197742</td>\n",
       "      <td>-0.035208</td>\n",
       "      <td>-0.038050</td>\n",
       "      <td>0.098456</td>\n",
       "      <td>-0.082005</td>\n",
       "    </tr>\n",
       "    <tr>\n",
       "      <th>Total Income/Total asset</th>\n",
       "      <td>0.011207</td>\n",
       "      <td>0.019701</td>\n",
       "      <td>0.167796</td>\n",
       "      <td>0.023456</td>\n",
       "      <td>-0.536533</td>\n",
       "      <td>0.068151</td>\n",
       "      <td>-0.058871</td>\n",
       "      <td>-0.026450</td>\n",
       "      <td>-0.197742</td>\n",
       "      <td>1.000000</td>\n",
       "      <td>0.440652</td>\n",
       "      <td>0.472922</td>\n",
       "      <td>-0.135925</td>\n",
       "      <td>0.216284</td>\n",
       "    </tr>\n",
       "    <tr>\n",
       "      <th>Total Income/ Compansation to employees</th>\n",
       "      <td>-0.064165</td>\n",
       "      <td>0.127262</td>\n",
       "      <td>0.129031</td>\n",
       "      <td>0.131383</td>\n",
       "      <td>-0.233054</td>\n",
       "      <td>0.020179</td>\n",
       "      <td>0.129587</td>\n",
       "      <td>-0.124234</td>\n",
       "      <td>-0.035208</td>\n",
       "      <td>0.440652</td>\n",
       "      <td>1.000000</td>\n",
       "      <td>0.494607</td>\n",
       "      <td>0.138116</td>\n",
       "      <td>-0.027248</td>\n",
       "    </tr>\n",
       "    <tr>\n",
       "      <th>Sales / net fixed Assets</th>\n",
       "      <td>0.035449</td>\n",
       "      <td>0.057988</td>\n",
       "      <td>0.066564</td>\n",
       "      <td>0.314919</td>\n",
       "      <td>-0.255886</td>\n",
       "      <td>0.097034</td>\n",
       "      <td>-0.006945</td>\n",
       "      <td>-0.011397</td>\n",
       "      <td>-0.038050</td>\n",
       "      <td>0.472922</td>\n",
       "      <td>0.494607</td>\n",
       "      <td>1.000000</td>\n",
       "      <td>0.001539</td>\n",
       "      <td>0.037229</td>\n",
       "    </tr>\n",
       "    <tr>\n",
       "      <th>Debt/EBIT</th>\n",
       "      <td>-0.061552</td>\n",
       "      <td>0.231393</td>\n",
       "      <td>-0.105101</td>\n",
       "      <td>0.005008</td>\n",
       "      <td>0.018922</td>\n",
       "      <td>-0.212629</td>\n",
       "      <td>0.579434</td>\n",
       "      <td>-0.337332</td>\n",
       "      <td>0.098456</td>\n",
       "      <td>-0.135925</td>\n",
       "      <td>0.138116</td>\n",
       "      <td>0.001539</td>\n",
       "      <td>1.000000</td>\n",
       "      <td>-0.359532</td>\n",
       "    </tr>\n",
       "    <tr>\n",
       "      <th>Return on total assets</th>\n",
       "      <td>-0.014183</td>\n",
       "      <td>-0.363595</td>\n",
       "      <td>0.192525</td>\n",
       "      <td>0.074164</td>\n",
       "      <td>0.246608</td>\n",
       "      <td>0.354330</td>\n",
       "      <td>-0.393746</td>\n",
       "      <td>0.403550</td>\n",
       "      <td>-0.082005</td>\n",
       "      <td>0.216284</td>\n",
       "      <td>-0.027248</td>\n",
       "      <td>0.037229</td>\n",
       "      <td>-0.359532</td>\n",
       "      <td>1.000000</td>\n",
       "    </tr>\n",
       "  </tbody>\n",
       "</table>\n",
       "</div>"
      ],
      "text/plain": [
       "                                             Year  Normalized Rating  \\\n",
       "Year                                     1.000000          -0.043782   \n",
       "Normalized Rating                       -0.043782           1.000000   \n",
       "Sales                                    0.103758          -0.395980   \n",
       "GP Margin %                              0.005742          -0.082965   \n",
       "PBDIT Margin %                          -0.018117          -0.196546   \n",
       "Current ratio (times)                    0.059818          -0.150658   \n",
       "Debt to equity ratio (times)            -0.050102           0.291091   \n",
       "Interest cover (times)                   0.049563          -0.300234   \n",
       "Net working capital cycle (days)        -0.045062           0.123903   \n",
       "Total Income/Total asset                 0.011207           0.019701   \n",
       "Total Income/ Compansation to employees -0.064165           0.127262   \n",
       "Sales / net fixed Assets                 0.035449           0.057988   \n",
       "Debt/EBIT                               -0.061552           0.231393   \n",
       "Return on total assets                  -0.014183          -0.363595   \n",
       "\n",
       "                                            Sales  GP Margin %  \\\n",
       "Year                                     0.103758     0.005742   \n",
       "Normalized Rating                       -0.395980    -0.082965   \n",
       "Sales                                    1.000000     0.087705   \n",
       "GP Margin %                              0.087705     1.000000   \n",
       "PBDIT Margin %                          -0.078194     0.212426   \n",
       "Current ratio (times)                   -0.045629     0.047829   \n",
       "Debt to equity ratio (times)            -0.112528    -0.029299   \n",
       "Interest cover (times)                   0.146072     0.038979   \n",
       "Net working capital cycle (days)        -0.063997    -0.006695   \n",
       "Total Income/Total asset                 0.167796     0.023456   \n",
       "Total Income/ Compansation to employees  0.129031     0.131383   \n",
       "Sales / net fixed Assets                 0.066564     0.314919   \n",
       "Debt/EBIT                               -0.105101     0.005008   \n",
       "Return on total assets                   0.192525     0.074164   \n",
       "\n",
       "                                         PBDIT Margin %  \\\n",
       "Year                                          -0.018117   \n",
       "Normalized Rating                             -0.196546   \n",
       "Sales                                         -0.078194   \n",
       "GP Margin %                                    0.212426   \n",
       "PBDIT Margin %                                 1.000000   \n",
       "Current ratio (times)                          0.073092   \n",
       "Debt to equity ratio (times)                  -0.015989   \n",
       "Interest cover (times)                         0.144599   \n",
       "Net working capital cycle (days)               0.033967   \n",
       "Total Income/Total asset                      -0.536533   \n",
       "Total Income/ Compansation to employees       -0.233054   \n",
       "Sales / net fixed Assets                      -0.255886   \n",
       "Debt/EBIT                                      0.018922   \n",
       "Return on total assets                         0.246608   \n",
       "\n",
       "                                         Current ratio (times)  \\\n",
       "Year                                                  0.059818   \n",
       "Normalized Rating                                    -0.150658   \n",
       "Sales                                                -0.045629   \n",
       "GP Margin %                                           0.047829   \n",
       "PBDIT Margin %                                        0.073092   \n",
       "Current ratio (times)                                 1.000000   \n",
       "Debt to equity ratio (times)                         -0.326251   \n",
       "Interest cover (times)                                0.369629   \n",
       "Net working capital cycle (days)                      0.129586   \n",
       "Total Income/Total asset                              0.068151   \n",
       "Total Income/ Compansation to employees               0.020179   \n",
       "Sales / net fixed Assets                              0.097034   \n",
       "Debt/EBIT                                            -0.212629   \n",
       "Return on total assets                                0.354330   \n",
       "\n",
       "                                         Debt to equity ratio (times)  \\\n",
       "Year                                                        -0.050102   \n",
       "Normalized Rating                                            0.291091   \n",
       "Sales                                                       -0.112528   \n",
       "GP Margin %                                                 -0.029299   \n",
       "PBDIT Margin %                                              -0.015989   \n",
       "Current ratio (times)                                       -0.326251   \n",
       "Debt to equity ratio (times)                                 1.000000   \n",
       "Interest cover (times)                                      -0.316244   \n",
       "Net working capital cycle (days)                             0.064205   \n",
       "Total Income/Total asset                                    -0.058871   \n",
       "Total Income/ Compansation to employees                      0.129587   \n",
       "Sales / net fixed Assets                                    -0.006945   \n",
       "Debt/EBIT                                                    0.579434   \n",
       "Return on total assets                                      -0.393746   \n",
       "\n",
       "                                         Interest cover (times)  \\\n",
       "Year                                                   0.049563   \n",
       "Normalized Rating                                     -0.300234   \n",
       "Sales                                                  0.146072   \n",
       "GP Margin %                                            0.038979   \n",
       "PBDIT Margin %                                         0.144599   \n",
       "Current ratio (times)                                  0.369629   \n",
       "Debt to equity ratio (times)                          -0.316244   \n",
       "Interest cover (times)                                 1.000000   \n",
       "Net working capital cycle (days)                      -0.067142   \n",
       "Total Income/Total asset                              -0.026450   \n",
       "Total Income/ Compansation to employees               -0.124234   \n",
       "Sales / net fixed Assets                              -0.011397   \n",
       "Debt/EBIT                                             -0.337332   \n",
       "Return on total assets                                 0.403550   \n",
       "\n",
       "                                         Net working capital cycle (days)  \\\n",
       "Year                                                            -0.045062   \n",
       "Normalized Rating                                                0.123903   \n",
       "Sales                                                           -0.063997   \n",
       "GP Margin %                                                     -0.006695   \n",
       "PBDIT Margin %                                                   0.033967   \n",
       "Current ratio (times)                                            0.129586   \n",
       "Debt to equity ratio (times)                                     0.064205   \n",
       "Interest cover (times)                                          -0.067142   \n",
       "Net working capital cycle (days)                                 1.000000   \n",
       "Total Income/Total asset                                        -0.197742   \n",
       "Total Income/ Compansation to employees                         -0.035208   \n",
       "Sales / net fixed Assets                                        -0.038050   \n",
       "Debt/EBIT                                                        0.098456   \n",
       "Return on total assets                                          -0.082005   \n",
       "\n",
       "                                         Total Income/Total asset  \\\n",
       "Year                                                     0.011207   \n",
       "Normalized Rating                                        0.019701   \n",
       "Sales                                                    0.167796   \n",
       "GP Margin %                                              0.023456   \n",
       "PBDIT Margin %                                          -0.536533   \n",
       "Current ratio (times)                                    0.068151   \n",
       "Debt to equity ratio (times)                            -0.058871   \n",
       "Interest cover (times)                                  -0.026450   \n",
       "Net working capital cycle (days)                        -0.197742   \n",
       "Total Income/Total asset                                 1.000000   \n",
       "Total Income/ Compansation to employees                  0.440652   \n",
       "Sales / net fixed Assets                                 0.472922   \n",
       "Debt/EBIT                                               -0.135925   \n",
       "Return on total assets                                   0.216284   \n",
       "\n",
       "                                         Total Income/ Compansation to employees  \\\n",
       "Year                                                                   -0.064165   \n",
       "Normalized Rating                                                       0.127262   \n",
       "Sales                                                                   0.129031   \n",
       "GP Margin %                                                             0.131383   \n",
       "PBDIT Margin %                                                         -0.233054   \n",
       "Current ratio (times)                                                   0.020179   \n",
       "Debt to equity ratio (times)                                            0.129587   \n",
       "Interest cover (times)                                                 -0.124234   \n",
       "Net working capital cycle (days)                                       -0.035208   \n",
       "Total Income/Total asset                                                0.440652   \n",
       "Total Income/ Compansation to employees                                 1.000000   \n",
       "Sales / net fixed Assets                                                0.494607   \n",
       "Debt/EBIT                                                               0.138116   \n",
       "Return on total assets                                                 -0.027248   \n",
       "\n",
       "                                         Sales / net fixed Assets  Debt/EBIT  \\\n",
       "Year                                                     0.035449  -0.061552   \n",
       "Normalized Rating                                        0.057988   0.231393   \n",
       "Sales                                                    0.066564  -0.105101   \n",
       "GP Margin %                                              0.314919   0.005008   \n",
       "PBDIT Margin %                                          -0.255886   0.018922   \n",
       "Current ratio (times)                                    0.097034  -0.212629   \n",
       "Debt to equity ratio (times)                            -0.006945   0.579434   \n",
       "Interest cover (times)                                  -0.011397  -0.337332   \n",
       "Net working capital cycle (days)                        -0.038050   0.098456   \n",
       "Total Income/Total asset                                 0.472922  -0.135925   \n",
       "Total Income/ Compansation to employees                  0.494607   0.138116   \n",
       "Sales / net fixed Assets                                 1.000000   0.001539   \n",
       "Debt/EBIT                                                0.001539   1.000000   \n",
       "Return on total assets                                   0.037229  -0.359532   \n",
       "\n",
       "                                         Return on total assets  \n",
       "Year                                                  -0.014183  \n",
       "Normalized Rating                                     -0.363595  \n",
       "Sales                                                  0.192525  \n",
       "GP Margin %                                            0.074164  \n",
       "PBDIT Margin %                                         0.246608  \n",
       "Current ratio (times)                                  0.354330  \n",
       "Debt to equity ratio (times)                          -0.393746  \n",
       "Interest cover (times)                                 0.403550  \n",
       "Net working capital cycle (days)                      -0.082005  \n",
       "Total Income/Total asset                               0.216284  \n",
       "Total Income/ Compansation to employees               -0.027248  \n",
       "Sales / net fixed Assets                               0.037229  \n",
       "Debt/EBIT                                             -0.359532  \n",
       "Return on total assets                                 1.000000  "
      ]
     },
     "execution_count": 84,
     "metadata": {},
     "output_type": "execute_result"
    }
   ],
   "source": [
    "## Checking correlation of all variables again to see if the variables are still correlated.\n",
    "pd.set_option('display.max_columns', None)\n",
    "df2.corr()"
   ]
  },
  {
   "cell_type": "code",
   "execution_count": 85,
   "metadata": {},
   "outputs": [],
   "source": [
    "## Deleting because correlation coefficient with sales/net fixed assets was 0.5\n",
    "del df2['Total Income/ Compansation to employees']"
   ]
  },
  {
   "cell_type": "code",
   "execution_count": 86,
   "metadata": {},
   "outputs": [],
   "source": [
    "## Deleting because correlation coefficient with debt to equity ratio was around 0.6\n",
    "del df2['Debt/EBIT']"
   ]
  },
  {
   "cell_type": "code",
   "execution_count": 87,
   "metadata": {},
   "outputs": [],
   "source": [
    "## Deleting because correlation coefficient with PBDIT was more than 0.5\n",
    "del df2['Total Income/Total asset']"
   ]
  },
  {
   "cell_type": "code",
   "execution_count": 88,
   "metadata": {},
   "outputs": [
    {
     "data": {
      "text/plain": [
       "(8713, 13)"
      ]
     },
     "execution_count": 88,
     "metadata": {},
     "output_type": "execute_result"
    }
   ],
   "source": [
    "## Checking the final rows and columns of the dataframe.\n",
    "df2.shape"
   ]
  },
  {
   "cell_type": "code",
   "execution_count": 89,
   "metadata": {},
   "outputs": [
    {
     "data": {
      "text/html": [
       "<div>\n",
       "<style scoped>\n",
       "    .dataframe tbody tr th:only-of-type {\n",
       "        vertical-align: middle;\n",
       "    }\n",
       "\n",
       "    .dataframe tbody tr th {\n",
       "        vertical-align: top;\n",
       "    }\n",
       "\n",
       "    .dataframe thead th {\n",
       "        text-align: right;\n",
       "    }\n",
       "</style>\n",
       "<table border=\"1\" class=\"dataframe\">\n",
       "  <thead>\n",
       "    <tr style=\"text-align: right;\">\n",
       "      <th></th>\n",
       "      <th>Company Name</th>\n",
       "      <th>Year</th>\n",
       "      <th>Normalized Rating</th>\n",
       "      <th>Ratings</th>\n",
       "      <th>Sales</th>\n",
       "      <th>GP Margin %</th>\n",
       "      <th>PBDIT Margin %</th>\n",
       "      <th>Current ratio (times)</th>\n",
       "      <th>Debt to equity ratio (times)</th>\n",
       "      <th>Interest cover (times)</th>\n",
       "      <th>Net working capital cycle (days)</th>\n",
       "      <th>Sales / net fixed Assets</th>\n",
       "      <th>Return on total assets</th>\n",
       "    </tr>\n",
       "  </thead>\n",
       "  <tbody>\n",
       "    <tr>\n",
       "      <th>0</th>\n",
       "      <td>A B I-Showatech (India) Ltd.</td>\n",
       "      <td>2009</td>\n",
       "      <td>1</td>\n",
       "      <td>A1</td>\n",
       "      <td>7.301553</td>\n",
       "      <td>41.85</td>\n",
       "      <td>22.79</td>\n",
       "      <td>1.80</td>\n",
       "      <td>0.17</td>\n",
       "      <td>8.710000</td>\n",
       "      <td>36.000000</td>\n",
       "      <td>2.20</td>\n",
       "      <td>12.130000</td>\n",
       "    </tr>\n",
       "    <tr>\n",
       "      <th>2</th>\n",
       "      <td>A L P Nishikawa Co. Pvt. Ltd.</td>\n",
       "      <td>2009</td>\n",
       "      <td>2</td>\n",
       "      <td>A4</td>\n",
       "      <td>6.819033</td>\n",
       "      <td>32.43</td>\n",
       "      <td>9.15</td>\n",
       "      <td>0.63</td>\n",
       "      <td>1.05</td>\n",
       "      <td>1.370000</td>\n",
       "      <td>95.266034</td>\n",
       "      <td>2.70</td>\n",
       "      <td>2.940363</td>\n",
       "    </tr>\n",
       "    <tr>\n",
       "      <th>3</th>\n",
       "      <td>A M C L Machinery Ltd.</td>\n",
       "      <td>2009</td>\n",
       "      <td>1</td>\n",
       "      <td>A1</td>\n",
       "      <td>6.567797</td>\n",
       "      <td>40.18</td>\n",
       "      <td>23.45</td>\n",
       "      <td>1.32</td>\n",
       "      <td>0.54</td>\n",
       "      <td>57.812000</td>\n",
       "      <td>149.000000</td>\n",
       "      <td>17.64</td>\n",
       "      <td>14.014000</td>\n",
       "    </tr>\n",
       "    <tr>\n",
       "      <th>4</th>\n",
       "      <td>A T C Telecom Infrastructure Pvt. Ltd.</td>\n",
       "      <td>2009</td>\n",
       "      <td>1</td>\n",
       "      <td>A1</td>\n",
       "      <td>9.011426</td>\n",
       "      <td>58.66</td>\n",
       "      <td>24.18</td>\n",
       "      <td>0.41</td>\n",
       "      <td>5.54</td>\n",
       "      <td>7.396642</td>\n",
       "      <td>-185.000000</td>\n",
       "      <td>0.35</td>\n",
       "      <td>-9.400000</td>\n",
       "    </tr>\n",
       "    <tr>\n",
       "      <th>5</th>\n",
       "      <td>A V T Mccormick Ingredients Pvt. Ltd.</td>\n",
       "      <td>2009</td>\n",
       "      <td>1</td>\n",
       "      <td>A2</td>\n",
       "      <td>7.415476</td>\n",
       "      <td>32.32</td>\n",
       "      <td>19.72</td>\n",
       "      <td>1.34</td>\n",
       "      <td>1.57</td>\n",
       "      <td>3.830000</td>\n",
       "      <td>254.000000</td>\n",
       "      <td>18.13</td>\n",
       "      <td>5.920000</td>\n",
       "    </tr>\n",
       "  </tbody>\n",
       "</table>\n",
       "</div>"
      ],
      "text/plain": [
       "                             Company Name  Year  Normalized Rating Ratings  \\\n",
       "0            A B I-Showatech (India) Ltd.  2009                  1      A1   \n",
       "2           A L P Nishikawa Co. Pvt. Ltd.  2009                  2      A4   \n",
       "3                  A M C L Machinery Ltd.  2009                  1      A1   \n",
       "4  A T C Telecom Infrastructure Pvt. Ltd.  2009                  1      A1   \n",
       "5   A V T Mccormick Ingredients Pvt. Ltd.  2009                  1      A2   \n",
       "\n",
       "      Sales  GP Margin %  PBDIT Margin %  Current ratio (times)  \\\n",
       "0  7.301553        41.85           22.79                   1.80   \n",
       "2  6.819033        32.43            9.15                   0.63   \n",
       "3  6.567797        40.18           23.45                   1.32   \n",
       "4  9.011426        58.66           24.18                   0.41   \n",
       "5  7.415476        32.32           19.72                   1.34   \n",
       "\n",
       "   Debt to equity ratio (times)  Interest cover (times)  \\\n",
       "0                          0.17                8.710000   \n",
       "2                          1.05                1.370000   \n",
       "3                          0.54               57.812000   \n",
       "4                          5.54                7.396642   \n",
       "5                          1.57                3.830000   \n",
       "\n",
       "   Net working capital cycle (days)  Sales / net fixed Assets  \\\n",
       "0                         36.000000                      2.20   \n",
       "2                         95.266034                      2.70   \n",
       "3                        149.000000                     17.64   \n",
       "4                       -185.000000                      0.35   \n",
       "5                        254.000000                     18.13   \n",
       "\n",
       "   Return on total assets  \n",
       "0               12.130000  \n",
       "2                2.940363  \n",
       "3               14.014000  \n",
       "4               -9.400000  \n",
       "5                5.920000  "
      ]
     },
     "execution_count": 89,
     "metadata": {},
     "output_type": "execute_result"
    }
   ],
   "source": [
    "df2.head()"
   ]
  },
  {
   "cell_type": "markdown",
   "metadata": {},
   "source": [
    "# LOGISTIC REGRESSION MODEL"
   ]
  },
  {
   "cell_type": "code",
   "execution_count": 90,
   "metadata": {},
   "outputs": [],
   "source": [
    "## X contains all independent variables right from PBDIT margin to Return on assets.\n",
    "## Y contains the dependent variable - default.\n",
    "X = df2.iloc[:, 4:13].values\n",
    "y = df2.iloc[:, 2].values"
   ]
  },
  {
   "cell_type": "code",
   "execution_count": 91,
   "metadata": {},
   "outputs": [
    {
     "name": "stdout",
     "output_type": "stream",
     "text": [
      "[[   7.30155258   41.85         22.79       ...   36.\n",
      "     2.2          12.13      ]\n",
      " [   6.81903335   32.43          9.15       ...   95.26603417\n",
      "     2.7           2.9403634 ]\n",
      " [   6.56779697   40.18         23.45       ...  149.\n",
      "    17.64         14.014     ]\n",
      " ...\n",
      " [   8.4039573    27.02          5.46       ...   59.\n",
      "     4.02         13.09      ]\n",
      " [   9.53403127   41.25         31.31       ... -185.\n",
      "     6.87         12.86      ]\n",
      " [   5.88081228   63.09         19.07       ...  -74.\n",
      "     0.34         -1.74      ]]\n"
     ]
    }
   ],
   "source": [
    "print(X)"
   ]
  },
  {
   "cell_type": "code",
   "execution_count": 92,
   "metadata": {},
   "outputs": [],
   "source": [
    "## Importing the train and test function to split 80% into training set and rest 20% into testing set.\n",
    "from sklearn.model_selection import train_test_split\n",
    "X_train, X_test, y_train, y_test = train_test_split(X, y, test_size = 0.25, random_state = 0)"
   ]
  },
  {
   "cell_type": "code",
   "execution_count": 93,
   "metadata": {},
   "outputs": [],
   "source": [
    "## Standardizing all the values so that no column dominates the other columns.\n",
    "from sklearn.preprocessing import StandardScaler\n",
    "sc = StandardScaler()\n",
    "\n",
    "X_train = sc.fit_transform(X_train)\n",
    "X_test = sc.transform(X_test)"
   ]
  },
  {
   "cell_type": "code",
   "execution_count": null,
   "metadata": {},
   "outputs": [],
   "source": [
    "import statsmodels.api as sm\n",
    "lm = sm.MNLogit(y_train,sm.add_constant(X_train))\n",
    "lm\n",
    "result = lm.fit()\n",
    "print (result.summary())\n",
    "print (result.summary2())"
   ]
  },
  {
   "cell_type": "code",
   "execution_count": null,
   "metadata": {},
   "outputs": [],
   "source": [
    "## Importing LogisticRegression class from sklearn library and fitting it on the training set.\n",
    "from sklearn.linear_model import LogisticRegression\n",
    "classifier = LogisticRegression(random_state = 0, multi_class = 'multinomial')\n",
    "classifier.fit(X_train, y_train)"
   ]
  },
  {
   "cell_type": "code",
   "execution_count": null,
   "metadata": {},
   "outputs": [],
   "source": [
    "## Predicting the results by using the X_test data.\n",
    "y_pred = classifier.predict(X_test)\n",
    "print(np.concatenate((y_pred.reshape(len(y_pred),1), y_test.reshape(len(y_test),1)),1))"
   ]
  },
  {
   "cell_type": "code",
   "execution_count": null,
   "metadata": {},
   "outputs": [],
   "source": [
    "## Importing the confusion matrix and accuracy score to check the accuracy of the predictions.\n",
    "from sklearn.metrics import confusion_matrix, accuracy_score\n",
    "cm = confusion_matrix(y_test, y_pred)\n",
    "print(cm)\n",
    "accuracy_score(y_test, y_pred)"
   ]
  },
  {
   "cell_type": "code",
   "execution_count": null,
   "metadata": {},
   "outputs": [],
   "source": [
    "## Printing the coefficients of Logistic regression model.\n",
    "print(classifier.coef_)"
   ]
  },
  {
   "cell_type": "code",
   "execution_count": null,
   "metadata": {},
   "outputs": [],
   "source": [
    "## Analysing the importance of each feature.\n",
    "importance = classifier.coef_[0]\n",
    "for i,v in enumerate(importance):\n",
    "\tprint('Feature: %0d, Score: %.5f' % (i,v))"
   ]
  },
  {
   "cell_type": "code",
   "execution_count": null,
   "metadata": {},
   "outputs": [],
   "source": [
    "## Analysing the accuracy by using cross validation method.\n",
    "from sklearn.model_selection import cross_val_score\n",
    "accuracies = cross_val_score(estimator = classifier, X = X_train, y = y_train, cv = 10)\n",
    "print(\"Accuracy: {:.2f} %\".format(accuracies.mean()*100))\n",
    "print(\"Standard Deviation: {:.2f} %\".format(accuracies.std()*100))"
   ]
  },
  {
   "cell_type": "code",
   "execution_count": null,
   "metadata": {},
   "outputs": [],
   "source": [
    "## Analysing the accuracy by ridge and lasso regression to avoid overfitting of model.\n",
    "classifier2 = LogisticRegression(C=0.01,penalty='l2',multi_class = 'multinomial')\n",
    "classifier2.fit(X_train, y_train)\n",
    "y_pred2 = classifier2.predict(X_test)\n",
    "print(\"Non zero weights : \",np.count_nonzero(classifier.coef_))"
   ]
  },
  {
   "cell_type": "code",
   "execution_count": null,
   "metadata": {},
   "outputs": [],
   "source": [
    "## Importing the confusion matrix and accuracy score.\n",
    "cm2 = confusion_matrix(y_test, y_pred2)\n",
    "print(cm2)\n",
    "accuracy_score(y_test, y_pred2)"
   ]
  },
  {
   "cell_type": "markdown",
   "metadata": {},
   "source": [
    "# RANDOM FOREST MODEL"
   ]
  },
  {
   "cell_type": "code",
   "execution_count": null,
   "metadata": {},
   "outputs": [],
   "source": [
    "## X contains all independent variables right from PBDIT margin to Return on assets.\n",
    "## Y contains the dependent variable - default.\n",
    "X = df2.iloc[:, 4:13].values\n",
    "y = df2.iloc[:, 2].values"
   ]
  },
  {
   "cell_type": "code",
   "execution_count": null,
   "metadata": {},
   "outputs": [],
   "source": [
    "## Importing the train and test function to split 80% into training set and rest 20% into testing set.\n",
    "from sklearn.model_selection import train_test_split\n",
    "X_train, X_test, y_train, y_test = train_test_split(X, y, test_size = 0.25, random_state = 0)"
   ]
  },
  {
   "cell_type": "code",
   "execution_count": null,
   "metadata": {},
   "outputs": [],
   "source": [
    "## Standardizing all the values so that no column dominates the other columns.\n",
    "from sklearn.preprocessing import StandardScaler\n",
    "sc = StandardScaler()\n",
    "\n",
    "X_train = sc.fit_transform(X_train)\n",
    "X_test = sc.transform(X_test)"
   ]
  },
  {
   "cell_type": "code",
   "execution_count": null,
   "metadata": {},
   "outputs": [],
   "source": [
    "## Importing RandomForestCLassifier class from sklearn library and fitting it on the training set.\n",
    "from sklearn.ensemble import RandomForestClassifier\n",
    "classifier = RandomForestClassifier(n_estimators = 6, criterion = 'entropy', random_state = 0)\n",
    "classifier.fit(X_train, y_train)"
   ]
  },
  {
   "cell_type": "code",
   "execution_count": null,
   "metadata": {},
   "outputs": [],
   "source": [
    "## Predicting the results by using the X_test data.\n",
    "y_pred = classifier.predict(X_test)\n",
    "print(np.concatenate((y_pred.reshape(len(y_pred),1), y_test.reshape(len(y_test),1)),1))"
   ]
  },
  {
   "cell_type": "code",
   "execution_count": null,
   "metadata": {},
   "outputs": [],
   "source": [
    "## Importing the confusion matrix and accuracy score to check the accuracy of the predictions.\n",
    "from sklearn.metrics import confusion_matrix, accuracy_score\n",
    "cm = confusion_matrix(y_test, y_pred)\n",
    "print(cm)\n",
    "accuracy_score(y_test, y_pred)"
   ]
  },
  {
   "cell_type": "code",
   "execution_count": null,
   "metadata": {},
   "outputs": [],
   "source": [
    "## Analysing the accuracy by using cross validation method.\n",
    "from sklearn.model_selection import cross_val_score\n",
    "accuracies = cross_val_score(estimator = classifier, X = X_train, y = y_train, cv = 10)\n",
    "print(\"Accuracy: {:.2f} %\".format(accuracies.mean()*100))\n",
    "print(\"Standard Deviation: {:.2f} %\".format(accuracies.std()*100))"
   ]
  },
  {
   "cell_type": "code",
   "execution_count": null,
   "metadata": {},
   "outputs": [],
   "source": [
    "## Feature importance\n",
    "importances = classifier.feature_importances_"
   ]
  },
  {
   "cell_type": "code",
   "execution_count": null,
   "metadata": {},
   "outputs": [],
   "source": [
    "## PLotting the histogram for all the features as per their importance.\n",
    "std = np.std([classifier.feature_importances_ for tree in classifier.estimators_],\n",
    "             axis=0)\n",
    "indices = np.argsort(importances)[::-1]\n",
    "\n",
    "# Print the feature ranking\n",
    "print(\"Feature ranking:\")\n",
    "\n",
    "for f in range(X.shape[1]):\n",
    "    print(\"%d. feature %d (%f)\" % (f + 1, indices[f], importances[indices[f]]))\n",
    "\n",
    "# Plot the impurity-based feature importances of the forest\n",
    "plt.figure()\n",
    "plt.title(\"Feature importances\")\n",
    "plt.bar(range(X.shape[1]), importances[indices],\n",
    "        color=\"r\", yerr=std[indices], align=\"center\")\n",
    "plt.xticks(range(X.shape[1]), indices)\n",
    "plt.xlim([-1, X.shape[1]])\n",
    "plt.show()"
   ]
  },
  {
   "cell_type": "markdown",
   "metadata": {},
   "source": [
    "# XG BOOST"
   ]
  },
  {
   "cell_type": "code",
   "execution_count": null,
   "metadata": {},
   "outputs": [],
   "source": [
    "## X contains all independent variables right from PBDIT margin to Return on assets.\n",
    "## Y contains the dependent variable - default.\n",
    "X = df2.iloc[:, 4:13].values\n",
    "y = df2.iloc[:, 2].values"
   ]
  },
  {
   "cell_type": "code",
   "execution_count": null,
   "metadata": {},
   "outputs": [],
   "source": [
    "## Importing the train and test function to split 80% into training set and rest 20% into testing set.\n",
    "from sklearn.model_selection import train_test_split\n",
    "X_train, X_test, y_train, y_test = train_test_split(X, y, test_size = 0.25, random_state = 0)"
   ]
  },
  {
   "cell_type": "code",
   "execution_count": null,
   "metadata": {},
   "outputs": [],
   "source": [
    "## Since xgboost doesnt need standardisation, directly Importing XBGCLassifier class from sklearn library and fitting it on the training set.\n",
    "from xgboost import XGBClassifier\n",
    "classifier = XGBClassifier(learningrate=0.1, objective='multi:softmax', num_class = 4)\n",
    "classifier.fit(X_train, y_train)"
   ]
  },
  {
   "cell_type": "code",
   "execution_count": null,
   "metadata": {},
   "outputs": [],
   "source": [
    "## Predicting the results and Importing the confusion matrix and accuracy score to check the accuracy of the predictions.\n",
    "from sklearn.metrics import confusion_matrix, accuracy_score\n",
    "y_pred = classifier.predict(X_test)\n",
    "cm = confusion_matrix(y_test, y_pred)\n",
    "print(cm)\n",
    "accuracy_score(y_test, y_pred)"
   ]
  },
  {
   "cell_type": "code",
   "execution_count": null,
   "metadata": {},
   "outputs": [],
   "source": [
    "## Analysing the accuracy by using cross validation method.\n",
    "from sklearn.model_selection import cross_val_score\n",
    "accuracies = cross_val_score(estimator = classifier, X = X_train, y = y_train, cv = 10)\n",
    "print(\"Accuracy: {:.2f} %\".format(accuracies.mean()*100))\n",
    "print(\"Standard Deviation: {:.2f} %\".format(accuracies.std()*100))"
   ]
  },
  {
   "cell_type": "markdown",
   "metadata": {},
   "source": [
    "# ARTIFICIAL NEURAL NETWORKS (ANN)"
   ]
  },
  {
   "cell_type": "code",
   "execution_count": 94,
   "metadata": {},
   "outputs": [],
   "source": [
    "##Importing tensorflow and keras\n",
    "import tensorflow as tf\n",
    "from tensorflow import keras"
   ]
  },
  {
   "cell_type": "code",
   "execution_count": 95,
   "metadata": {},
   "outputs": [],
   "source": [
    "np.random.seed(42)\n",
    "tf.random.set_seed(42)"
   ]
  },
  {
   "cell_type": "code",
   "execution_count": 109,
   "metadata": {},
   "outputs": [],
   "source": [
    "## Setting up the input dimensions for ANN\n",
    "input_dim = X_train.shape[1]"
   ]
  },
  {
   "cell_type": "code",
   "execution_count": 112,
   "metadata": {},
   "outputs": [],
   "source": [
    "## Building up the model with 23 input layers and 1 output layer.\n",
    "model = keras.models.Sequential()\n",
    "model.add(keras.layers.Dense(units=25088, input_dim=input_dim, activation=\"relu\"))\n",
    "model.add(keras.layers.Dense(4096, activation=\"relu\"))\n",
    "model.add(keras.layers.Dense(4096, activation=\"relu\"))\n",
    "model.add(keras.layers.Dense(1000, activation=\"relu\"))\n",
    "model.add(keras.layers.Dense(4, activation=\"softmax\"))"
   ]
  },
  {
   "cell_type": "code",
   "execution_count": 113,
   "metadata": {},
   "outputs": [
    {
     "name": "stdout",
     "output_type": "stream",
     "text": [
      "Model: \"sequential_3\"\n",
      "_________________________________________________________________\n",
      "Layer (type)                 Output Shape              Param #   \n",
      "=================================================================\n",
      "dense_24 (Dense)             (None, 25088)             250880    \n",
      "_________________________________________________________________\n",
      "dense_25 (Dense)             (None, 4096)              102764544 \n",
      "_________________________________________________________________\n",
      "dense_26 (Dense)             (None, 4096)              16781312  \n",
      "_________________________________________________________________\n",
      "dense_27 (Dense)             (None, 1000)              4097000   \n",
      "_________________________________________________________________\n",
      "dense_28 (Dense)             (None, 4)                 4004      \n",
      "=================================================================\n",
      "Total params: 123,897,740\n",
      "Trainable params: 123,897,740\n",
      "Non-trainable params: 0\n",
      "_________________________________________________________________\n"
     ]
    }
   ],
   "source": [
    "## To see the total amaount of parameters.\n",
    "model.summary()"
   ]
  },
  {
   "cell_type": "code",
   "execution_count": 114,
   "metadata": {},
   "outputs": [],
   "source": [
    "## Compiling the model\n",
    "model.compile(loss=\"sparse_categorical_crossentropy\",\n",
    "              optimizer=\"RMSprop\",\n",
    "              metrics=[\"accuracy\"])"
   ]
  },
  {
   "cell_type": "code",
   "execution_count": 115,
   "metadata": {},
   "outputs": [
    {
     "name": "stdout",
     "output_type": "stream",
     "text": [
      "Train on 6534 samples\n",
      "Epoch 1/10\n",
      "WARNING:tensorflow:Entity <function Function._initialize_uninitialized_variables.<locals>.initialize_variables at 0x0000022753F53EA0> could not be transformed and will be executed as-is. Please report this to the AutoGraph team. When filing the bug, set the verbosity to 10 (on Linux, `export AUTOGRAPH_VERBOSITY=10`) and attach the full output. Cause: module 'gast' has no attribute 'Num'\n",
      "WARNING: Entity <function Function._initialize_uninitialized_variables.<locals>.initialize_variables at 0x0000022753F53EA0> could not be transformed and will be executed as-is. Please report this to the AutoGraph team. When filing the bug, set the verbosity to 10 (on Linux, `export AUTOGRAPH_VERBOSITY=10`) and attach the full output. Cause: module 'gast' has no attribute 'Num'\n",
      "6534/6534 [==============================] - 495s 76ms/sample - loss: 1.2616 - accuracy: 0.7063\n",
      "Epoch 2/10\n",
      "6534/6534 [==============================] - 497s 76ms/sample - loss: 0.6630 - accuracy: 0.7412\n",
      "Epoch 3/10\n",
      "6534/6534 [==============================] - 482s 74ms/sample - loss: 0.6441 - accuracy: 0.7446\n",
      "Epoch 4/10\n",
      "6534/6534 [==============================] - 482s 74ms/sample - loss: 0.6230 - accuracy: 0.7485\n",
      "Epoch 5/10\n",
      "6534/6534 [==============================] - 481s 74ms/sample - loss: 0.6192 - accuracy: 0.7496\n",
      "Epoch 6/10\n",
      "6534/6534 [==============================] - 481s 74ms/sample - loss: 0.6068 - accuracy: 0.7577\n",
      "Epoch 7/10\n",
      "6534/6534 [==============================] - 482s 74ms/sample - loss: 0.6020 - accuracy: 0.7568\n",
      "Epoch 8/10\n",
      "6534/6534 [==============================] - 481s 74ms/sample - loss: 0.5957 - accuracy: 0.7600\n",
      "Epoch 9/10\n",
      "6534/6534 [==============================] - 479s 73ms/sample - loss: 0.5879 - accuracy: 0.7596\n",
      "Epoch 10/10\n",
      "6534/6534 [==============================] - 483s 74ms/sample - loss: 0.5864 - accuracy: 0.7582\n"
     ]
    }
   ],
   "source": [
    "##Training on different epochs\n",
    "model_history = model.fit(X_train, y_train, epochs=100)"
   ]
  },
  {
   "cell_type": "code",
   "execution_count": 116,
   "metadata": {},
   "outputs": [
    {
     "data": {
      "text/plain": [
       "{'batch_size': 32,\n",
       " 'epochs': 10,\n",
       " 'steps': 205,\n",
       " 'samples': 6534,\n",
       " 'verbose': 1,\n",
       " 'do_validation': False,\n",
       " 'metrics': ['loss', 'accuracy']}"
      ]
     },
     "execution_count": 116,
     "metadata": {},
     "output_type": "execute_result"
    }
   ],
   "source": [
    "## Information abou different parameters\n",
    "model_history.params"
   ]
  },
  {
   "cell_type": "code",
   "execution_count": 117,
   "metadata": {},
   "outputs": [
    {
     "data": {
      "image/png": "[encoded data removed]",
      "text/plain": [
       "<Figure size 576x360 with 1 Axes>"
      ]
     },
     "metadata": {
      "needs_background": "light"
     },
     "output_type": "display_data"
    }
   ],
   "source": [
    "##To see the plot\n",
    "import pandas as pd\n",
    "\n",
    "pd.DataFrame(model_history.history).plot(figsize=(8, 5))\n",
    "plt.grid(True)\n",
    "plt.gca().set_ylim(0, 1)\n",
    "plt.show()"
   ]
  },
  {
   "cell_type": "code",
   "execution_count": 118,
   "metadata": {},
   "outputs": [
    {
     "name": "stdout",
     "output_type": "stream",
     "text": [
      "2179/1 [==========================================================================================================================================================================================================================================================================================================================================================================================================================================================================================================================================================================================================================================================================================================================================================================================================================================================================================================================================================================================================================================================================================================================================================================================================================================================================================================================================================================================================================================================================================================================================================================================================================================================================================================================================================================================================================================================================================================================================================================================================================================================================================================================================================================================================================================================================================================================================================================================================================================================================================================================================================================================================================================================================================================================================================================================================================================================================================================================================================================================================================================================================================================================================================================================================================================================================================================================================================================================================================================================================================================================================================================================================================================================================================================================================================================================================================================================================================================================================================================================================================================================================================================================================================================================================================================================================================================================================================================================================================================================================================================================================================================================================================================================================================================================================================================================================================================================================================================================================================================================================================================================================================================================================================================================================================================================================================================================================================================================================================================================================================================================================================================================================================================================================================================================================================================================================================================================================================================================================================================================================================================================================================================================================================================================================================================================================================================================================================================================================================================================================================================================================================================================================================================================================================================================================================================================================================================================================================================================================================================================================================================================================================================================================================================================================================================================================================================================================================================================================================================================================================================================================================================================================================================================================================================================================================================================================================================================================================================================================================================================================================================================================================================================================================================================================================================================================================================================================================================================================================================================================================================================================================================================================================================================================================================================================================================================================================================================================================================================================================================================================================================================================================================================================================================================================================================================================================================================================================================================================================================================================================================================================================================================================================================================================================================================================================================================================================================================================================================================================================================================================================================================================================================================================================================================================================================================================================================================================================================================================================================================================================================================================================================================================================================================================================================================================================================================================================================================================================================================================================================================================================================================================================================================================================================================================================================================================================================================================================================================================================================================================================================================================================================================================================================================================================================================================================================================================================================================================================================================================================================================================================================================================================================================================================================================================================================================================================================================================================================================================================================================================================================================================================================================================================================================================================================================================================================================================================================================================================================================================================================================================================================================================================================================================================================================================================================================================================================================================================================================================================================================================================================================================================================================================================================================================================================================================================================================================================================================================================================================================================================================================================================================================================================================================================================================================================================================================================================================================================================================================================================================================================================================================================================================================================================================================================================================================================================================================================================================================================================================================================================================================================================================================================================================================================================================================================================================================================================================================================================================================================================================================================================================================================================================================================================================================================================================================================================================================================================================================================================================================================================================================================================================================================================================================================================================================================================================================================================================================================================================================================================================================================================================================================================================================================================================================================================================================================================================================================================================================================================================================================================================================================================================================================================================================================================================================================================================================================================================================================================================================================================================================================================================================================================================================================================================================================================================================================================================================================================================================================================================================================================================================================================================================================================================================================================================================================================================================================================================================================================================================================================================================================================================================================================================================================================================================================================================================================================================================================================================================================================================================================================================================================================================================================================================================================================================================================================================================================================================================================================================================================================================================================================================================================================================================================================================================================================================================================================================================================================================================================================================================================================================================================================================================================================================================================================================================================================================================================================================================================================================================================================================================================================================================================================================================================================================================================================================================================================================================================================================================================================================================================================================================================================================================================================================================================================================================================================================================================================================================================================================================================================================================================================================================================================================================================================================================================================================================================================================================================================================================================================================================================================================================================================================================================================================================================================================================================================================================================================================================================================================================================================================================================================================================================================================================================================================================================================================================================================================================================================================================================================================================================================================================================================================================================================================================================================================================================================================================================================================================================================================================================================================================================================================================================================================================================================================================================================================================================================================================================================================================================================================================================================================================================================================================================================================================================================================================================================================================================================================================================================================================================================================================================================================================================================================================================================================================================================================================================================================================================================================================================================================================================================================================================================================================================================================================================================================================================================================================================================================================================================================================================================================================================================================================================================================================================================================================================================================================================================================================================================================================================================================================================================================================================================================================================================================================================================================================================================================================================================================================================================================================================================================================================================================================================================================================================================================================================================================================================================================================================================================================================================================================================================================================================================================================================================================================================================================================================================================================================================================================================================================================================================================================================================================================================================================================================================================================================================================================================================================================================================================================================================================================================================================================================================================================================================================================================================================================================================================================================================================================================================================================================================================================================================================================================================================================================================================================================================================================================================================================================================================================================================================================================================================================================================================================================================================================================================================================================================================================================================================================================================================================================================================================================================================================================================================================================================================================================================================================================================================================================================================================================================================================================================================================================================================================================================================================================================================================================================================================================================================================================================================================================================================================================================================================================================================================================================================================================================================================================================================================================================================================================================================================================================================================================================================================================================================================================================================================================================================================================================================================================================================================================================================================================================================================================================================================================================================================================================================================================================================================================================================================================================================================================================================================================================================================================================================================================================================================================================================================================================================================================================================================================================================================================================================================================================================================================================================================================================================================================================================================================================================================================================================================================================================================================================================================================================================================================================================================================================================================================================================================================================================================================================================================================================================================================================================================================================================================================================================================================================================================================================================================================================================================================================================================================================================================================================================================================================================================================================================================================================================================================================================================================================================================================================================================================================================================================================================================================================================================================================================================================================================================================================================================================================================================================================================================================================================================================================================================================================================================================================================================================================================================================================================================================================================================================================================================================================================================================================================================================================================================================================================================================================================================================================================================================================================================================================================================================================================================================================================================================================================================================================================================================================================================================================================================================================================================================================================================================================================================================================================================================================================================================================================================================================================================================================================================================================================================================================================================================================================================================================================================================================================================================================================================================================================================================================================================================================================================================================================================================================================================================================================================================================================================================================================================================================================================================================================================================================================================================================================================================================================================================================================================================================================================================================================================================================================================================================================================================================================================================================================================================================================================================================================================================================================================================================================================================================================================================================================================================================================================================================================================================================================================================================================================================================================================================================================================================================================================================================================================================================================================================================================================================================================================================================================================================================================================================================================================================================================================================================================================================================================================================================================================================================================================================================================================================================================================================================================================================================================================================================================================================================================================================================================================================================================================================================================================================================================================================================================================================================================================================================================================================================================================================================================================================================================================================================================================================================================================================================================================================================================================================================================================================================================================================================================================================================================================================================================================================================================================================================================================================================================================================================================================================================================================================================================================================================================================================================================================================================================================================================================================================================================================================================================================================================================================================================================================================================================================================================================================================================================================================================================================================================================================================================================================================================================================================================================================================================================================================================================================================================================================================================================================================================================================================================================================================================================================================================================================================================================================================================================================================================================================================================================================================================================================================================================================================================================================================================================================================================================================================================================================================================================================================================================================================================================================================================================================================================================================================================================================================================================================================================================================================================================================================================================================================================================================================================================================================================================================================================================================================================================================================================================================================================================================================================================================================================================================================================================================================================================================================================================================================================================================================================================================================================================================================================================================================================================================================================================================================================================================================================================================================================================================================================================================================================================================================================================================================================================================================================================================================================================================================================================================================================================================================================================================================================================================================================================================================================================================================================================================================================================================================================================================================================================================================================================================================================================================================================================================================================================================================================================================================================================================================================================================================================================================================================================================================================================================================================================================================================================================================================================================================================================================================================================================================================================================================================================================================================================================================================================================================================================================================================================================================================================================================================================================================================================================================================================================================================================================================================================================================================================================================================================================================================================================================================================================================================================================================================================================================================================================================================================================================================================================================================================================================================================================================================================================================================================================================================================================================================================================================================================================================================================================================================================================================================================================================================================================================================================================================================================================================================================================================================================================================================================================================================================================================================================================================================================================================================================================================================================================================================================================================================================================================================================================================================================================================================================================================================================================================================================================================================================================================================================================================================================================================================================================================================================================================================================================================================================================================================================================================================================================================================================================================================================================================================================================================================================================================================================================================================================================================================================================================================================================================================================================================================================================================================================================================================================================================================================================================================================================================================================================================================================================================================================================================================================================================================================================================================================================================================================================================================================================================================================================================================================================================================================================================================================================================================================================================================================================================================================================================================================================================================================================================================================================================================================================================================================================================================================================================================================================================================================================================================================================================================================================================================================================================================================================================================================================================================================================================================================================================================================================================================================================================================================================================================================================================================================================================================================================================================================================================================================================================================================================================================================================================================================================================================================================================================================================================================================================================================================================================================================================================================================================================================================================================================================================================================================================================================================================================================================================================================================================================================================================================================================================================================================================================================================================================================================================================================================================================================================================================================================================================================================================================================================================================================================================================================================================================================================================================================================================================================================================================================================================================================================================================================================================================================================================================================================================================================================================================================================================================================================================================================================================================================================================================================================================================================================================================================================================================================================================================================================================================================================================================================================================================================================================================================================================================================================================================================================================================================================================================================================================================================================================================================================================================================================================================================================================================================================================================================================================================================================================================================================================================================================================================================================================================================================================================================================================================================================================================================================================================================================================================================================================================================================================================================================================================================================================================================================================================================================================================================================================================================================================================================================================================================================================================================================================================================================================================================================================================================================================================================================================================================================================================================================================================================================================================================================================================================================================================================================================================================================================================================================================================================================================================================================================================================================================================================================================================================================================================================================================================================================================================================================================================================================================================================================================================================================================================================================================================================================================================================================================================================================================================================================================================================================================================================================================================================================================================================================================================================================================================================================================================================================================================================================================================================================================================================================================================================================================================================================================================================================================================================================================================================================================================================================================================================================================================================================================================================================================================================================================================================================================================================================================================================================================================================================================================================================================================================================================================================================================================================================================================================================================================================================================================================================================================================================================================================================================================================================================================================================================================================================================================================================================================================================================================================================================================================================================================================================================================================================================================================================================================================================================================================================================================================================================================================================================================================================================================================================================================================================================================================================================================================================================================================================================================================================================================================================================================================================================================================================================================================================================================================================================================================================================================================================================================================================================================================================================================================================================================================================================================================================================================================================================================================================================================================================================================================================================================] - 19s 9ms/sample - loss: 0.9229 - accuracy: 0.7499\n"
     ]
    },
    {
     "data": {
      "text/plain": [
       "[0.651417760358813, 0.74988526]"
      ]
     },
     "execution_count": 118,
     "metadata": {},
     "output_type": "execute_result"
    }
   ],
   "source": [
    "##Evaluating the model\n",
    "model.evaluate(X_test, y_test)"
   ]
  },
  {
   "cell_type": "code",
   "execution_count": null,
   "metadata": {},
   "outputs": [],
   "source": [
    "## Predicting on test data or we can predict on new data too\n",
    "y_pred = model.predict_classes(X_test)\n",
    "y_pred"
   ]
  },
  {
   "cell_type": "code",
   "execution_count": null,
   "metadata": {},
   "outputs": [],
   "source": [
    "## Building the confusion matrix and accuracy\n",
    "from sklearn.metrics import confusion_matrix, accuracy_score\n",
    "cm = confusion_matrix(y_test, y_pred)\n",
    "print(cm)\n",
    "accuracy_score(y_test, y_pred)"
   ]
  },
  {
   "cell_type": "code",
   "execution_count": 98,
   "metadata": {},
   "outputs": [
    {
     "name": "stderr",
     "output_type": "stream",
     "text": [
      "Using TensorFlow backend.\n"
     ]
    }
   ],
   "source": [
    "## To see different layers of VGG16\n",
    "from keras.applications.vgg16 import VGG16"
   ]
  },
  {
   "cell_type": "code",
   "execution_count": 99,
   "metadata": {},
   "outputs": [],
   "source": [
    "base_model = VGG16()"
   ]
  },
  {
   "cell_type": "code",
   "execution_count": 100,
   "metadata": {},
   "outputs": [
    {
     "name": "stdout",
     "output_type": "stream",
     "text": [
      "Model: \"vgg16\"\n",
      "_________________________________________________________________\n",
      "Layer (type)                 Output Shape              Param #   \n",
      "=================================================================\n",
      "input_1 (InputLayer)         (None, 224, 224, 3)       0         \n",
      "_________________________________________________________________\n",
      "block1_conv1 (Conv2D)        (None, 224, 224, 64)      1792      \n",
      "_________________________________________________________________\n",
      "block1_conv2 (Conv2D)        (None, 224, 224, 64)      36928     \n",
      "_________________________________________________________________\n",
      "block1_pool (MaxPooling2D)   (None, 112, 112, 64)      0         \n",
      "_________________________________________________________________\n",
      "block2_conv1 (Conv2D)        (None, 112, 112, 128)     73856     \n",
      "_________________________________________________________________\n",
      "block2_conv2 (Conv2D)        (None, 112, 112, 128)     147584    \n",
      "_________________________________________________________________\n",
      "block2_pool (MaxPooling2D)   (None, 56, 56, 128)       0         \n",
      "_________________________________________________________________\n",
      "block3_conv1 (Conv2D)        (None, 56, 56, 256)       295168    \n",
      "_________________________________________________________________\n",
      "block3_conv2 (Conv2D)        (None, 56, 56, 256)       590080    \n",
      "_________________________________________________________________\n",
      "block3_conv3 (Conv2D)        (None, 56, 56, 256)       590080    \n",
      "_________________________________________________________________\n",
      "block3_pool (MaxPooling2D)   (None, 28, 28, 256)       0         \n",
      "_________________________________________________________________\n",
      "block4_conv1 (Conv2D)        (None, 28, 28, 512)       1180160   \n",
      "_________________________________________________________________\n",
      "block4_conv2 (Conv2D)        (None, 28, 28, 512)       2359808   \n",
      "_________________________________________________________________\n",
      "block4_conv3 (Conv2D)        (None, 28, 28, 512)       2359808   \n",
      "_________________________________________________________________\n",
      "block4_pool (MaxPooling2D)   (None, 14, 14, 512)       0         \n",
      "_________________________________________________________________\n",
      "block5_conv1 (Conv2D)        (None, 14, 14, 512)       2359808   \n",
      "_________________________________________________________________\n",
      "block5_conv2 (Conv2D)        (None, 14, 14, 512)       2359808   \n",
      "_________________________________________________________________\n",
      "block5_conv3 (Conv2D)        (None, 14, 14, 512)       2359808   \n",
      "_________________________________________________________________\n",
      "block5_pool (MaxPooling2D)   (None, 7, 7, 512)         0         \n",
      "_________________________________________________________________\n",
      "flatten (Flatten)            (None, 25088)             0         \n",
      "_________________________________________________________________\n",
      "fc1 (Dense)                  (None, 4096)              102764544 \n",
      "_________________________________________________________________\n",
      "fc2 (Dense)                  (None, 4096)              16781312  \n",
      "_________________________________________________________________\n",
      "predictions (Dense)          (None, 1000)              4097000   \n",
      "=================================================================\n",
      "Total params: 138,357,544\n",
      "Trainable params: 138,357,544\n",
      "Non-trainable params: 0\n",
      "_________________________________________________________________\n",
      "None\n"
     ]
    }
   ],
   "source": [
    "print(base_model.summary())"
   ]
  },
  {
   "cell_type": "markdown",
   "metadata": {},
   "source": [
    "# NAIVE BAYES"
   ]
  },
  {
   "cell_type": "code",
   "execution_count": null,
   "metadata": {},
   "outputs": [],
   "source": [
    "## Setting up X and Y variables\n",
    "X = df2.iloc[:, 4:13].values\n",
    "y = df2.iloc[:, 2].values"
   ]
  },
  {
   "cell_type": "code",
   "execution_count": null,
   "metadata": {},
   "outputs": [],
   "source": [
    "## Splitting up the data on train and test\n",
    "from sklearn.model_selection import train_test_split\n",
    "X_train, X_test, y_train, y_test = train_test_split(X, y, test_size = 0.2, random_state = 0)"
   ]
  },
  {
   "cell_type": "code",
   "execution_count": null,
   "metadata": {},
   "outputs": [],
   "source": [
    "## Standardizing the variables\n",
    "from sklearn.preprocessing import StandardScaler\n",
    "sc = StandardScaler()\n",
    "\n",
    "X_train = sc.fit_transform(X_train)\n",
    "X_test = sc.transform(X_test)"
   ]
  },
  {
   "cell_type": "code",
   "execution_count": null,
   "metadata": {},
   "outputs": [],
   "source": [
    "## Importing Gaussian Naive Bayes\n",
    "from sklearn.naive_bayes import GaussianNB\n",
    "classifier = GaussianNB()\n",
    "classifier.fit(X_train, y_train)"
   ]
  },
  {
   "cell_type": "code",
   "execution_count": null,
   "metadata": {},
   "outputs": [],
   "source": [
    "## Predicting on X-test\n",
    "y_pred = classifier.predict(X_test)"
   ]
  },
  {
   "cell_type": "code",
   "execution_count": null,
   "metadata": {},
   "outputs": [],
   "source": [
    "## Importing confusion matrix and accuracy\n",
    "from sklearn.metrics import confusion_matrix, accuracy_score\n",
    "cm = confusion_matrix(y_test, y_pred)\n",
    "print(cm)\n",
    "accuracy_score(y_test, y_pred)"
   ]
  },
  {
   "cell_type": "code",
   "execution_count": null,
   "metadata": {},
   "outputs": [],
   "source": [
    "##  Importing cross validation and checking accuracy \n",
    "from sklearn.model_selection import cross_val_score\n",
    "accuracies = cross_val_score(estimator = classifier, X = X_train, y = y_train, cv = 10)\n",
    "print(\"Accuracy: {:.2f} %\".format(accuracies.mean()*100))\n",
    "print(\"Standard Deviation: {:.2f} %\".format(accuracies.std()*100))"
   ]
  },
  {
   "cell_type": "code",
   "execution_count": null,
   "metadata": {},
   "outputs": [],
   "source": []
  }
 ],
 "metadata": {
  "kernelspec": {
   "display_name": "Python 3",
   "language": "python",
   "name": "python3"
  },
  "language_info": {
   "codemirror_mode": {
    "name": "ipython",
    "version": 3
   },
   "file_extension": ".py",
   "mimetype": "text/x-python",
   "name": "python",
   "nbconvert_exporter": "python",
   "pygments_lexer": "ipython3",
   "version": "3.7.3"
  }
 },
 "nbformat": 4,
 "nbformat_minor": 2
}
